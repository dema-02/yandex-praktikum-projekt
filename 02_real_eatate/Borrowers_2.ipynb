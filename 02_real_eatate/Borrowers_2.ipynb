{
 "cells": [
  {
   "cell_type": "markdown",
   "id": "f661585b",
   "metadata": {
    "deletable": false,
    "editable": false,
    "id": "c81daeeb"
   },
   "source": [
    "# Исследование надежности заемщиков\n"
   ]
  },
  {
   "cell_type": "markdown",
   "id": "9dcdf141",
   "metadata": {
    "deletable": false,
    "editable": false,
    "id": "827c20bf"
   },
   "source": [
    "Во второй части проекта вы выполните шаги 3 и 4. Их вручную проверит ревьюер.\n",
    "Чтобы вам не пришлось писать код заново для шагов 1 и 2, мы добавили авторские решения в ячейки с кодом. \n",
    "\n"
   ]
  },
  {
   "cell_type": "markdown",
   "id": "eb44a17f",
   "metadata": {
    "deletable": false,
    "editable": false,
    "id": "744d7639"
   },
   "source": [
    "## Откройте таблицу и изучите общую информацию о данных"
   ]
  },
  {
   "cell_type": "markdown",
   "id": "2b87d925",
   "metadata": {
    "deletable": false,
    "editable": false,
    "id": "e7a14c31"
   },
   "source": [
    "**Задание 1. Импортируйте библиотеку pandas. Считайте данные из csv-файла в датафрейм и сохраните в переменную `data`. Путь к файлу:**\n",
    "\n",
    "`/datasets/data.csv`"
   ]
  },
  {
   "cell_type": "code",
   "execution_count": 1,
   "id": "853b1fe6",
   "metadata": {},
   "outputs": [],
   "source": [
    "import warnings\n",
    "warnings.filterwarnings('ignore')"
   ]
  },
  {
   "cell_type": "code",
   "execution_count": 2,
   "id": "5a55cdeb",
   "metadata": {
    "deletable": false,
    "id": "7bcf75c9"
   },
   "outputs": [],
   "source": [
    "import pandas as pd\n",
    "\n",
    "try:\n",
    "    data = pd.read_csv('/datasets/data.csv')\n",
    "except:\n",
    "    data = pd.read_csv('https://code.s3.yandex.net/datasets/data.csv')"
   ]
  },
  {
   "cell_type": "markdown",
   "id": "359edadb",
   "metadata": {
    "deletable": false,
    "editable": false,
    "id": "b8038fe3"
   },
   "source": [
    "**Задание 2. Выведите первые 20 строчек датафрейма `data` на экран.**"
   ]
  },
  {
   "cell_type": "code",
   "execution_count": 3,
   "id": "f3b1d6e1",
   "metadata": {
    "deletable": false,
    "id": "2a7cab99",
    "outputId": "1a8f3ef2-d323-4ec2-ddf7-89670b5944c4"
   },
   "outputs": [
    {
     "data": {
      "text/html": [
       "<div>\n",
       "<style scoped>\n",
       "    .dataframe tbody tr th:only-of-type {\n",
       "        vertical-align: middle;\n",
       "    }\n",
       "\n",
       "    .dataframe tbody tr th {\n",
       "        vertical-align: top;\n",
       "    }\n",
       "\n",
       "    .dataframe thead th {\n",
       "        text-align: right;\n",
       "    }\n",
       "</style>\n",
       "<table border=\"1\" class=\"dataframe\">\n",
       "  <thead>\n",
       "    <tr style=\"text-align: right;\">\n",
       "      <th></th>\n",
       "      <th>children</th>\n",
       "      <th>days_employed</th>\n",
       "      <th>dob_years</th>\n",
       "      <th>education</th>\n",
       "      <th>education_id</th>\n",
       "      <th>family_status</th>\n",
       "      <th>family_status_id</th>\n",
       "      <th>gender</th>\n",
       "      <th>income_type</th>\n",
       "      <th>debt</th>\n",
       "      <th>total_income</th>\n",
       "      <th>purpose</th>\n",
       "    </tr>\n",
       "  </thead>\n",
       "  <tbody>\n",
       "    <tr>\n",
       "      <th>0</th>\n",
       "      <td>1</td>\n",
       "      <td>-8437.673028</td>\n",
       "      <td>42</td>\n",
       "      <td>высшее</td>\n",
       "      <td>0</td>\n",
       "      <td>женат / замужем</td>\n",
       "      <td>0</td>\n",
       "      <td>F</td>\n",
       "      <td>сотрудник</td>\n",
       "      <td>0</td>\n",
       "      <td>253875.639453</td>\n",
       "      <td>покупка жилья</td>\n",
       "    </tr>\n",
       "    <tr>\n",
       "      <th>1</th>\n",
       "      <td>1</td>\n",
       "      <td>-4024.803754</td>\n",
       "      <td>36</td>\n",
       "      <td>среднее</td>\n",
       "      <td>1</td>\n",
       "      <td>женат / замужем</td>\n",
       "      <td>0</td>\n",
       "      <td>F</td>\n",
       "      <td>сотрудник</td>\n",
       "      <td>0</td>\n",
       "      <td>112080.014102</td>\n",
       "      <td>приобретение автомобиля</td>\n",
       "    </tr>\n",
       "    <tr>\n",
       "      <th>2</th>\n",
       "      <td>0</td>\n",
       "      <td>-5623.422610</td>\n",
       "      <td>33</td>\n",
       "      <td>Среднее</td>\n",
       "      <td>1</td>\n",
       "      <td>женат / замужем</td>\n",
       "      <td>0</td>\n",
       "      <td>M</td>\n",
       "      <td>сотрудник</td>\n",
       "      <td>0</td>\n",
       "      <td>145885.952297</td>\n",
       "      <td>покупка жилья</td>\n",
       "    </tr>\n",
       "    <tr>\n",
       "      <th>3</th>\n",
       "      <td>3</td>\n",
       "      <td>-4124.747207</td>\n",
       "      <td>32</td>\n",
       "      <td>среднее</td>\n",
       "      <td>1</td>\n",
       "      <td>женат / замужем</td>\n",
       "      <td>0</td>\n",
       "      <td>M</td>\n",
       "      <td>сотрудник</td>\n",
       "      <td>0</td>\n",
       "      <td>267628.550329</td>\n",
       "      <td>дополнительное образование</td>\n",
       "    </tr>\n",
       "    <tr>\n",
       "      <th>4</th>\n",
       "      <td>0</td>\n",
       "      <td>340266.072047</td>\n",
       "      <td>53</td>\n",
       "      <td>среднее</td>\n",
       "      <td>1</td>\n",
       "      <td>гражданский брак</td>\n",
       "      <td>1</td>\n",
       "      <td>F</td>\n",
       "      <td>пенсионер</td>\n",
       "      <td>0</td>\n",
       "      <td>158616.077870</td>\n",
       "      <td>сыграть свадьбу</td>\n",
       "    </tr>\n",
       "    <tr>\n",
       "      <th>5</th>\n",
       "      <td>0</td>\n",
       "      <td>-926.185831</td>\n",
       "      <td>27</td>\n",
       "      <td>высшее</td>\n",
       "      <td>0</td>\n",
       "      <td>гражданский брак</td>\n",
       "      <td>1</td>\n",
       "      <td>M</td>\n",
       "      <td>компаньон</td>\n",
       "      <td>0</td>\n",
       "      <td>255763.565419</td>\n",
       "      <td>покупка жилья</td>\n",
       "    </tr>\n",
       "    <tr>\n",
       "      <th>6</th>\n",
       "      <td>0</td>\n",
       "      <td>-2879.202052</td>\n",
       "      <td>43</td>\n",
       "      <td>высшее</td>\n",
       "      <td>0</td>\n",
       "      <td>женат / замужем</td>\n",
       "      <td>0</td>\n",
       "      <td>F</td>\n",
       "      <td>компаньон</td>\n",
       "      <td>0</td>\n",
       "      <td>240525.971920</td>\n",
       "      <td>операции с жильем</td>\n",
       "    </tr>\n",
       "    <tr>\n",
       "      <th>7</th>\n",
       "      <td>0</td>\n",
       "      <td>-152.779569</td>\n",
       "      <td>50</td>\n",
       "      <td>СРЕДНЕЕ</td>\n",
       "      <td>1</td>\n",
       "      <td>женат / замужем</td>\n",
       "      <td>0</td>\n",
       "      <td>M</td>\n",
       "      <td>сотрудник</td>\n",
       "      <td>0</td>\n",
       "      <td>135823.934197</td>\n",
       "      <td>образование</td>\n",
       "    </tr>\n",
       "    <tr>\n",
       "      <th>8</th>\n",
       "      <td>2</td>\n",
       "      <td>-6929.865299</td>\n",
       "      <td>35</td>\n",
       "      <td>ВЫСШЕЕ</td>\n",
       "      <td>0</td>\n",
       "      <td>гражданский брак</td>\n",
       "      <td>1</td>\n",
       "      <td>F</td>\n",
       "      <td>сотрудник</td>\n",
       "      <td>0</td>\n",
       "      <td>95856.832424</td>\n",
       "      <td>на проведение свадьбы</td>\n",
       "    </tr>\n",
       "    <tr>\n",
       "      <th>9</th>\n",
       "      <td>0</td>\n",
       "      <td>-2188.756445</td>\n",
       "      <td>41</td>\n",
       "      <td>среднее</td>\n",
       "      <td>1</td>\n",
       "      <td>женат / замужем</td>\n",
       "      <td>0</td>\n",
       "      <td>M</td>\n",
       "      <td>сотрудник</td>\n",
       "      <td>0</td>\n",
       "      <td>144425.938277</td>\n",
       "      <td>покупка жилья для семьи</td>\n",
       "    </tr>\n",
       "    <tr>\n",
       "      <th>10</th>\n",
       "      <td>2</td>\n",
       "      <td>-4171.483647</td>\n",
       "      <td>36</td>\n",
       "      <td>высшее</td>\n",
       "      <td>0</td>\n",
       "      <td>женат / замужем</td>\n",
       "      <td>0</td>\n",
       "      <td>M</td>\n",
       "      <td>компаньон</td>\n",
       "      <td>0</td>\n",
       "      <td>113943.491460</td>\n",
       "      <td>покупка недвижимости</td>\n",
       "    </tr>\n",
       "    <tr>\n",
       "      <th>11</th>\n",
       "      <td>0</td>\n",
       "      <td>-792.701887</td>\n",
       "      <td>40</td>\n",
       "      <td>среднее</td>\n",
       "      <td>1</td>\n",
       "      <td>женат / замужем</td>\n",
       "      <td>0</td>\n",
       "      <td>F</td>\n",
       "      <td>сотрудник</td>\n",
       "      <td>0</td>\n",
       "      <td>77069.234271</td>\n",
       "      <td>покупка коммерческой недвижимости</td>\n",
       "    </tr>\n",
       "    <tr>\n",
       "      <th>12</th>\n",
       "      <td>0</td>\n",
       "      <td>NaN</td>\n",
       "      <td>65</td>\n",
       "      <td>среднее</td>\n",
       "      <td>1</td>\n",
       "      <td>гражданский брак</td>\n",
       "      <td>1</td>\n",
       "      <td>M</td>\n",
       "      <td>пенсионер</td>\n",
       "      <td>0</td>\n",
       "      <td>NaN</td>\n",
       "      <td>сыграть свадьбу</td>\n",
       "    </tr>\n",
       "    <tr>\n",
       "      <th>13</th>\n",
       "      <td>0</td>\n",
       "      <td>-1846.641941</td>\n",
       "      <td>54</td>\n",
       "      <td>неоконченное высшее</td>\n",
       "      <td>2</td>\n",
       "      <td>женат / замужем</td>\n",
       "      <td>0</td>\n",
       "      <td>F</td>\n",
       "      <td>сотрудник</td>\n",
       "      <td>0</td>\n",
       "      <td>130458.228857</td>\n",
       "      <td>приобретение автомобиля</td>\n",
       "    </tr>\n",
       "    <tr>\n",
       "      <th>14</th>\n",
       "      <td>0</td>\n",
       "      <td>-1844.956182</td>\n",
       "      <td>56</td>\n",
       "      <td>высшее</td>\n",
       "      <td>0</td>\n",
       "      <td>гражданский брак</td>\n",
       "      <td>1</td>\n",
       "      <td>F</td>\n",
       "      <td>компаньон</td>\n",
       "      <td>1</td>\n",
       "      <td>165127.911772</td>\n",
       "      <td>покупка жилой недвижимости</td>\n",
       "    </tr>\n",
       "    <tr>\n",
       "      <th>15</th>\n",
       "      <td>1</td>\n",
       "      <td>-972.364419</td>\n",
       "      <td>26</td>\n",
       "      <td>среднее</td>\n",
       "      <td>1</td>\n",
       "      <td>женат / замужем</td>\n",
       "      <td>0</td>\n",
       "      <td>F</td>\n",
       "      <td>сотрудник</td>\n",
       "      <td>0</td>\n",
       "      <td>116820.904450</td>\n",
       "      <td>строительство собственной недвижимости</td>\n",
       "    </tr>\n",
       "    <tr>\n",
       "      <th>16</th>\n",
       "      <td>0</td>\n",
       "      <td>-1719.934226</td>\n",
       "      <td>35</td>\n",
       "      <td>среднее</td>\n",
       "      <td>1</td>\n",
       "      <td>женат / замужем</td>\n",
       "      <td>0</td>\n",
       "      <td>F</td>\n",
       "      <td>сотрудник</td>\n",
       "      <td>0</td>\n",
       "      <td>289202.704229</td>\n",
       "      <td>недвижимость</td>\n",
       "    </tr>\n",
       "    <tr>\n",
       "      <th>17</th>\n",
       "      <td>0</td>\n",
       "      <td>-2369.999720</td>\n",
       "      <td>33</td>\n",
       "      <td>высшее</td>\n",
       "      <td>0</td>\n",
       "      <td>гражданский брак</td>\n",
       "      <td>1</td>\n",
       "      <td>M</td>\n",
       "      <td>сотрудник</td>\n",
       "      <td>0</td>\n",
       "      <td>90410.586745</td>\n",
       "      <td>строительство недвижимости</td>\n",
       "    </tr>\n",
       "    <tr>\n",
       "      <th>18</th>\n",
       "      <td>0</td>\n",
       "      <td>400281.136913</td>\n",
       "      <td>53</td>\n",
       "      <td>среднее</td>\n",
       "      <td>1</td>\n",
       "      <td>вдовец / вдова</td>\n",
       "      <td>2</td>\n",
       "      <td>F</td>\n",
       "      <td>пенсионер</td>\n",
       "      <td>0</td>\n",
       "      <td>56823.777243</td>\n",
       "      <td>на покупку подержанного автомобиля</td>\n",
       "    </tr>\n",
       "    <tr>\n",
       "      <th>19</th>\n",
       "      <td>0</td>\n",
       "      <td>-10038.818549</td>\n",
       "      <td>48</td>\n",
       "      <td>СРЕДНЕЕ</td>\n",
       "      <td>1</td>\n",
       "      <td>в разводе</td>\n",
       "      <td>3</td>\n",
       "      <td>F</td>\n",
       "      <td>сотрудник</td>\n",
       "      <td>0</td>\n",
       "      <td>242831.107982</td>\n",
       "      <td>на покупку своего автомобиля</td>\n",
       "    </tr>\n",
       "  </tbody>\n",
       "</table>\n",
       "</div>"
      ],
      "text/plain": [
       "    children  days_employed  dob_years            education  education_id  \\\n",
       "0          1   -8437.673028         42               высшее             0   \n",
       "1          1   -4024.803754         36              среднее             1   \n",
       "2          0   -5623.422610         33              Среднее             1   \n",
       "3          3   -4124.747207         32              среднее             1   \n",
       "4          0  340266.072047         53              среднее             1   \n",
       "5          0    -926.185831         27               высшее             0   \n",
       "6          0   -2879.202052         43               высшее             0   \n",
       "7          0    -152.779569         50              СРЕДНЕЕ             1   \n",
       "8          2   -6929.865299         35               ВЫСШЕЕ             0   \n",
       "9          0   -2188.756445         41              среднее             1   \n",
       "10         2   -4171.483647         36               высшее             0   \n",
       "11         0    -792.701887         40              среднее             1   \n",
       "12         0            NaN         65              среднее             1   \n",
       "13         0   -1846.641941         54  неоконченное высшее             2   \n",
       "14         0   -1844.956182         56               высшее             0   \n",
       "15         1    -972.364419         26              среднее             1   \n",
       "16         0   -1719.934226         35              среднее             1   \n",
       "17         0   -2369.999720         33               высшее             0   \n",
       "18         0  400281.136913         53              среднее             1   \n",
       "19         0  -10038.818549         48              СРЕДНЕЕ             1   \n",
       "\n",
       "       family_status  family_status_id gender income_type  debt  \\\n",
       "0    женат / замужем                 0      F   сотрудник     0   \n",
       "1    женат / замужем                 0      F   сотрудник     0   \n",
       "2    женат / замужем                 0      M   сотрудник     0   \n",
       "3    женат / замужем                 0      M   сотрудник     0   \n",
       "4   гражданский брак                 1      F   пенсионер     0   \n",
       "5   гражданский брак                 1      M   компаньон     0   \n",
       "6    женат / замужем                 0      F   компаньон     0   \n",
       "7    женат / замужем                 0      M   сотрудник     0   \n",
       "8   гражданский брак                 1      F   сотрудник     0   \n",
       "9    женат / замужем                 0      M   сотрудник     0   \n",
       "10   женат / замужем                 0      M   компаньон     0   \n",
       "11   женат / замужем                 0      F   сотрудник     0   \n",
       "12  гражданский брак                 1      M   пенсионер     0   \n",
       "13   женат / замужем                 0      F   сотрудник     0   \n",
       "14  гражданский брак                 1      F   компаньон     1   \n",
       "15   женат / замужем                 0      F   сотрудник     0   \n",
       "16   женат / замужем                 0      F   сотрудник     0   \n",
       "17  гражданский брак                 1      M   сотрудник     0   \n",
       "18    вдовец / вдова                 2      F   пенсионер     0   \n",
       "19         в разводе                 3      F   сотрудник     0   \n",
       "\n",
       "     total_income                                 purpose  \n",
       "0   253875.639453                           покупка жилья  \n",
       "1   112080.014102                 приобретение автомобиля  \n",
       "2   145885.952297                           покупка жилья  \n",
       "3   267628.550329              дополнительное образование  \n",
       "4   158616.077870                         сыграть свадьбу  \n",
       "5   255763.565419                           покупка жилья  \n",
       "6   240525.971920                       операции с жильем  \n",
       "7   135823.934197                             образование  \n",
       "8    95856.832424                   на проведение свадьбы  \n",
       "9   144425.938277                 покупка жилья для семьи  \n",
       "10  113943.491460                    покупка недвижимости  \n",
       "11   77069.234271       покупка коммерческой недвижимости  \n",
       "12            NaN                         сыграть свадьбу  \n",
       "13  130458.228857                 приобретение автомобиля  \n",
       "14  165127.911772              покупка жилой недвижимости  \n",
       "15  116820.904450  строительство собственной недвижимости  \n",
       "16  289202.704229                            недвижимость  \n",
       "17   90410.586745              строительство недвижимости  \n",
       "18   56823.777243      на покупку подержанного автомобиля  \n",
       "19  242831.107982            на покупку своего автомобиля  "
      ]
     },
     "execution_count": 3,
     "metadata": {},
     "output_type": "execute_result"
    }
   ],
   "source": [
    "data.head(20)"
   ]
  },
  {
   "cell_type": "markdown",
   "id": "5262d684",
   "metadata": {
    "deletable": false,
    "editable": false,
    "id": "1c12e233"
   },
   "source": [
    "**Задание 3. Выведите основную информацию о датафрейме с помощью метода `info()`.**"
   ]
  },
  {
   "cell_type": "code",
   "execution_count": 4,
   "id": "419a0282",
   "metadata": {
    "deletable": false,
    "id": "2b757bca",
    "outputId": "15376089-8dad-46c9-b520-c05248d43158"
   },
   "outputs": [
    {
     "name": "stdout",
     "output_type": "stream",
     "text": [
      "<class 'pandas.core.frame.DataFrame'>\n",
      "RangeIndex: 21525 entries, 0 to 21524\n",
      "Data columns (total 12 columns):\n",
      " #   Column            Non-Null Count  Dtype  \n",
      "---  ------            --------------  -----  \n",
      " 0   children          21525 non-null  int64  \n",
      " 1   days_employed     19351 non-null  float64\n",
      " 2   dob_years         21525 non-null  int64  \n",
      " 3   education         21525 non-null  object \n",
      " 4   education_id      21525 non-null  int64  \n",
      " 5   family_status     21525 non-null  object \n",
      " 6   family_status_id  21525 non-null  int64  \n",
      " 7   gender            21525 non-null  object \n",
      " 8   income_type       21525 non-null  object \n",
      " 9   debt              21525 non-null  int64  \n",
      " 10  total_income      19351 non-null  float64\n",
      " 11  purpose           21525 non-null  object \n",
      "dtypes: float64(2), int64(5), object(5)\n",
      "memory usage: 2.0+ MB\n"
     ]
    }
   ],
   "source": [
    "data.info()"
   ]
  },
  {
   "cell_type": "markdown",
   "id": "4676ac07",
   "metadata": {
    "deletable": false,
    "editable": false,
    "id": "333ec665"
   },
   "source": [
    "## Предобработка данных"
   ]
  },
  {
   "cell_type": "markdown",
   "id": "82063128",
   "metadata": {
    "deletable": false,
    "editable": false,
    "id": "02d92d53"
   },
   "source": [
    "### Удаление пропусков"
   ]
  },
  {
   "cell_type": "markdown",
   "id": "07afe90c",
   "metadata": {
    "deletable": false,
    "editable": false,
    "id": "cd84967c"
   },
   "source": [
    "**Задание 4. Выведите количество пропущенных значений для каждого столбца. Используйте комбинацию двух методов.**"
   ]
  },
  {
   "cell_type": "code",
   "execution_count": 5,
   "id": "db05e539",
   "metadata": {
    "deletable": false,
    "id": "7f9b2309",
    "outputId": "81f4d817-781c-465c-ed15-91ce4446810d"
   },
   "outputs": [
    {
     "data": {
      "text/plain": [
       "children               0\n",
       "days_employed       2174\n",
       "dob_years              0\n",
       "education              0\n",
       "education_id           0\n",
       "family_status          0\n",
       "family_status_id       0\n",
       "gender                 0\n",
       "income_type            0\n",
       "debt                   0\n",
       "total_income        2174\n",
       "purpose                0\n",
       "dtype: int64"
      ]
     },
     "execution_count": 5,
     "metadata": {},
     "output_type": "execute_result"
    }
   ],
   "source": [
    "data.isna().sum()"
   ]
  },
  {
   "cell_type": "markdown",
   "id": "5fc751ac",
   "metadata": {
    "deletable": false,
    "editable": false,
    "id": "db86e27b"
   },
   "source": [
    "**Задание 5. В двух столбцах есть пропущенные значения. Один из них — `days_employed`. Пропуски в этом столбце вы обработаете на следующем этапе. Другой столбец с пропущенными значениями — `total_income` — хранит данные о доходах. На сумму дохода сильнее всего влияет тип занятости, поэтому заполнить пропуски в этом столбце нужно медианным значением по каждому типу из столбца `income_type`. Например, у человека с типом занятости `сотрудник` пропуск в столбце `total_income` должен быть заполнен медианным доходом среди всех записей с тем же типом.**"
   ]
  },
  {
   "cell_type": "code",
   "execution_count": 6,
   "id": "b217f58c",
   "metadata": {
    "deletable": false,
    "id": "42006a93"
   },
   "outputs": [],
   "source": [
    "for t in data['income_type'].unique():\n",
    "    data.loc[(data['income_type'] == t) & (data['total_income'].isna()), 'total_income'] = \\\n",
    "    data.loc[(data['income_type'] == t), 'total_income'].median()"
   ]
  },
  {
   "cell_type": "markdown",
   "id": "31fb07ff",
   "metadata": {
    "deletable": false,
    "editable": false,
    "id": "89da5ece"
   },
   "source": [
    "### Обработка аномальных значений"
   ]
  },
  {
   "cell_type": "markdown",
   "id": "219ad8f3",
   "metadata": {
    "deletable": false,
    "editable": false,
    "id": "57964554"
   },
   "source": [
    "**Задание 6. В данных могут встречаться артефакты (аномалии) — значения, которые не отражают действительность и появились по какой-то ошибке. таким артефактом будет отрицательное количество дней трудового стажа в столбце `days_employed`. Для реальных данных это нормально. Обработайте значения в этом столбце: замените все отрицательные значения положительными с помощью метода `abs()`.**"
   ]
  },
  {
   "cell_type": "code",
   "execution_count": 7,
   "id": "4218b26f",
   "metadata": {
    "deletable": false,
    "id": "f6f055bf"
   },
   "outputs": [],
   "source": [
    "data['days_employed'] = data['days_employed'].abs()"
   ]
  },
  {
   "cell_type": "markdown",
   "id": "a49558b3",
   "metadata": {
    "deletable": false,
    "editable": false,
    "id": "6107dd2f"
   },
   "source": [
    "**Задание 7. Для каждого типа занятости выведите медианное значение трудового стажа `days_employed` в днях.**"
   ]
  },
  {
   "cell_type": "code",
   "execution_count": 8,
   "id": "ace8ddca",
   "metadata": {
    "deletable": false,
    "id": "85a5faf6",
    "outputId": "801ef80e-522b-4668-f34e-565af7432bcf"
   },
   "outputs": [
    {
     "data": {
      "text/plain": [
       "income_type\n",
       "безработный        366413.652744\n",
       "в декрете            3296.759962\n",
       "госслужащий          2689.368353\n",
       "компаньон            1547.382223\n",
       "пенсионер          365213.306266\n",
       "предприниматель       520.848083\n",
       "сотрудник            1574.202821\n",
       "студент               578.751554\n",
       "Name: days_employed, dtype: float64"
      ]
     },
     "execution_count": 8,
     "metadata": {},
     "output_type": "execute_result"
    }
   ],
   "source": [
    "data.groupby('income_type')['days_employed'].agg('median')"
   ]
  },
  {
   "cell_type": "markdown",
   "id": "ddbfc2b6",
   "metadata": {
    "deletable": false,
    "editable": false,
    "id": "38d1a030"
   },
   "source": [
    "У двух типов (безработные и пенсионеры) получатся аномально большие значения. Исправить такие значения сложно, поэтому оставьте их как есть. Тем более этот столбец не понадобится вам для исследования."
   ]
  },
  {
   "cell_type": "markdown",
   "id": "7fb66b8c",
   "metadata": {
    "deletable": false,
    "editable": false,
    "id": "d8a9f147"
   },
   "source": [
    "**Задание 8. Выведите перечень уникальных значений столбца `children`.**"
   ]
  },
  {
   "cell_type": "code",
   "execution_count": 9,
   "id": "fa6a73db",
   "metadata": {
    "deletable": false,
    "id": "ef5056eb",
    "outputId": "6975b15c-7f95-4697-d16d-a0c79b657b03"
   },
   "outputs": [
    {
     "data": {
      "text/plain": [
       "array([ 1,  0,  3,  2, -1,  4, 20,  5])"
      ]
     },
     "execution_count": 9,
     "metadata": {},
     "output_type": "execute_result"
    }
   ],
   "source": [
    "data['children'].unique()"
   ]
  },
  {
   "cell_type": "markdown",
   "id": "8fcdd8d6",
   "metadata": {
    "deletable": false,
    "editable": false,
    "id": "40b9ebf2"
   },
   "source": [
    "**Задание 9. В столбце `children` есть два аномальных значения. Удалите строки, в которых встречаются такие аномальные значения из датафрейма `data`.**"
   ]
  },
  {
   "cell_type": "code",
   "execution_count": 10,
   "id": "5db4f055",
   "metadata": {
    "deletable": false,
    "id": "3ff9801d"
   },
   "outputs": [],
   "source": [
    "data = data[(data['children'] != -1) & (data['children'] != 20)]"
   ]
  },
  {
   "cell_type": "markdown",
   "id": "2ebb8883",
   "metadata": {
    "deletable": false,
    "editable": false,
    "id": "bbc4d0ce"
   },
   "source": [
    "**Задание 10. Ещё раз выведите перечень уникальных значений столбца `children`, чтобы убедиться, что артефакты удалены.**"
   ]
  },
  {
   "cell_type": "code",
   "execution_count": 11,
   "id": "1023d76f",
   "metadata": {
    "deletable": false,
    "id": "ad4fa8b7",
    "outputId": "b2097101-d49d-44d9-901b-32a65c9463d1"
   },
   "outputs": [
    {
     "data": {
      "text/plain": [
       "array([1, 0, 3, 2, 4, 5])"
      ]
     },
     "execution_count": 11,
     "metadata": {},
     "output_type": "execute_result"
    }
   ],
   "source": [
    "data['children'].unique()"
   ]
  },
  {
   "cell_type": "markdown",
   "id": "32f5a365",
   "metadata": {
    "deletable": false,
    "editable": false,
    "id": "75440b63"
   },
   "source": [
    "### Удаление пропусков (продолжение)"
   ]
  },
  {
   "cell_type": "markdown",
   "id": "437b5d7f",
   "metadata": {
    "deletable": false,
    "editable": false,
    "id": "f4ea573f"
   },
   "source": [
    "**Задание 11. Заполните пропуски в столбце `days_employed` медианными значениями по каждого типа занятости `income_type`.**"
   ]
  },
  {
   "cell_type": "code",
   "execution_count": 12,
   "id": "efa8feda",
   "metadata": {
    "deletable": false,
    "id": "af6b1a7e"
   },
   "outputs": [],
   "source": [
    "for t in data['income_type'].unique():\n",
    "    data.loc[(data['income_type'] == t) & (data['days_employed'].isna()), 'days_employed'] = \\\n",
    "    data.loc[(data['income_type'] == t), 'days_employed'].median()"
   ]
  },
  {
   "cell_type": "markdown",
   "id": "bb3ce86a",
   "metadata": {
    "deletable": false,
    "editable": false,
    "id": "2753f40d"
   },
   "source": [
    "**Задание 12. Убедитесь, что все пропуски заполнены. Проверьте себя и ещё раз выведите количество пропущенных значений для каждого столбца с помощью двух методов.**"
   ]
  },
  {
   "cell_type": "code",
   "execution_count": 13,
   "id": "27069e3c",
   "metadata": {
    "deletable": false,
    "id": "55f78bc2",
    "outputId": "8da1e4e1-358e-4e87-98c9-f261bce0a7b2"
   },
   "outputs": [
    {
     "data": {
      "text/plain": [
       "children            0\n",
       "days_employed       0\n",
       "dob_years           0\n",
       "education           0\n",
       "education_id        0\n",
       "family_status       0\n",
       "family_status_id    0\n",
       "gender              0\n",
       "income_type         0\n",
       "debt                0\n",
       "total_income        0\n",
       "purpose             0\n",
       "dtype: int64"
      ]
     },
     "execution_count": 13,
     "metadata": {},
     "output_type": "execute_result"
    }
   ],
   "source": [
    "data.isna().sum()"
   ]
  },
  {
   "cell_type": "markdown",
   "id": "b03c74ff",
   "metadata": {
    "deletable": false,
    "editable": false,
    "id": "ddc81e43"
   },
   "source": [
    "### Изменение типов данных"
   ]
  },
  {
   "cell_type": "markdown",
   "id": "6776cb5f",
   "metadata": {
    "deletable": false,
    "editable": false,
    "id": "42d19d24"
   },
   "source": [
    "**Задание 13. Замените вещественный тип данных в столбце `total_income` на целочисленный с помощью метода `astype()`.**"
   ]
  },
  {
   "cell_type": "code",
   "execution_count": 14,
   "id": "0f753e24",
   "metadata": {
    "deletable": false,
    "id": "920b65ad"
   },
   "outputs": [],
   "source": [
    "data['total_income'] = data['total_income'].astype(int)"
   ]
  },
  {
   "cell_type": "markdown",
   "id": "0ab4482d",
   "metadata": {
    "deletable": false,
    "editable": false,
    "id": "80c420ba"
   },
   "source": [
    "### Обработка дубликатов"
   ]
  },
  {
   "cell_type": "markdown",
   "id": "e8445352",
   "metadata": {
    "deletable": false,
    "editable": false
   },
   "source": [
    "**Задание 14. Обработайте неявные дубликаты в столбце `education`. В этом столбце есть одни и те же значения, но записанные по-разному: с использованием заглавных и строчных букв. Приведите их к нижнему регистру. Проверьте остальные столбцы.**"
   ]
  },
  {
   "cell_type": "code",
   "execution_count": 15,
   "id": "5d73408e",
   "metadata": {
    "deletable": false
   },
   "outputs": [],
   "source": [
    "data['education'] = data['education'].str.lower()"
   ]
  },
  {
   "cell_type": "markdown",
   "id": "0775198b",
   "metadata": {
    "deletable": false,
    "editable": false,
    "id": "dc587695"
   },
   "source": [
    "**Задание 15. Выведите на экран количество строк-дубликатов в данных. Если такие строки присутствуют, удалите их.**"
   ]
  },
  {
   "cell_type": "code",
   "execution_count": 16,
   "id": "0e3d94d0",
   "metadata": {
    "deletable": false,
    "id": "3ee445e4",
    "outputId": "9684deba-1934-42d1-99e1-cda61740f822"
   },
   "outputs": [
    {
     "data": {
      "text/plain": [
       "71"
      ]
     },
     "execution_count": 16,
     "metadata": {},
     "output_type": "execute_result"
    }
   ],
   "source": [
    "data.duplicated().sum()"
   ]
  },
  {
   "cell_type": "code",
   "execution_count": 17,
   "id": "ef86ec44",
   "metadata": {
    "deletable": false,
    "id": "8575fe05"
   },
   "outputs": [],
   "source": [
    "data = data.drop_duplicates()"
   ]
  },
  {
   "cell_type": "markdown",
   "id": "ae696913",
   "metadata": {
    "deletable": false,
    "editable": false,
    "id": "9904cf55"
   },
   "source": [
    "### Категоризация данных"
   ]
  },
  {
   "cell_type": "markdown",
   "id": "a8e3f7eb",
   "metadata": {
    "deletable": false,
    "editable": false,
    "id": "72fcc8a2"
   },
   "source": [
    "**Задание 16. На основании диапазонов, указанных ниже, создайте в датафрейме `data` столбец `total_income_category` с категориями:**\n",
    "\n",
    "- 0–30000 — `'E'`;\n",
    "- 30001–50000 — `'D'`;\n",
    "- 50001–200000 — `'C'`;\n",
    "- 200001–1000000 — `'B'`;\n",
    "- 1000001 и выше — `'A'`.\n",
    "\n",
    "\n",
    "**Например, кредитополучателю с доходом 25000 нужно назначить категорию `'E'`, а клиенту, получающему 235000, — `'B'`. Используйте собственную функцию с именем `categorize_income()` и метод `apply()`.**"
   ]
  },
  {
   "cell_type": "code",
   "execution_count": 18,
   "id": "9db5c69c",
   "metadata": {
    "deletable": false,
    "id": "e1771346"
   },
   "outputs": [],
   "source": [
    "def categorize_income(income):\n",
    "    try:\n",
    "        if 0 <= income <= 30000:\n",
    "            return 'E (низкий доход)'\n",
    "        elif 30001 <= income <= 50000:\n",
    "            return 'D (средний доход)'\n",
    "        elif 50001 <= income <= 200000:\n",
    "            return 'C (высокий доход)'\n",
    "        elif 200001 <= income <= 1000000:\n",
    "            return 'B (очень высокий доход)'\n",
    "        elif income >= 1000001:\n",
    "            return 'A (сверхдоход)'\n",
    "    except:\n",
    "        pass"
   ]
  },
  {
   "cell_type": "code",
   "execution_count": 19,
   "id": "ebc96bc7",
   "metadata": {
    "deletable": false,
    "id": "d5f3586d"
   },
   "outputs": [],
   "source": [
    "data['total_income_category'] = data['total_income'].apply(categorize_income)"
   ]
  },
  {
   "cell_type": "markdown",
   "id": "a7cd8ec4",
   "metadata": {
    "deletable": false,
    "editable": false,
    "id": "dde49b5c"
   },
   "source": [
    "**Задание 17. Выведите на экран перечень уникальных целей взятия кредита из столбца `purpose`.**"
   ]
  },
  {
   "cell_type": "code",
   "execution_count": 20,
   "id": "b9c3d75c",
   "metadata": {
    "deletable": false,
    "id": "f67ce9b3",
    "outputId": "673c12d9-7d7e-4ae0-9812-c622c89dd244"
   },
   "outputs": [
    {
     "data": {
      "text/plain": [
       "array(['покупка жилья', 'приобретение автомобиля',\n",
       "       'дополнительное образование', 'сыграть свадьбу',\n",
       "       'операции с жильем', 'образование', 'на проведение свадьбы',\n",
       "       'покупка жилья для семьи', 'покупка недвижимости',\n",
       "       'покупка коммерческой недвижимости', 'покупка жилой недвижимости',\n",
       "       'строительство собственной недвижимости', 'недвижимость',\n",
       "       'строительство недвижимости', 'на покупку подержанного автомобиля',\n",
       "       'на покупку своего автомобиля',\n",
       "       'операции с коммерческой недвижимостью',\n",
       "       'строительство жилой недвижимости', 'жилье',\n",
       "       'операции со своей недвижимостью', 'автомобили',\n",
       "       'заняться образованием', 'сделка с подержанным автомобилем',\n",
       "       'получение образования', 'автомобиль', 'свадьба',\n",
       "       'получение дополнительного образования', 'покупка своего жилья',\n",
       "       'операции с недвижимостью', 'получение высшего образования',\n",
       "       'свой автомобиль', 'сделка с автомобилем',\n",
       "       'профильное образование', 'высшее образование',\n",
       "       'покупка жилья для сдачи', 'на покупку автомобиля', 'ремонт жилью',\n",
       "       'заняться высшим образованием'], dtype=object)"
      ]
     },
     "execution_count": 20,
     "metadata": {},
     "output_type": "execute_result"
    }
   ],
   "source": [
    "data['purpose'].unique()"
   ]
  },
  {
   "cell_type": "markdown",
   "id": "8f36074f",
   "metadata": {
    "deletable": false,
    "editable": false,
    "id": "85d0aef0"
   },
   "source": [
    "**Задание 18. Создайте функцию, которая на основании данных из столбца `purpose` сформирует новый столбец `purpose_category`, в который войдут следующие категории:**\n",
    "\n",
    "- `'операции с автомобилем'`,\n",
    "- `'операции с недвижимостью'`,\n",
    "- `'проведение свадьбы'`,\n",
    "- `'получение образования'`.\n",
    "\n",
    "**Например, если в столбце `purpose` находится подстрока `'на покупку автомобиля'`, то в столбце `purpose_category` должна появиться строка `'операции с автомобилем'`.**\n",
    "\n",
    "**Используйте собственную функцию с именем `categorize_purpose()` и метод `apply()`. Изучите данные в столбце `purpose` и определите, какие подстроки помогут вам правильно определить категорию.**"
   ]
  },
  {
   "cell_type": "code",
   "execution_count": 21,
   "id": "87f45eb1",
   "metadata": {
    "deletable": false,
    "id": "e149fab4"
   },
   "outputs": [],
   "source": [
    "def categorize_purpose(row):\n",
    "    try:\n",
    "        if 'автом' in row:\n",
    "            return 'операции с автомобилем'\n",
    "        elif 'жил' in row or 'недвиж' in row:\n",
    "            return 'операции с недвижимостью'\n",
    "        elif 'свад' in row:\n",
    "            return 'проведение свадьбы'\n",
    "        elif 'образов' in row:\n",
    "            return 'получение образования'\n",
    "    except:\n",
    "        return 'нет категории'"
   ]
  },
  {
   "cell_type": "code",
   "execution_count": 22,
   "id": "9125f52f",
   "metadata": {
    "deletable": false,
    "id": "bf36e69b"
   },
   "outputs": [],
   "source": [
    "data['purpose_category'] = data['purpose'].apply(categorize_purpose)"
   ]
  },
  {
   "cell_type": "code",
   "execution_count": 23,
   "id": "4b932757",
   "metadata": {},
   "outputs": [
    {
     "data": {
      "text/html": [
       "<div>\n",
       "<style scoped>\n",
       "    .dataframe tbody tr th:only-of-type {\n",
       "        vertical-align: middle;\n",
       "    }\n",
       "\n",
       "    .dataframe tbody tr th {\n",
       "        vertical-align: top;\n",
       "    }\n",
       "\n",
       "    .dataframe thead th {\n",
       "        text-align: right;\n",
       "    }\n",
       "</style>\n",
       "<table border=\"1\" class=\"dataframe\">\n",
       "  <thead>\n",
       "    <tr style=\"text-align: right;\">\n",
       "      <th></th>\n",
       "      <th>children</th>\n",
       "      <th>days_employed</th>\n",
       "      <th>dob_years</th>\n",
       "      <th>education</th>\n",
       "      <th>education_id</th>\n",
       "      <th>family_status</th>\n",
       "      <th>family_status_id</th>\n",
       "      <th>gender</th>\n",
       "      <th>income_type</th>\n",
       "      <th>debt</th>\n",
       "      <th>total_income</th>\n",
       "      <th>purpose</th>\n",
       "      <th>total_income_category</th>\n",
       "      <th>purpose_category</th>\n",
       "    </tr>\n",
       "  </thead>\n",
       "  <tbody>\n",
       "    <tr>\n",
       "      <th>0</th>\n",
       "      <td>1</td>\n",
       "      <td>8437.673028</td>\n",
       "      <td>42</td>\n",
       "      <td>высшее</td>\n",
       "      <td>0</td>\n",
       "      <td>женат / замужем</td>\n",
       "      <td>0</td>\n",
       "      <td>F</td>\n",
       "      <td>сотрудник</td>\n",
       "      <td>0</td>\n",
       "      <td>253875</td>\n",
       "      <td>покупка жилья</td>\n",
       "      <td>B (очень высокий доход)</td>\n",
       "      <td>операции с недвижимостью</td>\n",
       "    </tr>\n",
       "    <tr>\n",
       "      <th>1</th>\n",
       "      <td>1</td>\n",
       "      <td>4024.803754</td>\n",
       "      <td>36</td>\n",
       "      <td>среднее</td>\n",
       "      <td>1</td>\n",
       "      <td>женат / замужем</td>\n",
       "      <td>0</td>\n",
       "      <td>F</td>\n",
       "      <td>сотрудник</td>\n",
       "      <td>0</td>\n",
       "      <td>112080</td>\n",
       "      <td>приобретение автомобиля</td>\n",
       "      <td>C (высокий доход)</td>\n",
       "      <td>операции с автомобилем</td>\n",
       "    </tr>\n",
       "    <tr>\n",
       "      <th>2</th>\n",
       "      <td>0</td>\n",
       "      <td>5623.422610</td>\n",
       "      <td>33</td>\n",
       "      <td>среднее</td>\n",
       "      <td>1</td>\n",
       "      <td>женат / замужем</td>\n",
       "      <td>0</td>\n",
       "      <td>M</td>\n",
       "      <td>сотрудник</td>\n",
       "      <td>0</td>\n",
       "      <td>145885</td>\n",
       "      <td>покупка жилья</td>\n",
       "      <td>C (высокий доход)</td>\n",
       "      <td>операции с недвижимостью</td>\n",
       "    </tr>\n",
       "    <tr>\n",
       "      <th>3</th>\n",
       "      <td>3</td>\n",
       "      <td>4124.747207</td>\n",
       "      <td>32</td>\n",
       "      <td>среднее</td>\n",
       "      <td>1</td>\n",
       "      <td>женат / замужем</td>\n",
       "      <td>0</td>\n",
       "      <td>M</td>\n",
       "      <td>сотрудник</td>\n",
       "      <td>0</td>\n",
       "      <td>267628</td>\n",
       "      <td>дополнительное образование</td>\n",
       "      <td>B (очень высокий доход)</td>\n",
       "      <td>получение образования</td>\n",
       "    </tr>\n",
       "    <tr>\n",
       "      <th>4</th>\n",
       "      <td>0</td>\n",
       "      <td>340266.072047</td>\n",
       "      <td>53</td>\n",
       "      <td>среднее</td>\n",
       "      <td>1</td>\n",
       "      <td>гражданский брак</td>\n",
       "      <td>1</td>\n",
       "      <td>F</td>\n",
       "      <td>пенсионер</td>\n",
       "      <td>0</td>\n",
       "      <td>158616</td>\n",
       "      <td>сыграть свадьбу</td>\n",
       "      <td>C (высокий доход)</td>\n",
       "      <td>проведение свадьбы</td>\n",
       "    </tr>\n",
       "  </tbody>\n",
       "</table>\n",
       "</div>"
      ],
      "text/plain": [
       "   children  days_employed  dob_years education  education_id  \\\n",
       "0         1    8437.673028         42    высшее             0   \n",
       "1         1    4024.803754         36   среднее             1   \n",
       "2         0    5623.422610         33   среднее             1   \n",
       "3         3    4124.747207         32   среднее             1   \n",
       "4         0  340266.072047         53   среднее             1   \n",
       "\n",
       "      family_status  family_status_id gender income_type  debt  total_income  \\\n",
       "0   женат / замужем                 0      F   сотрудник     0        253875   \n",
       "1   женат / замужем                 0      F   сотрудник     0        112080   \n",
       "2   женат / замужем                 0      M   сотрудник     0        145885   \n",
       "3   женат / замужем                 0      M   сотрудник     0        267628   \n",
       "4  гражданский брак                 1      F   пенсионер     0        158616   \n",
       "\n",
       "                      purpose    total_income_category  \\\n",
       "0               покупка жилья  B (очень высокий доход)   \n",
       "1     приобретение автомобиля        C (высокий доход)   \n",
       "2               покупка жилья        C (высокий доход)   \n",
       "3  дополнительное образование  B (очень высокий доход)   \n",
       "4             сыграть свадьбу        C (высокий доход)   \n",
       "\n",
       "           purpose_category  \n",
       "0  операции с недвижимостью  \n",
       "1    операции с автомобилем  \n",
       "2  операции с недвижимостью  \n",
       "3     получение образования  \n",
       "4        проведение свадьбы  "
      ]
     },
     "execution_count": 23,
     "metadata": {},
     "output_type": "execute_result"
    }
   ],
   "source": [
    "data.head()"
   ]
  },
  {
   "cell_type": "markdown",
   "id": "e38c0a79",
   "metadata": {
    "deletable": false,
    "editable": false,
    "id": "09b242bf"
   },
   "source": [
    "### Шаг 3. Исследуйте данные и ответьте на вопросы"
   ]
  },
  {
   "cell_type": "markdown",
   "id": "d9cd2b49",
   "metadata": {
    "deletable": false,
    "editable": false,
    "id": "c5d66278"
   },
   "source": [
    "#### 3.1 Есть ли зависимость между количеством детей и возвратом кредита в срок?"
   ]
  },
  {
   "cell_type": "code",
   "execution_count": 24,
   "id": "4e7c483a",
   "metadata": {
    "deletable": false,
    "id": "2cacfc4a"
   },
   "outputs": [
    {
     "data": {
      "text/html": [
       "<div>\n",
       "<style scoped>\n",
       "    .dataframe tbody tr th:only-of-type {\n",
       "        vertical-align: middle;\n",
       "    }\n",
       "\n",
       "    .dataframe tbody tr th {\n",
       "        vertical-align: top;\n",
       "    }\n",
       "\n",
       "    .dataframe thead th {\n",
       "        text-align: right;\n",
       "    }\n",
       "</style>\n",
       "<table border=\"1\" class=\"dataframe\">\n",
       "  <thead>\n",
       "    <tr style=\"text-align: right;\">\n",
       "      <th></th>\n",
       "      <th>count</th>\n",
       "      <th>sum</th>\n",
       "      <th>result_children</th>\n",
       "    </tr>\n",
       "    <tr>\n",
       "      <th>children</th>\n",
       "      <th></th>\n",
       "      <th></th>\n",
       "      <th></th>\n",
       "    </tr>\n",
       "  </thead>\n",
       "  <tbody>\n",
       "    <tr>\n",
       "      <th>5</th>\n",
       "      <td>9</td>\n",
       "      <td>0</td>\n",
       "      <td>0.000000</td>\n",
       "    </tr>\n",
       "    <tr>\n",
       "      <th>0</th>\n",
       "      <td>14091</td>\n",
       "      <td>1063</td>\n",
       "      <td>0.075438</td>\n",
       "    </tr>\n",
       "    <tr>\n",
       "      <th>3</th>\n",
       "      <td>330</td>\n",
       "      <td>27</td>\n",
       "      <td>0.081818</td>\n",
       "    </tr>\n",
       "    <tr>\n",
       "      <th>1</th>\n",
       "      <td>4808</td>\n",
       "      <td>444</td>\n",
       "      <td>0.092346</td>\n",
       "    </tr>\n",
       "    <tr>\n",
       "      <th>2</th>\n",
       "      <td>2052</td>\n",
       "      <td>194</td>\n",
       "      <td>0.094542</td>\n",
       "    </tr>\n",
       "    <tr>\n",
       "      <th>4</th>\n",
       "      <td>41</td>\n",
       "      <td>4</td>\n",
       "      <td>0.097561</td>\n",
       "    </tr>\n",
       "  </tbody>\n",
       "</table>\n",
       "</div>"
      ],
      "text/plain": [
       "          count   sum  result_children\n",
       "children                              \n",
       "5             9     0         0.000000\n",
       "0         14091  1063         0.075438\n",
       "3           330    27         0.081818\n",
       "1          4808   444         0.092346\n",
       "2          2052   194         0.094542\n",
       "4            41     4         0.097561"
      ]
     },
     "metadata": {},
     "output_type": "display_data"
    }
   ],
   "source": [
    "children_debt = data.groupby('children')['debt'].agg(['count', 'sum']) #рассчитаем по столбцу дети количество строк и сумму относительно просрочки\n",
    "children_debt['result_children'] = (children_debt['sum'] / children_debt['count'])\n",
    "display(children_debt.sort_values('result_children'))"
   ]
  },
  {
   "cell_type": "code",
   "execution_count": 25,
   "id": "ee9d13d2",
   "metadata": {},
   "outputs": [
    {
     "data": {
      "text/plain": [
       "children\n",
       "0    0.075438\n",
       "1    0.092346\n",
       "2    0.094542\n",
       "3    0.081818\n",
       "4    0.097561\n",
       "5    0.000000\n",
       "Name: debt, dtype: float64"
      ]
     },
     "execution_count": 25,
     "metadata": {},
     "output_type": "execute_result"
    }
   ],
   "source": [
    "data.groupby('children')['debt'].mean()"
   ]
  },
  {
   "cell_type": "markdown",
   "id": "f6b42283",
   "metadata": {
    "deletable": false,
    "id": "3a6b99ec"
   },
   "source": [
    "**Вывод:** \n",
    "- Прямой зависимости по просрочке кредита от колличества детей нет. \n",
    "- заемщики с 1, 2 и 4 детьми имеют примерно одинаковый показатель просрочки\n",
    "- менее допускают просрочку бездетные заемщики\n",
    "- низкий показатель просрочки по заемщикам с 5 детьми обусловлен малым количеством заемщиков на уровне погрешности."
   ]
  },
  {
   "cell_type": "markdown",
   "id": "972be464",
   "metadata": {
    "deletable": false,
    "editable": false,
    "id": "97be82ca"
   },
   "source": [
    "#### 3.2 Есть ли зависимость между семейным положением и возвратом кредита в срок?"
   ]
  },
  {
   "cell_type": "code",
   "execution_count": 26,
   "id": "6f4926b1",
   "metadata": {
    "deletable": false,
    "id": "dc3f7ee8"
   },
   "outputs": [
    {
     "data": {
      "text/html": [
       "<div>\n",
       "<style scoped>\n",
       "    .dataframe tbody tr th:only-of-type {\n",
       "        vertical-align: middle;\n",
       "    }\n",
       "\n",
       "    .dataframe tbody tr th {\n",
       "        vertical-align: top;\n",
       "    }\n",
       "\n",
       "    .dataframe thead th {\n",
       "        text-align: right;\n",
       "    }\n",
       "</style>\n",
       "<table border=\"1\" class=\"dataframe\">\n",
       "  <thead>\n",
       "    <tr style=\"text-align: right;\">\n",
       "      <th></th>\n",
       "      <th>count</th>\n",
       "      <th>sum</th>\n",
       "      <th>result_family_status</th>\n",
       "    </tr>\n",
       "    <tr>\n",
       "      <th>family_status</th>\n",
       "      <th></th>\n",
       "      <th></th>\n",
       "      <th></th>\n",
       "    </tr>\n",
       "  </thead>\n",
       "  <tbody>\n",
       "    <tr>\n",
       "      <th>вдовец / вдова</th>\n",
       "      <td>951</td>\n",
       "      <td>63</td>\n",
       "      <td>0.066246</td>\n",
       "    </tr>\n",
       "    <tr>\n",
       "      <th>в разводе</th>\n",
       "      <td>1189</td>\n",
       "      <td>84</td>\n",
       "      <td>0.070648</td>\n",
       "    </tr>\n",
       "    <tr>\n",
       "      <th>женат / замужем</th>\n",
       "      <td>12261</td>\n",
       "      <td>927</td>\n",
       "      <td>0.075606</td>\n",
       "    </tr>\n",
       "    <tr>\n",
       "      <th>гражданский брак</th>\n",
       "      <td>4134</td>\n",
       "      <td>385</td>\n",
       "      <td>0.093130</td>\n",
       "    </tr>\n",
       "    <tr>\n",
       "      <th>Не женат / не замужем</th>\n",
       "      <td>2796</td>\n",
       "      <td>273</td>\n",
       "      <td>0.097639</td>\n",
       "    </tr>\n",
       "  </tbody>\n",
       "</table>\n",
       "</div>"
      ],
      "text/plain": [
       "                       count  sum  result_family_status\n",
       "family_status                                          \n",
       "вдовец / вдова           951   63              0.066246\n",
       "в разводе               1189   84              0.070648\n",
       "женат / замужем        12261  927              0.075606\n",
       "гражданский брак        4134  385              0.093130\n",
       "Не женат / не замужем   2796  273              0.097639"
      ]
     },
     "metadata": {},
     "output_type": "display_data"
    }
   ],
   "source": [
    "family_status_debt = data.groupby('family_status')['debt'].agg(['count', 'sum'])\n",
    "family_status_debt['result_family_status'] = (family_status_debt['sum'] / family_status_debt['count'])\n",
    "display(family_status_debt.sort_values('result_family_status'))\n",
    "\n",
    "# Ваш код будет здесь. Вы можете создавать новые ячейки."
   ]
  },
  {
   "cell_type": "code",
   "execution_count": 27,
   "id": "e4f691b3",
   "metadata": {},
   "outputs": [
    {
     "data": {
      "text/plain": [
       "family_status\n",
       "Не женат / не замужем    0.097639\n",
       "в разводе                0.070648\n",
       "вдовец / вдова           0.066246\n",
       "гражданский брак         0.093130\n",
       "женат / замужем          0.075606\n",
       "Name: debt, dtype: float64"
      ]
     },
     "execution_count": 27,
     "metadata": {},
     "output_type": "execute_result"
    }
   ],
   "source": [
    "data.groupby('family_status')['debt'].mean()"
   ]
  },
  {
   "cell_type": "markdown",
   "id": "f0e06e5a",
   "metadata": {
    "deletable": false,
    "id": "1cef7837"
   },
   "source": [
    "**Вывод:** \n",
    "- самый большой процент задолженности по возврату кредитов у \"не женат/не замужем\" и \"гражданский брак\"\n",
    "- наиболее дисциплинированы вдовцы и в разводе\n",
    "- в совокупности заемщики, в браке или бывшие в браке, более дисциплинированные заемщики.\n"
   ]
  },
  {
   "cell_type": "markdown",
   "id": "5605bd1d",
   "metadata": {
    "deletable": false,
    "editable": false,
    "id": "1e8b2fca"
   },
   "source": [
    "#### 3.3 Есть ли зависимость между уровнем дохода и возвратом кредита в срок?"
   ]
  },
  {
   "cell_type": "code",
   "execution_count": 28,
   "id": "c944a894",
   "metadata": {
    "deletable": false,
    "id": "cd7e3720"
   },
   "outputs": [
    {
     "data": {
      "text/html": [
       "<div>\n",
       "<style scoped>\n",
       "    .dataframe tbody tr th:only-of-type {\n",
       "        vertical-align: middle;\n",
       "    }\n",
       "\n",
       "    .dataframe tbody tr th {\n",
       "        vertical-align: top;\n",
       "    }\n",
       "\n",
       "    .dataframe thead th {\n",
       "        text-align: right;\n",
       "    }\n",
       "</style>\n",
       "<table border=\"1\" class=\"dataframe\">\n",
       "  <thead>\n",
       "    <tr style=\"text-align: right;\">\n",
       "      <th></th>\n",
       "      <th>count</th>\n",
       "      <th>sum</th>\n",
       "      <th>result_total_income</th>\n",
       "    </tr>\n",
       "    <tr>\n",
       "      <th>total_income_category</th>\n",
       "      <th></th>\n",
       "      <th></th>\n",
       "      <th></th>\n",
       "    </tr>\n",
       "  </thead>\n",
       "  <tbody>\n",
       "    <tr>\n",
       "      <th>D (средний доход)</th>\n",
       "      <td>349</td>\n",
       "      <td>21</td>\n",
       "      <td>0.060172</td>\n",
       "    </tr>\n",
       "    <tr>\n",
       "      <th>B (очень высокий доход)</th>\n",
       "      <td>5014</td>\n",
       "      <td>354</td>\n",
       "      <td>0.070602</td>\n",
       "    </tr>\n",
       "    <tr>\n",
       "      <th>A (сверхдоход)</th>\n",
       "      <td>25</td>\n",
       "      <td>2</td>\n",
       "      <td>0.080000</td>\n",
       "    </tr>\n",
       "    <tr>\n",
       "      <th>C (высокий доход)</th>\n",
       "      <td>15921</td>\n",
       "      <td>1353</td>\n",
       "      <td>0.084982</td>\n",
       "    </tr>\n",
       "    <tr>\n",
       "      <th>E (низкий доход)</th>\n",
       "      <td>22</td>\n",
       "      <td>2</td>\n",
       "      <td>0.090909</td>\n",
       "    </tr>\n",
       "  </tbody>\n",
       "</table>\n",
       "</div>"
      ],
      "text/plain": [
       "                         count   sum  result_total_income\n",
       "total_income_category                                    \n",
       "D (средний доход)          349    21             0.060172\n",
       "B (очень высокий доход)   5014   354             0.070602\n",
       "A (сверхдоход)              25     2             0.080000\n",
       "C (высокий доход)        15921  1353             0.084982\n",
       "E (низкий доход)            22     2             0.090909"
      ]
     },
     "metadata": {},
     "output_type": "display_data"
    }
   ],
   "source": [
    "total_income_debt = data.groupby('total_income_category')['debt'].agg(['count', 'sum'])\n",
    "total_income_debt['result_total_income'] = (total_income_debt['sum'] / total_income_debt['count'])\n",
    "display(total_income_debt.sort_values('result_total_income'))# Ваш код будет здесь. Вы можете создавать новые ячейки."
   ]
  },
  {
   "cell_type": "markdown",
   "id": "924ebdb4",
   "metadata": {
    "deletable": false,
    "id": "e8593def"
   },
   "source": [
    "**Вывод:** \n",
    "- прямой корелляции между доходом и задолженностью по возврату кредитов \n",
    "- средний и очень высокий доход - низкий процент просрочки\n",
    "- высокий доход - средний процент просрочки (возможно указан завышенный доход)\n",
    "- выборка клиентов со сверхдоходами мало репрезентативна\n",
    "- заемщики с низким доходом показали самый большой % задолженности по возврату кредитов, но видимо в силу низкой одобряемости - подборка тоже не репрезентативна"
   ]
  },
  {
   "cell_type": "markdown",
   "id": "767e3279",
   "metadata": {
    "deletable": false,
    "editable": false,
    "id": "99ecbd1f"
   },
   "source": [
    "#### 3.4 Как разные цели кредита влияют на его возврат в срок?"
   ]
  },
  {
   "cell_type": "code",
   "execution_count": 29,
   "id": "ac0fd749",
   "metadata": {
    "deletable": false,
    "id": "2b687290"
   },
   "outputs": [
    {
     "data": {
      "text/html": [
       "<div>\n",
       "<style scoped>\n",
       "    .dataframe tbody tr th:only-of-type {\n",
       "        vertical-align: middle;\n",
       "    }\n",
       "\n",
       "    .dataframe tbody tr th {\n",
       "        vertical-align: top;\n",
       "    }\n",
       "\n",
       "    .dataframe thead th {\n",
       "        text-align: right;\n",
       "    }\n",
       "</style>\n",
       "<table border=\"1\" class=\"dataframe\">\n",
       "  <thead>\n",
       "    <tr style=\"text-align: right;\">\n",
       "      <th></th>\n",
       "      <th>count</th>\n",
       "      <th>sum</th>\n",
       "      <th>result_purpose_category</th>\n",
       "    </tr>\n",
       "    <tr>\n",
       "      <th>purpose_category</th>\n",
       "      <th></th>\n",
       "      <th></th>\n",
       "      <th></th>\n",
       "    </tr>\n",
       "  </thead>\n",
       "  <tbody>\n",
       "    <tr>\n",
       "      <th>операции с недвижимостью</th>\n",
       "      <td>10751</td>\n",
       "      <td>780</td>\n",
       "      <td>0.072551</td>\n",
       "    </tr>\n",
       "    <tr>\n",
       "      <th>проведение свадьбы</th>\n",
       "      <td>2313</td>\n",
       "      <td>183</td>\n",
       "      <td>0.079118</td>\n",
       "    </tr>\n",
       "    <tr>\n",
       "      <th>получение образования</th>\n",
       "      <td>3988</td>\n",
       "      <td>369</td>\n",
       "      <td>0.092528</td>\n",
       "    </tr>\n",
       "    <tr>\n",
       "      <th>операции с автомобилем</th>\n",
       "      <td>4279</td>\n",
       "      <td>400</td>\n",
       "      <td>0.093480</td>\n",
       "    </tr>\n",
       "  </tbody>\n",
       "</table>\n",
       "</div>"
      ],
      "text/plain": [
       "                          count  sum  result_purpose_category\n",
       "purpose_category                                             \n",
       "операции с недвижимостью  10751  780                 0.072551\n",
       "проведение свадьбы         2313  183                 0.079118\n",
       "получение образования      3988  369                 0.092528\n",
       "операции с автомобилем     4279  400                 0.093480"
      ]
     },
     "metadata": {},
     "output_type": "display_data"
    }
   ],
   "source": [
    "purpose_debt = data.groupby('purpose_category')['debt'].agg(['count', 'sum'])\n",
    "purpose_debt['result_purpose_category'] = (purpose_debt['sum'] / purpose_debt['count'])\n",
    "display(purpose_debt.sort_values('result_purpose_category'))\n",
    "\n",
    "# Ваш код будет здесь. Вы можете создавать новые ячейки."
   ]
  },
  {
   "cell_type": "markdown",
   "id": "bbb3d533",
   "metadata": {
    "deletable": false,
    "id": "b4bb2ce6"
   },
   "source": [
    "**Вывод:** \n",
    "- наиболее показательные зависимости задолженностью по возврату кредитов от целей кредитов.\n",
    "- Самые дисциплинированные заемщики на Недвижимость и свадьбу.\n",
    "- получение образования и приобретение автомобиля - наиболее рискованные кредиты.\n",
    "- если в случае просрочки по кредиту за автомобиль банк подстрахован, то на образование дефолтность выше."
   ]
  },
  {
   "cell_type": "markdown",
   "id": "5474c206",
   "metadata": {},
   "source": [
    "#### 3.5 Как разные социальные статусы влияют на возврат кредита в срок?"
   ]
  },
  {
   "cell_type": "code",
   "execution_count": 30,
   "id": "32771107",
   "metadata": {},
   "outputs": [
    {
     "data": {
      "text/html": [
       "<div>\n",
       "<style scoped>\n",
       "    .dataframe tbody tr th:only-of-type {\n",
       "        vertical-align: middle;\n",
       "    }\n",
       "\n",
       "    .dataframe tbody tr th {\n",
       "        vertical-align: top;\n",
       "    }\n",
       "\n",
       "    .dataframe thead th {\n",
       "        text-align: right;\n",
       "    }\n",
       "</style>\n",
       "<table border=\"1\" class=\"dataframe\">\n",
       "  <thead>\n",
       "    <tr style=\"text-align: right;\">\n",
       "      <th></th>\n",
       "      <th>count</th>\n",
       "      <th>sum</th>\n",
       "      <th>result_income_type</th>\n",
       "    </tr>\n",
       "    <tr>\n",
       "      <th>income_type</th>\n",
       "      <th></th>\n",
       "      <th></th>\n",
       "      <th></th>\n",
       "    </tr>\n",
       "  </thead>\n",
       "  <tbody>\n",
       "    <tr>\n",
       "      <th>предприниматель</th>\n",
       "      <td>2</td>\n",
       "      <td>0</td>\n",
       "      <td>0.000000</td>\n",
       "    </tr>\n",
       "    <tr>\n",
       "      <th>студент</th>\n",
       "      <td>1</td>\n",
       "      <td>0</td>\n",
       "      <td>0.000000</td>\n",
       "    </tr>\n",
       "    <tr>\n",
       "      <th>пенсионер</th>\n",
       "      <td>3812</td>\n",
       "      <td>216</td>\n",
       "      <td>0.056663</td>\n",
       "    </tr>\n",
       "    <tr>\n",
       "      <th>госслужащий</th>\n",
       "      <td>1451</td>\n",
       "      <td>86</td>\n",
       "      <td>0.059269</td>\n",
       "    </tr>\n",
       "    <tr>\n",
       "      <th>компаньон</th>\n",
       "      <td>5047</td>\n",
       "      <td>374</td>\n",
       "      <td>0.074103</td>\n",
       "    </tr>\n",
       "    <tr>\n",
       "      <th>сотрудник</th>\n",
       "      <td>11015</td>\n",
       "      <td>1054</td>\n",
       "      <td>0.095688</td>\n",
       "    </tr>\n",
       "    <tr>\n",
       "      <th>безработный</th>\n",
       "      <td>2</td>\n",
       "      <td>1</td>\n",
       "      <td>0.500000</td>\n",
       "    </tr>\n",
       "    <tr>\n",
       "      <th>в декрете</th>\n",
       "      <td>1</td>\n",
       "      <td>1</td>\n",
       "      <td>1.000000</td>\n",
       "    </tr>\n",
       "  </tbody>\n",
       "</table>\n",
       "</div>"
      ],
      "text/plain": [
       "                 count   sum  result_income_type\n",
       "income_type                                     \n",
       "предприниматель      2     0            0.000000\n",
       "студент              1     0            0.000000\n",
       "пенсионер         3812   216            0.056663\n",
       "госслужащий       1451    86            0.059269\n",
       "компаньон         5047   374            0.074103\n",
       "сотрудник        11015  1054            0.095688\n",
       "безработный          2     1            0.500000\n",
       "в декрете            1     1            1.000000"
      ]
     },
     "metadata": {},
     "output_type": "display_data"
    }
   ],
   "source": [
    "income_type_debt = data.groupby('income_type')['debt'].agg(['count', 'sum'])\n",
    "income_type_debt['result_income_type'] = (income_type_debt['sum'] / income_type_debt['count'])\n",
    "display(income_type_debt.sort_values('result_income_type'))"
   ]
  },
  {
   "cell_type": "markdown",
   "id": "3d0cc750",
   "metadata": {},
   "source": [
    "###### Добавил еще один срез для анализа.\n",
    "Срез по социальному статусу - очень показательный.\n",
    "Самые дисциплинированные заемщки Пенсионеры и Госслужащие."
   ]
  },
  {
   "cell_type": "markdown",
   "id": "e0347edb",
   "metadata": {
    "deletable": false,
    "editable": false,
    "id": "09c3ac4c"
   },
   "source": [
    "#### 3.5 Приведите возможные причины появления пропусков в исходных данных."
   ]
  },
  {
   "cell_type": "markdown",
   "id": "05300057",
   "metadata": {
    "deletable": false,
    "id": "9da2ceda"
   },
   "source": [
    "*Ответ:* \n",
    "- человеческий фактор - ошибки ввода данных, это и минусы в стаже и количестве детей. Вероятно 20 детей тоже ошибка связанная с написанием или вводом. Я бы ее заменил на 2, но шаблон не предусматривал это.\n",
    "- Отсутствие данных по стажу работы и ежемесячному доходу у некоторых пенсионеров - вероятно не является у них обязательным для заполнения полем.\n",
    "- сокрытие информации заемщиком или ошибочные сведения - неразборчивый почерк, не понял что писать в анкете,\n",
    "- фрод или мошенничество\n",
    "- техническая - например соединение баз из двух и более. \n"
   ]
  },
  {
   "cell_type": "markdown",
   "id": "768af4f8",
   "metadata": {
    "deletable": false,
    "editable": false,
    "id": "7b0487d6"
   },
   "source": [
    "#### 3.6 Объясните, почему заполнить пропуски медианным значением — лучшее решение для количественных переменных."
   ]
  },
  {
   "cell_type": "markdown",
   "id": "d5963725",
   "metadata": {
    "deletable": false,
    "id": "7ecf2b8e"
   },
   "source": [
    "*Ответ:* \n",
    "С помощью медианы можно получить более точные данные и правильнее интерпретировать статистику. Среднее значение из-за разброса крайних точек может дать искаженное значение для статистики."
   ]
  },
  {
   "cell_type": "markdown",
   "id": "75749cf0",
   "metadata": {
    "deletable": false,
    "editable": false,
    "id": "6db5255a"
   },
   "source": [
    "### Шаг 4: общий вывод."
   ]
  },
  {
   "cell_type": "markdown",
   "id": "4e8e4a13",
   "metadata": {
    "deletable": false,
    "id": "bad65432"
   },
   "source": [
    "Основные критерии для оценки заемщика на основании данных о просрочках заемщиков: семейное положение, уровень дохода и цель кредита.\n",
    "Количество детей не явно влияет на дисциплину заемщиков.\n",
    "Дисциплинированные заемщики: \n",
    "- в браке или был в браке, \n",
    "- средний доход 30-50 т.р.\n",
    "- цель кредита - недвижимость и свадьба\n",
    "\n",
    "Менее дисциплинированные заемщики:\n",
    "- не в браке\n",
    "- указан высокий доход\n",
    "- цель - образование или автомобиль\n",
    "\n",
    "Рекомендации для банка:\n",
    "- увеличить контроль за качеством заполения скоринговой анкеты\n",
    "- дополнительное обеспечение по кредитам на автомобиль и образование\n",
    "- приоритет для заемщиков в браке или бывшие в браке\n",
    "- высокий доход не гарантирует обязательности заемщика - усилить контроль за данными по доходу"
   ]
  },
  {
   "cell_type": "markdown",
   "id": "f367ea50",
   "metadata": {},
   "source": [
    "## Расширенный вывод:\n",
    "Исследование зависимости качества заемщиков от основных критериев.\n",
    "### Цель:\n",
    "\n",
    "###### Определить, какие факторы влияют на качество заемщика и снижение дефолтности клиента.\n",
    "\n",
    "#### Основные данные в базе данных:\n",
    "— количество детей в семье\n",
    "— общий трудовой стаж в днях\n",
    "— возраст клиента в годах\n",
    "— уровень образования клиента\n",
    "— идентификатор уровня образования\n",
    "— семейное положение\n",
    "— идентификатор семейного положения\n",
    "— пол клиента\n",
    "— тип занятости\n",
    "— имел ли задолженность по возврату кредитов\n",
    "— ежемесячный доход\n",
    "— цель получения кредита\n",
    "\n",
    "#### Задача исследования - исследовать гипотезы:\n",
    "\n",
    "- Есть ли зависимость между количеством детей и возвратом кредита в срок?\n",
    "- Есть ли зависимость между семейным положением и возвратом кредита в срок?\n",
    "- Есть ли зависимость между уровнем дохода и возвратом кредита в срок?\n",
    "- Как разные цели кредита влияют на его возврат в срок?\n",
    "\n",
    "### Выводы:\n",
    "\n",
    "##### Есть ли зависимость между количеством детей и возвратом кредита в срок?\n",
    "\n",
    "Данная гипотеза имеет частичное подтверждение в данных - **бездетные заемщики имеют меньше просрочек по возврату кредитов- 7,54%** при средней просрочке **8,44%**. Колличество детей в семье **не имеет большого влияния** на дефолтность заемщика.\n",
    "1 ребенок 9,23%\n",
    "2 ребенка 9,45%\n",
    "3 ребенка 8,18% (низкая выборка)\n",
    "4 ребенка 9,76% (низкая выборка)\n",
    "Таким образом для скоринг должен учитывать только наличие или отсутствие детей. \n",
    "\n",
    "##### Есть ли зависимость между семейным положением и возвратом кредита в срок?\n",
    "\n",
    "Данная гипотеза подтвердилась в большей степени. В результате анализа выявлено, что **заемщики не в браке или, живущие в гражданском браке** менее дисциплинированы в отношении кредитов, чем **заемщики в браке или ранее состоявшие в нем**. Вероятно ответственность заемщиков состоящих(состоявших) в браке, в независимости от того двое супругов или один - значительно ниже средней просрочки **8,44%**.\n",
    "- Не женат / не замужем    9,76%\n",
    "- гражданский брак         9,31%\n",
    "\n",
    "- женат / замужем          7,56%\n",
    "- в разводе                7,06%\n",
    "- вдовец / вдова           6,62%\n",
    "\n",
    "Рекомендации по данному параметру при скоринге - приорит заемщикам в браке или состоявшим в нем ранее.\n",
    "\n",
    "##### Есть ли зависимость между уровнем дохода и возвратом кредита в срок?\n",
    "\n",
    "Уровень дохода влияет на качество заемщиков в разрезе - **высокий/очень высокий** доход.\n",
    "Заемщики с низким доходом допускают самое большое колличесво просрочки. При этом самый низкий уровень просрочки у следующей градации - средний доход от 30 000 до 50 000 рублей.\n",
    "D (средний доход)\t    6,02%\n",
    "B (очень высокий доход)\t7,06%\n",
    "A (сверхдоход)\t        8,00%\n",
    "C (высокий доход)\t    8,50%\n",
    "E (низкий доход)\t    9,09%\n",
    "\n",
    "По колличеству данных в базе данных стоит отметить низкую релевантность выборки по заемщикам со сверхвысоким доходам - *22*, и низким доходам - *25*. Вероятно одобрение кредитов по экстремумам шкалы дохлодов низкое.\n",
    "Заемщиков с средним доходом - *349*, что тоже не очень высокая выборка, и хоть дефолтность у них самая низкая, вряд ли можно делать вывод об увеличении кредитования данной категории.\n",
    "Основная масса кредитов в категориях **высокий доход** и **очень высокий доход** и там диапазон просрочки от 7,06% до 8,5% - в пределах среднего значения.\n",
    "Рекомендации для скорринга: сохранить существющую систему скоринга.\n",
    "\n",
    "##### Есть ли зависимость между целью кредита и его возвратом в срок?\n",
    "\n",
    "Мы выделили 4 основные цели кредита:\n",
    "- операции с недвижимостью\t10751\t7,26%\n",
    "- проведение свадьбы\t     2313\t7,91%\n",
    "- получение образования\t     3988\t9,25%\n",
    "- операции с автомобилем\t 4279\t9,35%\n",
    "Самая низкодефолтная цель кредита - недвижимость, беспокойство о наличии жилья и ответстовенность перед близкими стимулируют своевременные оплаты. Вторая по качество цель - Свадьба. Невысокие суммы кредита и, как ранее отвмечали, заемщики в браке более дисциплинированы.\n",
    "Обе цели кредита имеют процент просрочек ниже среднего значения **8,44%**.\n",
    "Две другие цели кредита - образование и автомобиль - значительно превосходят по количеству просрочек средний показатель.\n",
    "\n",
    "##### Как разные социальные статусы влияют на возвратом кредита в срок?\n",
    "\n",
    "Выборка по таким статсам, как Предприниматель, студент, безработный, в декрете - нерепрезентативна\n",
    "\n",
    "- предприниматель\t2\n",
    "- студент\t        1\t\n",
    "- безработный\t    2\n",
    "- в декрете\t    1\n",
    "\n",
    "Среди остальных заемщиков самыу дисциплинированные пенсионеры и госслужащие. Пенсионеры привыкли распределять доходы и расходы и рассчитывать их. Госслужащие - стабиольность дохода и репутация.\n",
    "- пенсионер\t 5,67%\n",
    "- госслужащий\t5,93%\n",
    "- компаньон\t 7,41%\n",
    "- сотрудник\t9,57%\n",
    "В то же время самая массовая категория заемщиков - **сотрудник (11 015)** имеет самый высокий процент дефолта.\n",
    "\n",
    "\n",
    "### Рекомендации:\n",
    "\n",
    "- для скоринга использовать зависимости - Цель кредита, Семейное положение\n",
    "- бездетные заемщики более своевременно выплачивают кредит\n",
    "- наемные работники (сотрудники) самая дефолтная категория, рекомендовано поручительство работодателя.\n",
    "- данные по уровню дохода и количеству детей требуют дополнительно исследования с большей выборкой.\n"
   ]
  }
 ],
 "metadata": {
  "ExecuteTimeLog": [
   {
    "duration": 47,
    "start_time": "2022-09-23T08:02:45.576Z"
   },
   {
    "duration": 6,
    "start_time": "2022-09-23T08:03:03.550Z"
   },
   {
    "duration": 435,
    "start_time": "2022-09-23T08:03:10.717Z"
   },
   {
    "duration": 23,
    "start_time": "2022-09-23T08:03:11.154Z"
   },
   {
    "duration": 25,
    "start_time": "2022-09-23T08:03:11.178Z"
   },
   {
    "duration": 18,
    "start_time": "2022-09-23T08:03:11.205Z"
   },
   {
    "duration": 55,
    "start_time": "2022-09-23T08:03:11.225Z"
   },
   {
    "duration": 4,
    "start_time": "2022-09-23T08:03:11.282Z"
   },
   {
    "duration": 37,
    "start_time": "2022-09-23T08:03:11.288Z"
   },
   {
    "duration": 24,
    "start_time": "2022-09-23T08:03:11.326Z"
   },
   {
    "duration": 38,
    "start_time": "2022-09-23T08:03:11.352Z"
   },
   {
    "duration": 13,
    "start_time": "2022-09-23T08:03:11.393Z"
   },
   {
    "duration": 56,
    "start_time": "2022-09-23T08:03:11.408Z"
   },
   {
    "duration": 11,
    "start_time": "2022-09-23T08:03:11.465Z"
   },
   {
    "duration": 26,
    "start_time": "2022-09-23T08:03:11.478Z"
   },
   {
    "duration": 28,
    "start_time": "2022-09-23T08:03:11.505Z"
   },
   {
    "duration": 41,
    "start_time": "2022-09-23T08:03:11.535Z"
   },
   {
    "duration": 33,
    "start_time": "2022-09-23T08:03:11.578Z"
   },
   {
    "duration": 14,
    "start_time": "2022-09-23T08:03:11.613Z"
   },
   {
    "duration": 53,
    "start_time": "2022-09-23T08:03:11.629Z"
   },
   {
    "duration": 29,
    "start_time": "2022-09-23T08:03:11.683Z"
   },
   {
    "duration": 38,
    "start_time": "2022-09-23T08:03:11.714Z"
   },
   {
    "duration": 31,
    "start_time": "2022-09-23T08:03:11.754Z"
   },
   {
    "duration": 37,
    "start_time": "2022-09-23T08:03:11.787Z"
   },
   {
    "duration": 24,
    "start_time": "2022-09-23T08:03:11.826Z"
   },
   {
    "duration": 31,
    "start_time": "2022-09-23T08:03:11.852Z"
   },
   {
    "duration": 24,
    "start_time": "2022-09-23T08:03:11.885Z"
   },
   {
    "duration": 46,
    "start_time": "2022-09-23T08:03:11.911Z"
   },
   {
    "duration": 63,
    "start_time": "2022-09-23T08:06:31.742Z"
   },
   {
    "duration": 66,
    "start_time": "2022-09-23T08:07:07.399Z"
   },
   {
    "duration": 13,
    "start_time": "2022-09-23T08:08:20.122Z"
   },
   {
    "duration": 14,
    "start_time": "2022-09-23T08:11:25.931Z"
   },
   {
    "duration": 10,
    "start_time": "2022-09-23T08:13:43.876Z"
   },
   {
    "duration": 1442,
    "start_time": "2022-09-23T08:35:21.289Z"
   },
   {
    "duration": 25,
    "start_time": "2022-09-23T08:36:52.154Z"
   },
   {
    "duration": 3,
    "start_time": "2022-09-23T08:37:49.543Z"
   },
   {
    "duration": 24,
    "start_time": "2022-09-23T08:38:01.748Z"
   },
   {
    "duration": 9,
    "start_time": "2022-09-23T08:38:14.050Z"
   },
   {
    "duration": 512,
    "start_time": "2022-09-23T08:38:14.061Z"
   },
   {
    "duration": 29,
    "start_time": "2022-09-23T08:38:14.575Z"
   },
   {
    "duration": 17,
    "start_time": "2022-09-23T08:38:14.607Z"
   },
   {
    "duration": 11,
    "start_time": "2022-09-23T08:38:14.626Z"
   },
   {
    "duration": 70,
    "start_time": "2022-09-23T08:38:14.639Z"
   },
   {
    "duration": 4,
    "start_time": "2022-09-23T08:38:14.711Z"
   },
   {
    "duration": 10,
    "start_time": "2022-09-23T08:38:14.717Z"
   },
   {
    "duration": 8,
    "start_time": "2022-09-23T08:38:14.731Z"
   },
   {
    "duration": 10,
    "start_time": "2022-09-23T08:38:14.741Z"
   },
   {
    "duration": 24,
    "start_time": "2022-09-23T08:38:14.753Z"
   },
   {
    "duration": 35,
    "start_time": "2022-09-23T08:38:14.779Z"
   },
   {
    "duration": 12,
    "start_time": "2022-09-23T08:38:14.815Z"
   },
   {
    "duration": 12,
    "start_time": "2022-09-23T08:38:14.829Z"
   },
   {
    "duration": 14,
    "start_time": "2022-09-23T08:38:14.843Z"
   },
   {
    "duration": 27,
    "start_time": "2022-09-23T08:38:14.876Z"
   },
   {
    "duration": 16,
    "start_time": "2022-09-23T08:38:14.905Z"
   },
   {
    "duration": 3,
    "start_time": "2022-09-23T08:38:14.923Z"
   },
   {
    "duration": 13,
    "start_time": "2022-09-23T08:38:14.928Z"
   },
   {
    "duration": 6,
    "start_time": "2022-09-23T08:38:14.943Z"
   },
   {
    "duration": 9,
    "start_time": "2022-09-23T08:38:14.951Z"
   },
   {
    "duration": 19,
    "start_time": "2022-09-23T08:38:14.978Z"
   },
   {
    "duration": 18,
    "start_time": "2022-09-23T08:38:14.999Z"
   },
   {
    "duration": 63,
    "start_time": "2022-09-23T08:38:15.021Z"
   },
   {
    "duration": 3,
    "start_time": "2022-09-23T08:38:15.085Z"
   },
   {
    "duration": 7,
    "start_time": "2022-09-23T08:38:15.090Z"
   },
   {
    "duration": 14,
    "start_time": "2022-09-23T08:38:15.098Z"
   },
   {
    "duration": 64,
    "start_time": "2022-09-23T08:40:03.434Z"
   },
   {
    "duration": 11,
    "start_time": "2022-09-23T08:40:16.558Z"
   },
   {
    "duration": 8,
    "start_time": "2022-09-23T08:40:48.995Z"
   },
   {
    "duration": 449,
    "start_time": "2022-09-23T08:40:49.004Z"
   },
   {
    "duration": 22,
    "start_time": "2022-09-23T08:40:49.454Z"
   },
   {
    "duration": 14,
    "start_time": "2022-09-23T08:40:49.478Z"
   },
   {
    "duration": 9,
    "start_time": "2022-09-23T08:40:49.494Z"
   },
   {
    "duration": 34,
    "start_time": "2022-09-23T08:40:49.504Z"
   },
   {
    "duration": 4,
    "start_time": "2022-09-23T08:40:49.539Z"
   },
   {
    "duration": 37,
    "start_time": "2022-09-23T08:40:49.544Z"
   },
   {
    "duration": 4,
    "start_time": "2022-09-23T08:40:49.584Z"
   },
   {
    "duration": 9,
    "start_time": "2022-09-23T08:40:49.590Z"
   },
   {
    "duration": 7,
    "start_time": "2022-09-23T08:40:49.600Z"
   },
   {
    "duration": 32,
    "start_time": "2022-09-23T08:40:49.608Z"
   },
   {
    "duration": 8,
    "start_time": "2022-09-23T08:40:49.642Z"
   },
   {
    "duration": 27,
    "start_time": "2022-09-23T08:40:49.651Z"
   },
   {
    "duration": 19,
    "start_time": "2022-09-23T08:40:49.679Z"
   },
   {
    "duration": 20,
    "start_time": "2022-09-23T08:40:49.700Z"
   },
   {
    "duration": 16,
    "start_time": "2022-09-23T08:40:49.721Z"
   },
   {
    "duration": 4,
    "start_time": "2022-09-23T08:40:49.739Z"
   },
   {
    "duration": 13,
    "start_time": "2022-09-23T08:40:49.744Z"
   },
   {
    "duration": 22,
    "start_time": "2022-09-23T08:40:49.758Z"
   },
   {
    "duration": 7,
    "start_time": "2022-09-23T08:40:49.782Z"
   },
   {
    "duration": 17,
    "start_time": "2022-09-23T08:40:49.790Z"
   },
   {
    "duration": 14,
    "start_time": "2022-09-23T08:40:49.809Z"
   },
   {
    "duration": 79,
    "start_time": "2022-09-23T08:40:49.825Z"
   },
   {
    "duration": 0,
    "start_time": "2022-09-23T08:40:49.905Z"
   },
   {
    "duration": 0,
    "start_time": "2022-09-23T08:40:49.907Z"
   },
   {
    "duration": 0,
    "start_time": "2022-09-23T08:40:49.908Z"
   },
   {
    "duration": 18,
    "start_time": "2022-09-23T08:41:48.558Z"
   },
   {
    "duration": 23,
    "start_time": "2022-09-23T08:47:45.994Z"
   },
   {
    "duration": 8,
    "start_time": "2022-09-23T08:49:56.040Z"
   },
   {
    "duration": 7,
    "start_time": "2022-09-23T08:49:59.893Z"
   },
   {
    "duration": 15,
    "start_time": "2022-09-23T08:50:07.020Z"
   },
   {
    "duration": 529,
    "start_time": "2022-09-23T08:50:07.038Z"
   },
   {
    "duration": 31,
    "start_time": "2022-09-23T08:50:07.569Z"
   },
   {
    "duration": 16,
    "start_time": "2022-09-23T08:50:07.603Z"
   },
   {
    "duration": 8,
    "start_time": "2022-09-23T08:50:07.621Z"
   },
   {
    "duration": 64,
    "start_time": "2022-09-23T08:50:07.631Z"
   },
   {
    "duration": 4,
    "start_time": "2022-09-23T08:50:07.704Z"
   },
   {
    "duration": 11,
    "start_time": "2022-09-23T08:50:07.710Z"
   },
   {
    "duration": 5,
    "start_time": "2022-09-23T08:50:07.723Z"
   },
   {
    "duration": 9,
    "start_time": "2022-09-23T08:50:07.731Z"
   },
   {
    "duration": 8,
    "start_time": "2022-09-23T08:50:07.741Z"
   },
   {
    "duration": 68,
    "start_time": "2022-09-23T08:50:07.751Z"
   },
   {
    "duration": 11,
    "start_time": "2022-09-23T08:50:07.821Z"
   },
   {
    "duration": 7,
    "start_time": "2022-09-23T08:50:07.833Z"
   },
   {
    "duration": 44,
    "start_time": "2022-09-23T08:50:07.842Z"
   },
   {
    "duration": 45,
    "start_time": "2022-09-23T08:50:07.888Z"
   },
   {
    "duration": 17,
    "start_time": "2022-09-23T08:50:07.935Z"
   },
   {
    "duration": 11,
    "start_time": "2022-09-23T08:50:07.954Z"
   },
   {
    "duration": 26,
    "start_time": "2022-09-23T08:50:07.966Z"
   },
   {
    "duration": 19,
    "start_time": "2022-09-23T08:50:07.993Z"
   },
   {
    "duration": 8,
    "start_time": "2022-09-23T08:50:08.014Z"
   },
   {
    "duration": 14,
    "start_time": "2022-09-23T08:50:08.023Z"
   },
   {
    "duration": 19,
    "start_time": "2022-09-23T08:50:08.039Z"
   },
   {
    "duration": 13,
    "start_time": "2022-09-23T08:50:08.061Z"
   },
   {
    "duration": 16,
    "start_time": "2022-09-23T08:50:08.076Z"
   },
   {
    "duration": 5,
    "start_time": "2022-09-23T08:50:08.094Z"
   },
   {
    "duration": 14,
    "start_time": "2022-09-23T08:50:08.102Z"
   },
   {
    "duration": 7,
    "start_time": "2022-09-23T08:50:42.502Z"
   },
   {
    "duration": 5,
    "start_time": "2022-09-23T08:59:34.610Z"
   },
   {
    "duration": 61,
    "start_time": "2022-09-23T08:59:55.495Z"
   },
   {
    "duration": 5,
    "start_time": "2022-09-23T09:00:06.607Z"
   },
   {
    "duration": 5,
    "start_time": "2022-09-23T09:00:26.076Z"
   },
   {
    "duration": 8,
    "start_time": "2022-09-23T09:00:54.498Z"
   },
   {
    "duration": 8,
    "start_time": "2022-09-23T09:01:02.146Z"
   },
   {
    "duration": 1824,
    "start_time": "2022-09-23T09:03:24.557Z"
   },
   {
    "duration": 1395,
    "start_time": "2022-09-23T09:03:48.092Z"
   },
   {
    "duration": 6,
    "start_time": "2022-09-23T09:04:20.520Z"
   },
   {
    "duration": 13,
    "start_time": "2022-09-23T09:05:28.996Z"
   },
   {
    "duration": 17,
    "start_time": "2022-09-23T09:06:50.622Z"
   },
   {
    "duration": 7,
    "start_time": "2022-09-23T09:07:17.790Z"
   },
   {
    "duration": 17,
    "start_time": "2022-09-23T09:07:25.873Z"
   },
   {
    "duration": 7,
    "start_time": "2022-09-23T09:10:15.568Z"
   },
   {
    "duration": 9,
    "start_time": "2022-09-23T09:16:27.132Z"
   },
   {
    "duration": 9,
    "start_time": "2022-09-23T09:16:58.521Z"
   },
   {
    "duration": 7,
    "start_time": "2022-09-23T09:22:19.709Z"
   },
   {
    "duration": 7,
    "start_time": "2022-09-23T09:22:27.568Z"
   },
   {
    "duration": 8,
    "start_time": "2022-09-23T09:22:34.941Z"
   },
   {
    "duration": 539,
    "start_time": "2022-09-23T09:22:34.950Z"
   },
   {
    "duration": 23,
    "start_time": "2022-09-23T09:22:35.490Z"
   },
   {
    "duration": 15,
    "start_time": "2022-09-23T09:22:35.515Z"
   },
   {
    "duration": 9,
    "start_time": "2022-09-23T09:22:35.531Z"
   },
   {
    "duration": 58,
    "start_time": "2022-09-23T09:22:35.542Z"
   },
   {
    "duration": 4,
    "start_time": "2022-09-23T09:22:35.602Z"
   },
   {
    "duration": 15,
    "start_time": "2022-09-23T09:22:35.608Z"
   },
   {
    "duration": 6,
    "start_time": "2022-09-23T09:22:35.625Z"
   },
   {
    "duration": 7,
    "start_time": "2022-09-23T09:22:35.635Z"
   },
   {
    "duration": 5,
    "start_time": "2022-09-23T09:22:35.644Z"
   },
   {
    "duration": 53,
    "start_time": "2022-09-23T09:22:35.650Z"
   },
   {
    "duration": 9,
    "start_time": "2022-09-23T09:22:35.705Z"
   },
   {
    "duration": 7,
    "start_time": "2022-09-23T09:22:35.716Z"
   },
   {
    "duration": 15,
    "start_time": "2022-09-23T09:22:35.725Z"
   },
   {
    "duration": 42,
    "start_time": "2022-09-23T09:22:35.741Z"
   },
   {
    "duration": 17,
    "start_time": "2022-09-23T09:22:35.785Z"
   },
   {
    "duration": 3,
    "start_time": "2022-09-23T09:22:35.804Z"
   },
   {
    "duration": 30,
    "start_time": "2022-09-23T09:22:35.809Z"
   },
   {
    "duration": 23,
    "start_time": "2022-09-23T09:22:35.841Z"
   },
   {
    "duration": 5,
    "start_time": "2022-09-23T09:22:35.866Z"
   },
   {
    "duration": 14,
    "start_time": "2022-09-23T09:22:35.872Z"
   },
   {
    "duration": 19,
    "start_time": "2022-09-23T09:22:35.888Z"
   },
   {
    "duration": 13,
    "start_time": "2022-09-23T09:22:35.909Z"
   },
   {
    "duration": 5,
    "start_time": "2022-09-23T09:22:35.923Z"
   },
   {
    "duration": 15,
    "start_time": "2022-09-23T09:22:35.929Z"
   },
   {
    "duration": 15,
    "start_time": "2022-09-23T09:22:35.945Z"
   },
   {
    "duration": 18,
    "start_time": "2022-09-23T09:22:35.963Z"
   },
   {
    "duration": 36,
    "start_time": "2022-09-23T09:22:35.982Z"
   },
   {
    "duration": 6,
    "start_time": "2022-09-23T09:22:45.362Z"
   },
   {
    "duration": 7,
    "start_time": "2022-09-23T09:23:35.527Z"
   },
   {
    "duration": 11,
    "start_time": "2022-09-23T09:23:37.073Z"
   },
   {
    "duration": 6,
    "start_time": "2022-09-23T09:24:12.620Z"
   },
   {
    "duration": 4,
    "start_time": "2022-09-23T09:24:23.985Z"
   },
   {
    "duration": 6,
    "start_time": "2022-09-23T09:24:40.125Z"
   },
   {
    "duration": 11,
    "start_time": "2022-09-23T09:25:08.032Z"
   },
   {
    "duration": 4,
    "start_time": "2022-09-23T09:27:29.487Z"
   },
   {
    "duration": 22,
    "start_time": "2022-09-23T09:29:54.160Z"
   },
   {
    "duration": 23,
    "start_time": "2022-09-23T09:30:15.361Z"
   },
   {
    "duration": 11,
    "start_time": "2022-09-23T09:36:26.505Z"
   },
   {
    "duration": 10,
    "start_time": "2022-09-23T09:36:35.051Z"
   },
   {
    "duration": 9,
    "start_time": "2022-09-23T09:36:53.882Z"
   },
   {
    "duration": 7,
    "start_time": "2022-09-23T09:37:13.576Z"
   },
   {
    "duration": 7,
    "start_time": "2022-09-23T09:37:24.839Z"
   },
   {
    "duration": 13,
    "start_time": "2022-09-23T09:38:05.848Z"
   },
   {
    "duration": 9,
    "start_time": "2022-09-23T09:38:32.653Z"
   },
   {
    "duration": 4,
    "start_time": "2022-09-23T09:38:53.597Z"
   },
   {
    "duration": 8,
    "start_time": "2022-09-23T09:41:57.561Z"
   },
   {
    "duration": 7,
    "start_time": "2022-09-23T09:42:03.064Z"
   },
   {
    "duration": 22,
    "start_time": "2022-09-23T09:44:26.172Z"
   },
   {
    "duration": 20,
    "start_time": "2022-09-23T09:45:01.964Z"
   },
   {
    "duration": 21,
    "start_time": "2022-09-23T09:45:55.376Z"
   },
   {
    "duration": 12,
    "start_time": "2022-09-23T09:46:02.443Z"
   },
   {
    "duration": 10,
    "start_time": "2022-09-23T09:46:32.890Z"
   },
   {
    "duration": 6,
    "start_time": "2022-09-23T09:46:46.952Z"
   },
   {
    "duration": 4,
    "start_time": "2022-09-23T09:47:05.088Z"
   },
   {
    "duration": 4,
    "start_time": "2022-09-23T09:47:15.071Z"
   },
   {
    "duration": 66,
    "start_time": "2022-09-23T09:47:19.145Z"
   },
   {
    "duration": 11,
    "start_time": "2022-09-23T09:49:25.723Z"
   },
   {
    "duration": 25,
    "start_time": "2022-09-23T09:49:53.205Z"
   },
   {
    "duration": 22,
    "start_time": "2022-09-23T10:14:03.778Z"
   },
   {
    "duration": 12,
    "start_time": "2022-09-23T10:15:18.043Z"
   },
   {
    "duration": 11,
    "start_time": "2022-09-23T10:15:28.203Z"
   },
   {
    "duration": 4,
    "start_time": "2022-09-23T10:15:39.901Z"
   },
   {
    "duration": 12,
    "start_time": "2022-09-23T10:15:55.383Z"
   },
   {
    "duration": 5,
    "start_time": "2022-09-23T10:15:58.001Z"
   },
   {
    "duration": 8,
    "start_time": "2022-09-23T10:18:08.441Z"
   },
   {
    "duration": 1391,
    "start_time": "2022-09-23T10:21:16.922Z"
   },
   {
    "duration": 820,
    "start_time": "2022-09-23T10:21:42.777Z"
   },
   {
    "duration": 13,
    "start_time": "2022-09-23T10:22:36.825Z"
   },
   {
    "duration": 17,
    "start_time": "2022-09-23T10:23:48.359Z"
   },
   {
    "duration": 17,
    "start_time": "2022-09-23T10:24:07.092Z"
   },
   {
    "duration": 11,
    "start_time": "2022-09-23T10:24:22.269Z"
   },
   {
    "duration": 13,
    "start_time": "2022-09-23T10:27:43.312Z"
   },
   {
    "duration": 13,
    "start_time": "2022-09-23T10:37:22.011Z"
   },
   {
    "duration": 16,
    "start_time": "2022-09-23T10:37:36.947Z"
   },
   {
    "duration": 12,
    "start_time": "2022-09-23T10:39:44.985Z"
   },
   {
    "duration": 5,
    "start_time": "2022-09-23T10:40:51.424Z"
   },
   {
    "duration": 4,
    "start_time": "2022-09-23T10:44:27.561Z"
   },
   {
    "duration": 12,
    "start_time": "2022-09-23T10:44:33.744Z"
   },
   {
    "duration": 8,
    "start_time": "2022-09-23T10:44:40.760Z"
   },
   {
    "duration": 13,
    "start_time": "2022-09-23T10:44:41.586Z"
   },
   {
    "duration": 3,
    "start_time": "2022-09-23T10:45:11.573Z"
   },
   {
    "duration": 9,
    "start_time": "2022-09-23T10:45:12.595Z"
   },
   {
    "duration": 6,
    "start_time": "2022-09-23T10:45:13.846Z"
   },
   {
    "duration": 4,
    "start_time": "2022-09-23T10:45:15.993Z"
   },
   {
    "duration": 9,
    "start_time": "2022-09-23T10:45:17.478Z"
   },
   {
    "duration": 12,
    "start_time": "2022-09-23T10:45:18.359Z"
   },
   {
    "duration": 4,
    "start_time": "2022-09-23T10:46:16.449Z"
   },
   {
    "duration": 9,
    "start_time": "2022-09-23T10:46:17.028Z"
   },
   {
    "duration": 7,
    "start_time": "2022-09-23T10:46:17.797Z"
   },
   {
    "duration": 3,
    "start_time": "2022-09-23T10:46:18.778Z"
   },
   {
    "duration": 9,
    "start_time": "2022-09-23T10:46:19.288Z"
   },
   {
    "duration": 12,
    "start_time": "2022-09-23T10:46:19.883Z"
   },
   {
    "duration": 12,
    "start_time": "2022-09-23T10:46:27.607Z"
   },
   {
    "duration": 12,
    "start_time": "2022-09-23T10:46:29.202Z"
   },
   {
    "duration": 14,
    "start_time": "2022-09-23T10:46:31.065Z"
   },
   {
    "duration": 22,
    "start_time": "2022-09-23T10:52:10.848Z"
   },
   {
    "duration": 8,
    "start_time": "2022-09-23T11:32:13.840Z"
   },
   {
    "duration": 505,
    "start_time": "2022-09-23T11:32:13.850Z"
   },
   {
    "duration": 24,
    "start_time": "2022-09-23T11:32:14.357Z"
   },
   {
    "duration": 16,
    "start_time": "2022-09-23T11:32:14.383Z"
   },
   {
    "duration": 17,
    "start_time": "2022-09-23T11:32:14.400Z"
   },
   {
    "duration": 37,
    "start_time": "2022-09-23T11:32:14.419Z"
   },
   {
    "duration": 4,
    "start_time": "2022-09-23T11:32:14.457Z"
   },
   {
    "duration": 21,
    "start_time": "2022-09-23T11:32:14.463Z"
   },
   {
    "duration": 8,
    "start_time": "2022-09-23T11:32:14.486Z"
   },
   {
    "duration": 8,
    "start_time": "2022-09-23T11:32:14.496Z"
   },
   {
    "duration": 5,
    "start_time": "2022-09-23T11:32:14.579Z"
   },
   {
    "duration": 36,
    "start_time": "2022-09-23T11:32:14.586Z"
   },
   {
    "duration": 10,
    "start_time": "2022-09-23T11:32:14.624Z"
   },
   {
    "duration": 3,
    "start_time": "2022-09-23T11:32:14.636Z"
   },
   {
    "duration": 36,
    "start_time": "2022-09-23T11:32:14.641Z"
   },
   {
    "duration": 22,
    "start_time": "2022-09-23T11:32:14.679Z"
   },
   {
    "duration": 18,
    "start_time": "2022-09-23T11:32:14.702Z"
   },
   {
    "duration": 4,
    "start_time": "2022-09-23T11:32:14.722Z"
   },
   {
    "duration": 20,
    "start_time": "2022-09-23T11:32:14.728Z"
   },
   {
    "duration": 31,
    "start_time": "2022-09-23T11:32:14.749Z"
   },
   {
    "duration": 4,
    "start_time": "2022-09-23T11:32:14.781Z"
   },
   {
    "duration": 13,
    "start_time": "2022-09-23T11:32:14.786Z"
   },
   {
    "duration": 14,
    "start_time": "2022-09-23T11:32:15.195Z"
   },
   {
    "duration": 20,
    "start_time": "2022-09-23T11:32:15.211Z"
   },
   {
    "duration": 14,
    "start_time": "2022-09-23T11:32:15.536Z"
   },
   {
    "duration": 11,
    "start_time": "2022-09-23T11:32:15.552Z"
   },
   {
    "duration": 12,
    "start_time": "2022-09-23T11:32:15.564Z"
   },
   {
    "duration": 9,
    "start_time": "2022-09-24T07:37:06.080Z"
   },
   {
    "duration": 526,
    "start_time": "2022-09-24T07:37:06.091Z"
   },
   {
    "duration": 21,
    "start_time": "2022-09-24T07:37:06.619Z"
   },
   {
    "duration": 23,
    "start_time": "2022-09-24T07:37:06.641Z"
   },
   {
    "duration": 8,
    "start_time": "2022-09-24T07:37:06.667Z"
   },
   {
    "duration": 57,
    "start_time": "2022-09-24T07:37:06.676Z"
   },
   {
    "duration": 3,
    "start_time": "2022-09-24T07:37:06.735Z"
   },
   {
    "duration": 33,
    "start_time": "2022-09-24T07:37:06.740Z"
   },
   {
    "duration": 20,
    "start_time": "2022-09-24T07:37:06.775Z"
   },
   {
    "duration": 37,
    "start_time": "2022-09-24T07:37:06.797Z"
   },
   {
    "duration": 33,
    "start_time": "2022-09-24T07:37:06.836Z"
   },
   {
    "duration": 38,
    "start_time": "2022-09-24T07:37:06.871Z"
   },
   {
    "duration": 8,
    "start_time": "2022-09-24T07:37:06.910Z"
   },
   {
    "duration": 25,
    "start_time": "2022-09-24T07:37:06.920Z"
   },
   {
    "duration": 21,
    "start_time": "2022-09-24T07:37:06.946Z"
   },
   {
    "duration": 37,
    "start_time": "2022-09-24T07:37:06.968Z"
   },
   {
    "duration": 24,
    "start_time": "2022-09-24T07:37:07.006Z"
   },
   {
    "duration": 4,
    "start_time": "2022-09-24T07:37:07.031Z"
   },
   {
    "duration": 22,
    "start_time": "2022-09-24T07:37:07.036Z"
   },
   {
    "duration": 10,
    "start_time": "2022-09-24T07:37:07.059Z"
   },
   {
    "duration": 7,
    "start_time": "2022-09-24T07:37:07.070Z"
   },
   {
    "duration": 15,
    "start_time": "2022-09-24T07:37:07.078Z"
   },
   {
    "duration": 13,
    "start_time": "2022-09-24T07:37:07.094Z"
   },
   {
    "duration": 22,
    "start_time": "2022-09-24T07:37:07.108Z"
   },
   {
    "duration": 13,
    "start_time": "2022-09-24T07:37:07.132Z"
   },
   {
    "duration": 30,
    "start_time": "2022-09-24T07:37:07.147Z"
   },
   {
    "duration": 38,
    "start_time": "2022-09-24T07:37:07.178Z"
   },
   {
    "duration": 53,
    "start_time": "2022-09-24T12:25:34.318Z"
   },
   {
    "duration": 73,
    "start_time": "2022-09-24T12:26:32.101Z"
   },
   {
    "duration": 46,
    "start_time": "2022-09-24T12:29:36.321Z"
   },
   {
    "duration": 7,
    "start_time": "2022-09-24T12:29:48.356Z"
   },
   {
    "duration": 629,
    "start_time": "2022-09-24T12:29:48.365Z"
   },
   {
    "duration": 25,
    "start_time": "2022-09-24T12:29:48.996Z"
   },
   {
    "duration": 13,
    "start_time": "2022-09-24T12:29:49.023Z"
   },
   {
    "duration": 10,
    "start_time": "2022-09-24T12:29:49.038Z"
   },
   {
    "duration": 33,
    "start_time": "2022-09-24T12:29:49.050Z"
   },
   {
    "duration": 3,
    "start_time": "2022-09-24T12:29:49.085Z"
   },
   {
    "duration": 9,
    "start_time": "2022-09-24T12:29:49.110Z"
   },
   {
    "duration": 12,
    "start_time": "2022-09-24T12:29:49.121Z"
   },
   {
    "duration": 16,
    "start_time": "2022-09-24T12:29:49.136Z"
   },
   {
    "duration": 7,
    "start_time": "2022-09-24T12:29:49.153Z"
   },
   {
    "duration": 47,
    "start_time": "2022-09-24T12:29:49.162Z"
   },
   {
    "duration": 12,
    "start_time": "2022-09-24T12:29:49.211Z"
   },
   {
    "duration": 3,
    "start_time": "2022-09-24T12:29:49.224Z"
   },
   {
    "duration": 18,
    "start_time": "2022-09-24T12:29:49.229Z"
   },
   {
    "duration": 22,
    "start_time": "2022-09-24T12:29:49.249Z"
   },
   {
    "duration": 39,
    "start_time": "2022-09-24T12:29:49.272Z"
   },
   {
    "duration": 3,
    "start_time": "2022-09-24T12:29:49.313Z"
   },
   {
    "duration": 14,
    "start_time": "2022-09-24T12:29:49.318Z"
   },
   {
    "duration": 6,
    "start_time": "2022-09-24T12:29:49.333Z"
   },
   {
    "duration": 3,
    "start_time": "2022-09-24T12:29:49.341Z"
   },
   {
    "duration": 16,
    "start_time": "2022-09-24T12:29:49.346Z"
   },
   {
    "duration": 17,
    "start_time": "2022-09-24T12:29:49.364Z"
   },
   {
    "duration": 28,
    "start_time": "2022-09-24T12:29:49.383Z"
   },
   {
    "duration": 6,
    "start_time": "2022-09-24T12:29:49.412Z"
   },
   {
    "duration": 12,
    "start_time": "2022-09-24T12:29:49.419Z"
   },
   {
    "duration": 13,
    "start_time": "2022-09-24T12:29:49.433Z"
   },
   {
    "duration": 17,
    "start_time": "2022-09-24T12:29:49.449Z"
   },
   {
    "duration": 7,
    "start_time": "2022-09-24T13:09:48.951Z"
   },
   {
    "duration": 17,
    "start_time": "2022-09-24T13:27:51.235Z"
   },
   {
    "duration": 7,
    "start_time": "2022-09-24T13:31:08.834Z"
   },
   {
    "duration": 14,
    "start_time": "2022-09-24T13:58:59.265Z"
   },
   {
    "duration": 51,
    "start_time": "2022-09-24T14:17:40.836Z"
   },
   {
    "duration": 8,
    "start_time": "2022-09-24T14:19:18.061Z"
   },
   {
    "duration": 507,
    "start_time": "2022-09-24T14:19:18.075Z"
   },
   {
    "duration": 22,
    "start_time": "2022-09-24T14:19:18.583Z"
   },
   {
    "duration": 42,
    "start_time": "2022-09-24T14:19:18.606Z"
   },
   {
    "duration": 15,
    "start_time": "2022-09-24T14:19:18.650Z"
   },
   {
    "duration": 53,
    "start_time": "2022-09-24T14:19:18.667Z"
   },
   {
    "duration": 4,
    "start_time": "2022-09-24T14:19:18.722Z"
   },
   {
    "duration": 26,
    "start_time": "2022-09-24T14:19:18.728Z"
   },
   {
    "duration": 35,
    "start_time": "2022-09-24T14:19:18.756Z"
   },
   {
    "duration": 40,
    "start_time": "2022-09-24T14:19:18.793Z"
   },
   {
    "duration": 28,
    "start_time": "2022-09-24T14:19:18.835Z"
   },
   {
    "duration": 65,
    "start_time": "2022-09-24T14:19:18.865Z"
   },
   {
    "duration": 10,
    "start_time": "2022-09-24T14:19:18.932Z"
   },
   {
    "duration": 40,
    "start_time": "2022-09-24T14:19:18.943Z"
   },
   {
    "duration": 32,
    "start_time": "2022-09-24T14:19:18.986Z"
   },
   {
    "duration": 36,
    "start_time": "2022-09-24T14:19:19.019Z"
   },
   {
    "duration": 36,
    "start_time": "2022-09-24T14:19:19.057Z"
   },
   {
    "duration": 31,
    "start_time": "2022-09-24T14:19:19.095Z"
   },
   {
    "duration": 46,
    "start_time": "2022-09-24T14:19:19.128Z"
   },
   {
    "duration": 35,
    "start_time": "2022-09-24T14:19:19.176Z"
   },
   {
    "duration": 28,
    "start_time": "2022-09-24T14:19:19.213Z"
   },
   {
    "duration": 45,
    "start_time": "2022-09-24T14:19:19.243Z"
   },
   {
    "duration": 49,
    "start_time": "2022-09-24T14:19:19.290Z"
   },
   {
    "duration": 50,
    "start_time": "2022-09-24T14:19:19.341Z"
   },
   {
    "duration": 62,
    "start_time": "2022-09-24T14:19:19.393Z"
   },
   {
    "duration": 51,
    "start_time": "2022-09-24T14:19:19.456Z"
   },
   {
    "duration": 34,
    "start_time": "2022-09-24T14:19:19.509Z"
   },
   {
    "duration": 57,
    "start_time": "2022-09-24T14:19:19.545Z"
   },
   {
    "duration": 38,
    "start_time": "2022-09-24T14:19:19.603Z"
   },
   {
    "duration": 42,
    "start_time": "2022-09-24T14:19:19.642Z"
   }
  ],
  "colab": {
   "name": "dpp_template_part2.ipynb",
   "provenance": []
  },
  "kernelspec": {
   "display_name": "Python 3 (ipykernel)",
   "language": "python",
   "name": "python3"
  },
  "language_info": {
   "codemirror_mode": {
    "name": "ipython",
    "version": 3
   },
   "file_extension": ".py",
   "mimetype": "text/x-python",
   "name": "python",
   "nbconvert_exporter": "python",
   "pygments_lexer": "ipython3",
   "version": "3.10.7"
  },
  "toc": {
   "base_numbering": 1,
   "nav_menu": {},
   "number_sections": true,
   "sideBar": true,
   "skip_h1_title": true,
   "title_cell": "Table of Contents",
   "title_sidebar": "Contents",
   "toc_cell": false,
   "toc_position": {},
   "toc_section_display": true,
   "toc_window_display": true
  }
 },
 "nbformat": 4,
 "nbformat_minor": 5
}
