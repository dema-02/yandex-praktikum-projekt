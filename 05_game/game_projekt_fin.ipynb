{
 "cells": [
  {
   "cell_type": "markdown",
   "id": "9e180d24",
   "metadata": {},
   "source": [
    "# Исследование продаж игр\n",
    "Вы работаете в интернет-магазине «Стримчик», который продаёт по всему миру компьютерные игры. Из открытых источников доступны исторические данные о продажах игр, оценки пользователей и экспертов, жанры и платформы (например, Xbox или PlayStation). Вам нужно выявить определяющие успешность игры закономерности. Это позволит сделать ставку на потенциально популярный продукт и спланировать рекламные кампании.\n",
    "\n",
    "Перед вами данные до 2016 года. Представим, что сейчас декабрь 2016 г., и вы планируете кампанию на 2017-й. Нужно отработать принцип работы с данными. Неважно, прогнозируете ли вы продажи на 2017 год по данным 2016-го или же 2027-й — по данным 2026 года.\n",
    "\n",
    "В наборе данных попадается аббревиатура ESRB (Entertainment Software Rating Board) — это ассоциация, определяющая возрастной рейтинг компьютерных игр. ESRB оценивает игровой контент и присваивает ему подходящую возрастную категорию, например, «Для взрослых», «Для детей младшего возраста» или «Для подростков»."
   ]
  },
  {
   "cell_type": "markdown",
   "id": "32ba610a",
   "metadata": {},
   "source": [
    "### Подготовка данных\n",
    "- Замените названия столбцов (приведите к нижнему регистру);\n",
    "- Преобразуйте данные в нужные типы. Опишите, в каких столбцах заменили тип данных и почему;\n",
    "- Обработайте пропуски при необходимости:\n",
    "- Объясните, почему заполнили пропуски определённым образом или почему не стали это делать;\n",
    "- Опишите причины, которые могли привести к пропускам;\n",
    "- Обратите внимание на аббревиатуру 'tbd' в столбце с оценкой пользователей. Отдельно разберите это значение и опишите, как его обработать;\n",
    "- Посчитайте суммарные продажи во всех регионах и запишите их в отдельный столбец.\n",
    "### Исследовательский анализ данных\n",
    "- Посмотрите, сколько игр выпускалось в разные годы. Важны ли данные за все периоды?\n",
    "- Посмотрите, как менялись продажи по платформам. Выберите платформы с наибольшими суммарными продажами и постройте распределение по годам. За какой характерный срок появляются новые и исчезают старые платформы?\n",
    "- Возьмите данные за соответствующий актуальный период. Актуальный период определите самостоятельно в результате исследования предыдущих вопросов. Основной фактор — эти данные помогут построить прогноз на 2017 год.\n",
    "- Не учитывайте в работе данные за предыдущие годы.\n",
    "- Какие платформы лидируют по продажам, растут или падают? Выберите несколько потенциально прибыльных платформ.\n",
    "- Постройте график «ящик с усами» по глобальным продажам игр в разбивке по платформам. Опишите результат.\n",
    "- Посмотрите, как влияют на продажи внутри одной популярной платформы отзывы пользователей и критиков. Постройте диаграмму рассеяния и посчитайте корреляцию между отзывами и продажами. Сформулируйте выводы.\n",
    "- Соотнесите выводы с продажами игр на других платформах.\n",
    "- Посмотрите на общее распределение игр по жанрам. Что можно сказать о самых прибыльных жанрах? Выделяются ли жанры с высокими и низкими продажами?\n",
    "### Портрет пользователя каждого региона\n",
    "- Определите для пользователя каждого региона (NA, EU, JP):\n",
    "- Самые популярные платформы (топ-5). Опишите различия в долях продаж.\n",
    "- Самые популярные жанры (топ-5). Поясните разницу.\n",
    "- Влияет ли рейтинг ESRB на продажи в отдельном регионе?\n",
    "### Проверька гипотезы\n",
    "- Средние пользовательские рейтинги платформ Xbox One и PC одинаковые;\n",
    "- Средние пользовательские рейтинги жанров Action (англ. «действие», экшен-игры) и Sports (англ. «спортивные соревнования») разные.\n",
    "- Задайте самостоятельно пороговое значение alpha.\n",
    "- Поясните:\n",
    "-- Как вы сформулировали нулевую и альтернативную гипотезы;\n",
    "-- Какой критерий применили для проверки гипотез и почему.\n",
    "### Общий вывод\n"
   ]
  },
  {
   "cell_type": "markdown",
   "id": "1782e19e",
   "metadata": {},
   "source": [
    "## Подготовка данных"
   ]
  },
  {
   "cell_type": "code",
   "execution_count": 1,
   "id": "06d56732",
   "metadata": {},
   "outputs": [],
   "source": [
    "import pandas as pd\n",
    "import numpy as np\n",
    "import matplotlib.pyplot as plt\n",
    "from scipy import stats as st\n",
    "import seaborn as sns\n",
    "import warnings\n",
    "warnings.filterwarnings('ignore')"
   ]
  },
  {
   "cell_type": "markdown",
   "id": "fd7a9775",
   "metadata": {},
   "source": [
    "### Исследуем данные"
   ]
  },
  {
   "cell_type": "code",
   "execution_count": 2,
   "id": "d7f64300",
   "metadata": {
    "scrolled": true
   },
   "outputs": [
    {
     "data": {
      "text/html": [
       "<div>\n",
       "<style scoped>\n",
       "    .dataframe tbody tr th:only-of-type {\n",
       "        vertical-align: middle;\n",
       "    }\n",
       "\n",
       "    .dataframe tbody tr th {\n",
       "        vertical-align: top;\n",
       "    }\n",
       "\n",
       "    .dataframe thead th {\n",
       "        text-align: right;\n",
       "    }\n",
       "</style>\n",
       "<table border=\"1\" class=\"dataframe\">\n",
       "  <thead>\n",
       "    <tr style=\"text-align: right;\">\n",
       "      <th></th>\n",
       "      <th>Name</th>\n",
       "      <th>Platform</th>\n",
       "      <th>Year_of_Release</th>\n",
       "      <th>Genre</th>\n",
       "      <th>NA_sales</th>\n",
       "      <th>EU_sales</th>\n",
       "      <th>JP_sales</th>\n",
       "      <th>Other_sales</th>\n",
       "      <th>Critic_Score</th>\n",
       "      <th>User_Score</th>\n",
       "      <th>Rating</th>\n",
       "    </tr>\n",
       "  </thead>\n",
       "  <tbody>\n",
       "    <tr>\n",
       "      <th>0</th>\n",
       "      <td>Wii Sports</td>\n",
       "      <td>Wii</td>\n",
       "      <td>2006.0</td>\n",
       "      <td>Sports</td>\n",
       "      <td>41.36</td>\n",
       "      <td>28.96</td>\n",
       "      <td>3.77</td>\n",
       "      <td>8.45</td>\n",
       "      <td>76.0</td>\n",
       "      <td>8</td>\n",
       "      <td>E</td>\n",
       "    </tr>\n",
       "    <tr>\n",
       "      <th>1</th>\n",
       "      <td>Super Mario Bros.</td>\n",
       "      <td>NES</td>\n",
       "      <td>1985.0</td>\n",
       "      <td>Platform</td>\n",
       "      <td>29.08</td>\n",
       "      <td>3.58</td>\n",
       "      <td>6.81</td>\n",
       "      <td>0.77</td>\n",
       "      <td>NaN</td>\n",
       "      <td>NaN</td>\n",
       "      <td>NaN</td>\n",
       "    </tr>\n",
       "    <tr>\n",
       "      <th>2</th>\n",
       "      <td>Mario Kart Wii</td>\n",
       "      <td>Wii</td>\n",
       "      <td>2008.0</td>\n",
       "      <td>Racing</td>\n",
       "      <td>15.68</td>\n",
       "      <td>12.76</td>\n",
       "      <td>3.79</td>\n",
       "      <td>3.29</td>\n",
       "      <td>82.0</td>\n",
       "      <td>8.3</td>\n",
       "      <td>E</td>\n",
       "    </tr>\n",
       "    <tr>\n",
       "      <th>3</th>\n",
       "      <td>Wii Sports Resort</td>\n",
       "      <td>Wii</td>\n",
       "      <td>2009.0</td>\n",
       "      <td>Sports</td>\n",
       "      <td>15.61</td>\n",
       "      <td>10.93</td>\n",
       "      <td>3.28</td>\n",
       "      <td>2.95</td>\n",
       "      <td>80.0</td>\n",
       "      <td>8</td>\n",
       "      <td>E</td>\n",
       "    </tr>\n",
       "    <tr>\n",
       "      <th>4</th>\n",
       "      <td>Pokemon Red/Pokemon Blue</td>\n",
       "      <td>GB</td>\n",
       "      <td>1996.0</td>\n",
       "      <td>Role-Playing</td>\n",
       "      <td>11.27</td>\n",
       "      <td>8.89</td>\n",
       "      <td>10.22</td>\n",
       "      <td>1.00</td>\n",
       "      <td>NaN</td>\n",
       "      <td>NaN</td>\n",
       "      <td>NaN</td>\n",
       "    </tr>\n",
       "  </tbody>\n",
       "</table>\n",
       "</div>"
      ],
      "text/plain": [
       "                       Name Platform  Year_of_Release         Genre  NA_sales  \\\n",
       "0                Wii Sports      Wii           2006.0        Sports     41.36   \n",
       "1         Super Mario Bros.      NES           1985.0      Platform     29.08   \n",
       "2            Mario Kart Wii      Wii           2008.0        Racing     15.68   \n",
       "3         Wii Sports Resort      Wii           2009.0        Sports     15.61   \n",
       "4  Pokemon Red/Pokemon Blue       GB           1996.0  Role-Playing     11.27   \n",
       "\n",
       "   EU_sales  JP_sales  Other_sales  Critic_Score User_Score Rating  \n",
       "0     28.96      3.77         8.45          76.0          8      E  \n",
       "1      3.58      6.81         0.77           NaN        NaN    NaN  \n",
       "2     12.76      3.79         3.29          82.0        8.3      E  \n",
       "3     10.93      3.28         2.95          80.0          8      E  \n",
       "4      8.89     10.22         1.00           NaN        NaN    NaN  "
      ]
     },
     "execution_count": 2,
     "metadata": {},
     "output_type": "execute_result"
    }
   ],
   "source": [
    "try:\n",
    "    games = pd.read_csv('C:\\\\Users\\\\эйч пи\\\\Desktop\\\\Учеба\\\\Аналитик данных\\\\jupyter notebook\\\\projekts\\\\game\\\\games.csv')\n",
    "except:\n",
    "    games = pd.read_csv('/datasets/games.csv')\n",
    "games.head()"
   ]
  },
  {
   "cell_type": "code",
   "execution_count": 3,
   "id": "a4e6ddee",
   "metadata": {},
   "outputs": [
    {
     "name": "stdout",
     "output_type": "stream",
     "text": [
      "<class 'pandas.core.frame.DataFrame'>\n",
      "RangeIndex: 16715 entries, 0 to 16714\n",
      "Data columns (total 11 columns):\n",
      " #   Column           Non-Null Count  Dtype  \n",
      "---  ------           --------------  -----  \n",
      " 0   Name             16713 non-null  object \n",
      " 1   Platform         16715 non-null  object \n",
      " 2   Year_of_Release  16446 non-null  float64\n",
      " 3   Genre            16713 non-null  object \n",
      " 4   NA_sales         16715 non-null  float64\n",
      " 5   EU_sales         16715 non-null  float64\n",
      " 6   JP_sales         16715 non-null  float64\n",
      " 7   Other_sales      16715 non-null  float64\n",
      " 8   Critic_Score     8137 non-null   float64\n",
      " 9   User_Score       10014 non-null  object \n",
      " 10  Rating           9949 non-null   object \n",
      "dtypes: float64(6), object(5)\n",
      "memory usage: 1.4+ MB\n"
     ]
    }
   ],
   "source": [
    "games.info() # определим типы данных и пропуски в данных"
   ]
  },
  {
   "cell_type": "code",
   "execution_count": 4,
   "id": "c2ad0afb",
   "metadata": {},
   "outputs": [
    {
     "data": {
      "text/html": [
       "<style type=\"text/css\">\n",
       "#T_677a2_row0_col0, #T_677a2_row1_col0, #T_677a2_row3_col0, #T_677a2_row4_col0, #T_677a2_row5_col0, #T_677a2_row6_col0, #T_677a2_row7_col0 {\n",
       "  background-color: #3b4cc0;\n",
       "  color: #f1f1f1;\n",
       "}\n",
       "#T_677a2_row2_col0 {\n",
       "  background-color: #4358cb;\n",
       "  color: #f1f1f1;\n",
       "}\n",
       "#T_677a2_row8_col0 {\n",
       "  background-color: #b40426;\n",
       "  color: #f1f1f1;\n",
       "}\n",
       "#T_677a2_row9_col0 {\n",
       "  background-color: #f08b6e;\n",
       "  color: #f1f1f1;\n",
       "}\n",
       "#T_677a2_row10_col0 {\n",
       "  background-color: #ef886b;\n",
       "  color: #f1f1f1;\n",
       "}\n",
       "</style>\n",
       "<table id=\"T_677a2\">\n",
       "  <thead>\n",
       "    <tr>\n",
       "      <th class=\"blank level0\" >&nbsp;</th>\n",
       "      <th id=\"T_677a2_level0_col0\" class=\"col_heading level0 col0\" >0</th>\n",
       "    </tr>\n",
       "  </thead>\n",
       "  <tbody>\n",
       "    <tr>\n",
       "      <th id=\"T_677a2_level0_row0\" class=\"row_heading level0 row0\" >Name</th>\n",
       "      <td id=\"T_677a2_row0_col0\" class=\"data row0 col0\" >0.000000</td>\n",
       "    </tr>\n",
       "    <tr>\n",
       "      <th id=\"T_677a2_level0_row1\" class=\"row_heading level0 row1\" >Platform</th>\n",
       "      <td id=\"T_677a2_row1_col0\" class=\"data row1 col0\" >0.000000</td>\n",
       "    </tr>\n",
       "    <tr>\n",
       "      <th id=\"T_677a2_level0_row2\" class=\"row_heading level0 row2\" >Year_of_Release</th>\n",
       "      <td id=\"T_677a2_row2_col0\" class=\"data row2 col0\" >1.600000</td>\n",
       "    </tr>\n",
       "    <tr>\n",
       "      <th id=\"T_677a2_level0_row3\" class=\"row_heading level0 row3\" >Genre</th>\n",
       "      <td id=\"T_677a2_row3_col0\" class=\"data row3 col0\" >0.000000</td>\n",
       "    </tr>\n",
       "    <tr>\n",
       "      <th id=\"T_677a2_level0_row4\" class=\"row_heading level0 row4\" >NA_sales</th>\n",
       "      <td id=\"T_677a2_row4_col0\" class=\"data row4 col0\" >0.000000</td>\n",
       "    </tr>\n",
       "    <tr>\n",
       "      <th id=\"T_677a2_level0_row5\" class=\"row_heading level0 row5\" >EU_sales</th>\n",
       "      <td id=\"T_677a2_row5_col0\" class=\"data row5 col0\" >0.000000</td>\n",
       "    </tr>\n",
       "    <tr>\n",
       "      <th id=\"T_677a2_level0_row6\" class=\"row_heading level0 row6\" >JP_sales</th>\n",
       "      <td id=\"T_677a2_row6_col0\" class=\"data row6 col0\" >0.000000</td>\n",
       "    </tr>\n",
       "    <tr>\n",
       "      <th id=\"T_677a2_level0_row7\" class=\"row_heading level0 row7\" >Other_sales</th>\n",
       "      <td id=\"T_677a2_row7_col0\" class=\"data row7 col0\" >0.000000</td>\n",
       "    </tr>\n",
       "    <tr>\n",
       "      <th id=\"T_677a2_level0_row8\" class=\"row_heading level0 row8\" >Critic_Score</th>\n",
       "      <td id=\"T_677a2_row8_col0\" class=\"data row8 col0\" >51.300000</td>\n",
       "    </tr>\n",
       "    <tr>\n",
       "      <th id=\"T_677a2_level0_row9\" class=\"row_heading level0 row9\" >User_Score</th>\n",
       "      <td id=\"T_677a2_row9_col0\" class=\"data row9 col0\" >40.100000</td>\n",
       "    </tr>\n",
       "    <tr>\n",
       "      <th id=\"T_677a2_level0_row10\" class=\"row_heading level0 row10\" >Rating</th>\n",
       "      <td id=\"T_677a2_row10_col0\" class=\"data row10 col0\" >40.500000</td>\n",
       "    </tr>\n",
       "  </tbody>\n",
       "</table>\n"
      ],
      "text/plain": [
       "<pandas.io.formats.style.Styler at 0x1a3efa84880>"
      ]
     },
     "execution_count": 4,
     "metadata": {},
     "output_type": "execute_result"
    }
   ],
   "source": [
    "pd.DataFrame(round(games.isna().mean()*100,1)).style.background_gradient('coolwarm') # доля пропусков"
   ]
  },
  {
   "cell_type": "code",
   "execution_count": 5,
   "id": "a82d0782",
   "metadata": {},
   "outputs": [
    {
     "data": {
      "text/html": [
       "<div>\n",
       "<style scoped>\n",
       "    .dataframe tbody tr th:only-of-type {\n",
       "        vertical-align: middle;\n",
       "    }\n",
       "\n",
       "    .dataframe tbody tr th {\n",
       "        vertical-align: top;\n",
       "    }\n",
       "\n",
       "    .dataframe thead th {\n",
       "        text-align: right;\n",
       "    }\n",
       "</style>\n",
       "<table border=\"1\" class=\"dataframe\">\n",
       "  <thead>\n",
       "    <tr style=\"text-align: right;\">\n",
       "      <th></th>\n",
       "      <th>count</th>\n",
       "      <th>mean</th>\n",
       "      <th>std</th>\n",
       "      <th>min</th>\n",
       "      <th>25%</th>\n",
       "      <th>50%</th>\n",
       "      <th>75%</th>\n",
       "      <th>max</th>\n",
       "    </tr>\n",
       "  </thead>\n",
       "  <tbody>\n",
       "    <tr>\n",
       "      <th>Year_of_Release</th>\n",
       "      <td>16446.0</td>\n",
       "      <td>2006.484616</td>\n",
       "      <td>5.877050</td>\n",
       "      <td>1980.0</td>\n",
       "      <td>2003.0</td>\n",
       "      <td>2007.00</td>\n",
       "      <td>2010.00</td>\n",
       "      <td>2016.00</td>\n",
       "    </tr>\n",
       "    <tr>\n",
       "      <th>NA_sales</th>\n",
       "      <td>16715.0</td>\n",
       "      <td>0.263377</td>\n",
       "      <td>0.813604</td>\n",
       "      <td>0.0</td>\n",
       "      <td>0.0</td>\n",
       "      <td>0.08</td>\n",
       "      <td>0.24</td>\n",
       "      <td>41.36</td>\n",
       "    </tr>\n",
       "    <tr>\n",
       "      <th>EU_sales</th>\n",
       "      <td>16715.0</td>\n",
       "      <td>0.145060</td>\n",
       "      <td>0.503339</td>\n",
       "      <td>0.0</td>\n",
       "      <td>0.0</td>\n",
       "      <td>0.02</td>\n",
       "      <td>0.11</td>\n",
       "      <td>28.96</td>\n",
       "    </tr>\n",
       "    <tr>\n",
       "      <th>JP_sales</th>\n",
       "      <td>16715.0</td>\n",
       "      <td>0.077617</td>\n",
       "      <td>0.308853</td>\n",
       "      <td>0.0</td>\n",
       "      <td>0.0</td>\n",
       "      <td>0.00</td>\n",
       "      <td>0.04</td>\n",
       "      <td>10.22</td>\n",
       "    </tr>\n",
       "    <tr>\n",
       "      <th>Other_sales</th>\n",
       "      <td>16715.0</td>\n",
       "      <td>0.047342</td>\n",
       "      <td>0.186731</td>\n",
       "      <td>0.0</td>\n",
       "      <td>0.0</td>\n",
       "      <td>0.01</td>\n",
       "      <td>0.03</td>\n",
       "      <td>10.57</td>\n",
       "    </tr>\n",
       "    <tr>\n",
       "      <th>Critic_Score</th>\n",
       "      <td>8137.0</td>\n",
       "      <td>68.967679</td>\n",
       "      <td>13.938165</td>\n",
       "      <td>13.0</td>\n",
       "      <td>60.0</td>\n",
       "      <td>71.00</td>\n",
       "      <td>79.00</td>\n",
       "      <td>98.00</td>\n",
       "    </tr>\n",
       "  </tbody>\n",
       "</table>\n",
       "</div>"
      ],
      "text/plain": [
       "                   count         mean        std     min     25%      50%  \\\n",
       "Year_of_Release  16446.0  2006.484616   5.877050  1980.0  2003.0  2007.00   \n",
       "NA_sales         16715.0     0.263377   0.813604     0.0     0.0     0.08   \n",
       "EU_sales         16715.0     0.145060   0.503339     0.0     0.0     0.02   \n",
       "JP_sales         16715.0     0.077617   0.308853     0.0     0.0     0.00   \n",
       "Other_sales      16715.0     0.047342   0.186731     0.0     0.0     0.01   \n",
       "Critic_Score      8137.0    68.967679  13.938165    13.0    60.0    71.00   \n",
       "\n",
       "                     75%      max  \n",
       "Year_of_Release  2010.00  2016.00  \n",
       "NA_sales            0.24    41.36  \n",
       "EU_sales            0.11    28.96  \n",
       "JP_sales            0.04    10.22  \n",
       "Other_sales         0.03    10.57  \n",
       "Critic_Score       79.00    98.00  "
      ]
     },
     "execution_count": 5,
     "metadata": {},
     "output_type": "execute_result"
    }
   ],
   "source": [
    "games.describe().T\n"
   ]
  },
  {
   "cell_type": "code",
   "execution_count": 6,
   "id": "60f41211",
   "metadata": {},
   "outputs": [
    {
     "data": {
      "text/plain": [
       "array(['Wii', 'NES', 'GB', 'DS', 'X360', 'PS3', 'PS2', 'SNES', 'GBA',\n",
       "       'PS4', '3DS', 'N64', 'PS', 'XB', 'PC', '2600', 'PSP', 'XOne',\n",
       "       'WiiU', 'GC', 'GEN', 'DC', 'PSV', 'SAT', 'SCD', 'WS', 'NG', 'TG16',\n",
       "       '3DO', 'GG', 'PCFX'], dtype=object)"
      ]
     },
     "metadata": {},
     "output_type": "display_data"
    },
    {
     "data": {
      "text/plain": [
       "array(['Sports', 'Platform', 'Racing', 'Role-Playing', 'Puzzle', 'Misc',\n",
       "       'Shooter', 'Simulation', 'Action', 'Fighting', 'Adventure',\n",
       "       'Strategy', nan], dtype=object)"
      ]
     },
     "metadata": {},
     "output_type": "display_data"
    },
    {
     "data": {
      "text/plain": [
       "array(['8', nan, '8.3', '8.5', '6.6', '8.4', '8.6', '7.7', '6.3', '7.4',\n",
       "       '8.2', '9', '7.9', '8.1', '8.7', '7.1', '3.4', '5.3', '4.8', '3.2',\n",
       "       '8.9', '6.4', '7.8', '7.5', '2.6', '7.2', '9.2', '7', '7.3', '4.3',\n",
       "       '7.6', '5.7', '5', '9.1', '6.5', 'tbd', '8.8', '6.9', '9.4', '6.8',\n",
       "       '6.1', '6.7', '5.4', '4', '4.9', '4.5', '9.3', '6.2', '4.2', '6',\n",
       "       '3.7', '4.1', '5.8', '5.6', '5.5', '4.4', '4.6', '5.9', '3.9',\n",
       "       '3.1', '2.9', '5.2', '3.3', '4.7', '5.1', '3.5', '2.5', '1.9', '3',\n",
       "       '2.7', '2.2', '2', '9.5', '2.1', '3.6', '2.8', '1.8', '3.8', '0',\n",
       "       '1.6', '9.6', '2.4', '1.7', '1.1', '0.3', '1.5', '0.7', '1.2',\n",
       "       '2.3', '0.5', '1.3', '0.2', '0.6', '1.4', '0.9', '1', '9.7'],\n",
       "      dtype=object)"
      ]
     },
     "metadata": {},
     "output_type": "display_data"
    }
   ],
   "source": [
    "display(games['Platform'].unique()) # уникальные значения данных\n",
    "display(games['Genre'].unique())\n",
    "display(games['User_Score'].unique())"
   ]
  },
  {
   "cell_type": "markdown",
   "id": "45953bff",
   "metadata": {},
   "source": [
    "#### Рузультат исследования  данных в таблце:\n",
    "- В таблице присутствуют данные с 1980 до 2016 года. \n",
    "- Плафтформы и жанры заполнены на первый взгляд корректно. \n",
    "- В колонках Critic_Score, User_Score и Rating много пропусков.\n",
    "- User_Score также их надо перевести в числовой формат.\n",
    "- В User_Score есть значение tbd - заменить его на nan\n",
    "- Год выпуска отсутствует в 1,6% записей, его можно удалить нужно перести в формат дат.\n",
    "- Переименовать колонки - перевести в нижний регистр.\n",
    "- нет названия у 2 игр. Удалим эти строки.\n"
   ]
  },
  {
   "cell_type": "code",
   "execution_count": 7,
   "id": "62b65eff",
   "metadata": {},
   "outputs": [
    {
     "data": {
      "text/html": [
       "<div>\n",
       "<style scoped>\n",
       "    .dataframe tbody tr th:only-of-type {\n",
       "        vertical-align: middle;\n",
       "    }\n",
       "\n",
       "    .dataframe tbody tr th {\n",
       "        vertical-align: top;\n",
       "    }\n",
       "\n",
       "    .dataframe thead th {\n",
       "        text-align: right;\n",
       "    }\n",
       "</style>\n",
       "<table border=\"1\" class=\"dataframe\">\n",
       "  <thead>\n",
       "    <tr style=\"text-align: right;\">\n",
       "      <th></th>\n",
       "      <th>Name</th>\n",
       "      <th>Platform</th>\n",
       "      <th>Year_of_Release</th>\n",
       "      <th>Genre</th>\n",
       "      <th>NA_sales</th>\n",
       "      <th>EU_sales</th>\n",
       "      <th>JP_sales</th>\n",
       "      <th>Other_sales</th>\n",
       "      <th>Critic_Score</th>\n",
       "      <th>User_Score</th>\n",
       "      <th>Rating</th>\n",
       "    </tr>\n",
       "  </thead>\n",
       "  <tbody>\n",
       "    <tr>\n",
       "      <th>1650</th>\n",
       "      <td>NASCAR Thunder 2003</td>\n",
       "      <td>PS2</td>\n",
       "      <td>NaN</td>\n",
       "      <td>Racing</td>\n",
       "      <td>0.60</td>\n",
       "      <td>0.46</td>\n",
       "      <td>0.00</td>\n",
       "      <td>0.16</td>\n",
       "      <td>84.0</td>\n",
       "      <td>8.7</td>\n",
       "      <td>E</td>\n",
       "    </tr>\n",
       "    <tr>\n",
       "      <th>11320</th>\n",
       "      <td>The King of Fighters '98: Dream Match Never Ends</td>\n",
       "      <td>PS</td>\n",
       "      <td>1999.0</td>\n",
       "      <td>Fighting</td>\n",
       "      <td>0.05</td>\n",
       "      <td>0.03</td>\n",
       "      <td>0.00</td>\n",
       "      <td>0.01</td>\n",
       "      <td>NaN</td>\n",
       "      <td>NaN</td>\n",
       "      <td>NaN</td>\n",
       "    </tr>\n",
       "    <tr>\n",
       "      <th>14386</th>\n",
       "      <td>Airship Q</td>\n",
       "      <td>PSV</td>\n",
       "      <td>2015.0</td>\n",
       "      <td>Platform</td>\n",
       "      <td>0.00</td>\n",
       "      <td>0.00</td>\n",
       "      <td>0.03</td>\n",
       "      <td>0.00</td>\n",
       "      <td>NaN</td>\n",
       "      <td>NaN</td>\n",
       "      <td>NaN</td>\n",
       "    </tr>\n",
       "    <tr>\n",
       "      <th>1880</th>\n",
       "      <td>Project CARS</td>\n",
       "      <td>PS4</td>\n",
       "      <td>2015.0</td>\n",
       "      <td>Racing</td>\n",
       "      <td>0.20</td>\n",
       "      <td>0.70</td>\n",
       "      <td>0.02</td>\n",
       "      <td>0.16</td>\n",
       "      <td>83.0</td>\n",
       "      <td>6.6</td>\n",
       "      <td>E</td>\n",
       "    </tr>\n",
       "    <tr>\n",
       "      <th>15164</th>\n",
       "      <td>Hyakka Hyakurou: Sengoku Ninpoujou</td>\n",
       "      <td>PSV</td>\n",
       "      <td>2016.0</td>\n",
       "      <td>Adventure</td>\n",
       "      <td>0.00</td>\n",
       "      <td>0.00</td>\n",
       "      <td>0.02</td>\n",
       "      <td>0.00</td>\n",
       "      <td>NaN</td>\n",
       "      <td>NaN</td>\n",
       "      <td>NaN</td>\n",
       "    </tr>\n",
       "    <tr>\n",
       "      <th>5354</th>\n",
       "      <td>Classic NES Series: Ice Climber</td>\n",
       "      <td>GBA</td>\n",
       "      <td>2004.0</td>\n",
       "      <td>Platform</td>\n",
       "      <td>0.10</td>\n",
       "      <td>0.04</td>\n",
       "      <td>0.20</td>\n",
       "      <td>0.01</td>\n",
       "      <td>66.0</td>\n",
       "      <td>tbd</td>\n",
       "      <td>E</td>\n",
       "    </tr>\n",
       "    <tr>\n",
       "      <th>5410</th>\n",
       "      <td>Spy Hunter</td>\n",
       "      <td>XB</td>\n",
       "      <td>2002.0</td>\n",
       "      <td>Racing</td>\n",
       "      <td>0.25</td>\n",
       "      <td>0.07</td>\n",
       "      <td>0.00</td>\n",
       "      <td>0.01</td>\n",
       "      <td>71.0</td>\n",
       "      <td>tbd</td>\n",
       "      <td>T</td>\n",
       "    </tr>\n",
       "    <tr>\n",
       "      <th>4057</th>\n",
       "      <td>Transformers: Revenge of the Fallen (XBox 360,...</td>\n",
       "      <td>PS2</td>\n",
       "      <td>2009.0</td>\n",
       "      <td>Shooter</td>\n",
       "      <td>0.25</td>\n",
       "      <td>0.01</td>\n",
       "      <td>0.00</td>\n",
       "      <td>0.22</td>\n",
       "      <td>NaN</td>\n",
       "      <td>NaN</td>\n",
       "      <td>NaN</td>\n",
       "    </tr>\n",
       "    <tr>\n",
       "      <th>10891</th>\n",
       "      <td>X-COM: UFO Defense</td>\n",
       "      <td>PS</td>\n",
       "      <td>1995.0</td>\n",
       "      <td>Strategy</td>\n",
       "      <td>0.05</td>\n",
       "      <td>0.04</td>\n",
       "      <td>0.00</td>\n",
       "      <td>0.01</td>\n",
       "      <td>NaN</td>\n",
       "      <td>NaN</td>\n",
       "      <td>NaN</td>\n",
       "    </tr>\n",
       "    <tr>\n",
       "      <th>5960</th>\n",
       "      <td>WinBack: Covert Operations</td>\n",
       "      <td>PS2</td>\n",
       "      <td>2000.0</td>\n",
       "      <td>Shooter</td>\n",
       "      <td>0.14</td>\n",
       "      <td>0.11</td>\n",
       "      <td>0.00</td>\n",
       "      <td>0.04</td>\n",
       "      <td>66.0</td>\n",
       "      <td>7.7</td>\n",
       "      <td>T</td>\n",
       "    </tr>\n",
       "  </tbody>\n",
       "</table>\n",
       "</div>"
      ],
      "text/plain": [
       "                                                    Name Platform  \\\n",
       "1650                                 NASCAR Thunder 2003      PS2   \n",
       "11320   The King of Fighters '98: Dream Match Never Ends       PS   \n",
       "14386                                          Airship Q      PSV   \n",
       "1880                                        Project CARS      PS4   \n",
       "15164                 Hyakka Hyakurou: Sengoku Ninpoujou      PSV   \n",
       "5354                     Classic NES Series: Ice Climber      GBA   \n",
       "5410                                          Spy Hunter       XB   \n",
       "4057   Transformers: Revenge of the Fallen (XBox 360,...      PS2   \n",
       "10891                                 X-COM: UFO Defense       PS   \n",
       "5960                          WinBack: Covert Operations      PS2   \n",
       "\n",
       "       Year_of_Release      Genre  NA_sales  EU_sales  JP_sales  Other_sales  \\\n",
       "1650               NaN     Racing      0.60      0.46      0.00         0.16   \n",
       "11320           1999.0   Fighting      0.05      0.03      0.00         0.01   \n",
       "14386           2015.0   Platform      0.00      0.00      0.03         0.00   \n",
       "1880            2015.0     Racing      0.20      0.70      0.02         0.16   \n",
       "15164           2016.0  Adventure      0.00      0.00      0.02         0.00   \n",
       "5354            2004.0   Platform      0.10      0.04      0.20         0.01   \n",
       "5410            2002.0     Racing      0.25      0.07      0.00         0.01   \n",
       "4057            2009.0    Shooter      0.25      0.01      0.00         0.22   \n",
       "10891           1995.0   Strategy      0.05      0.04      0.00         0.01   \n",
       "5960            2000.0    Shooter      0.14      0.11      0.00         0.04   \n",
       "\n",
       "       Critic_Score User_Score Rating  \n",
       "1650           84.0        8.7      E  \n",
       "11320           NaN        NaN    NaN  \n",
       "14386           NaN        NaN    NaN  \n",
       "1880           83.0        6.6      E  \n",
       "15164           NaN        NaN    NaN  \n",
       "5354           66.0        tbd      E  \n",
       "5410           71.0        tbd      T  \n",
       "4057            NaN        NaN    NaN  \n",
       "10891           NaN        NaN    NaN  \n",
       "5960           66.0        7.7      T  "
      ]
     },
     "execution_count": 7,
     "metadata": {},
     "output_type": "execute_result"
    }
   ],
   "source": [
    "games.sample(10)"
   ]
  },
  {
   "cell_type": "markdown",
   "id": "1bb40cb0",
   "metadata": {},
   "source": [
    "### Предобработка данных"
   ]
  },
  {
   "cell_type": "code",
   "execution_count": 8,
   "id": "ad338d45",
   "metadata": {},
   "outputs": [
    {
     "data": {
      "text/plain": [
       "Index(['name', 'platform', 'year_of_release', 'genre', 'na_sales', 'eu_sales',\n",
       "       'jp_sales', 'other_sales', 'critic_score', 'user_score', 'rating'],\n",
       "      dtype='object')"
      ]
     },
     "execution_count": 8,
     "metadata": {},
     "output_type": "execute_result"
    }
   ],
   "source": [
    "games.columns = [x.lower() for x in games.columns] # приведем к нижнему регистру\n",
    "games.columns"
   ]
  },
  {
   "cell_type": "code",
   "execution_count": 9,
   "id": "1e0b26ae",
   "metadata": {},
   "outputs": [],
   "source": [
    "games = games.dropna(subset=['year_of_release', 'name']) # удалил строки без указания года и на названия\n",
    "#можно было извлечь из названия, но их мало, считаю, что не повлияет на результаты\n",
    "games['year_of_release'] = games['year_of_release'].astype('int64')"
   ]
  },
  {
   "cell_type": "markdown",
   "id": "feb8f774",
   "metadata": {},
   "source": [
    "Вероятная причина - ошибка при выгрузке файла. Иных причин отсутствия данных в годе выпуска не вижу."
   ]
  },
  {
   "cell_type": "code",
   "execution_count": 10,
   "id": "e43710fa",
   "metadata": {},
   "outputs": [],
   "source": [
    "games['user_score'] = games['user_score'].replace('tbd', np.NaN) # заменим неопределенные рейтинги на NaN\n",
    "games['user_score'] = games['user_score'].astype('float64')"
   ]
  },
  {
   "cell_type": "markdown",
   "id": "15925966",
   "metadata": {},
   "source": [
    "Заменил данные в столбце user_score на NaN, т.к. 'tbd' расшифровывается как 'to be determined', то есть 'еще не определен', соответсвенно рейтинга еще нет.\n",
    "Отсутствие данных - не поставлена оценка пользователей. "
   ]
  },
  {
   "cell_type": "code",
   "execution_count": 11,
   "id": "9b5b5175",
   "metadata": {},
   "outputs": [
    {
     "data": {
      "text/plain": [
       "array(['E', nan, 'M', 'T', 'E10+', 'K-A', 'AO', 'EC', 'RP'], dtype=object)"
      ]
     },
     "metadata": {},
     "output_type": "display_data"
    }
   ],
   "source": [
    "display(games['rating'].unique()) "
   ]
  },
  {
   "cell_type": "markdown",
   "id": "1576c438",
   "metadata": {},
   "source": [
    "Рейтинг менялся в 1996 году и \"К-А\" (\"Kids to Adults\") стало \"Е\" («Everyone»). Внесем изменение - заменим на \"Е\"."
   ]
  },
  {
   "cell_type": "code",
   "execution_count": 12,
   "id": "89510ac8",
   "metadata": {},
   "outputs": [],
   "source": [
    "games['rating'] = games['rating'].replace('K-A','E') # приведем рейтинги к единой системе\n",
    "games['rating'] = games['rating'].fillna('RP')"
   ]
  },
  {
   "cell_type": "code",
   "execution_count": 13,
   "id": "98edeaf4",
   "metadata": {},
   "outputs": [
    {
     "data": {
      "text/plain": [
       "array(['E', 'RP', 'M', 'T', 'E10+', 'AO', 'EC'], dtype=object)"
      ]
     },
     "metadata": {},
     "output_type": "display_data"
    }
   ],
   "source": [
    "display(games['rating'].unique()) "
   ]
  },
  {
   "cell_type": "code",
   "execution_count": 14,
   "id": "a530d701",
   "metadata": {},
   "outputs": [
    {
     "name": "stdout",
     "output_type": "stream",
     "text": [
      "<class 'pandas.core.frame.DataFrame'>\n",
      "Int64Index: 16444 entries, 0 to 16714\n",
      "Data columns (total 11 columns):\n",
      " #   Column           Non-Null Count  Dtype  \n",
      "---  ------           --------------  -----  \n",
      " 0   name             16444 non-null  object \n",
      " 1   platform         16444 non-null  object \n",
      " 2   year_of_release  16444 non-null  int64  \n",
      " 3   genre            16444 non-null  object \n",
      " 4   na_sales         16444 non-null  float64\n",
      " 5   eu_sales         16444 non-null  float64\n",
      " 6   jp_sales         16444 non-null  float64\n",
      " 7   other_sales      16444 non-null  float64\n",
      " 8   critic_score     7983 non-null   float64\n",
      " 9   user_score       7463 non-null   float64\n",
      " 10  rating           16444 non-null  object \n",
      "dtypes: float64(6), int64(1), object(4)\n",
      "memory usage: 1.5+ MB\n"
     ]
    }
   ],
   "source": [
    "games.info()"
   ]
  },
  {
   "cell_type": "code",
   "execution_count": 15,
   "id": "55842eb8",
   "metadata": {},
   "outputs": [
    {
     "data": {
      "text/plain": [
       "array([76., nan, 82., 80., 89., 58., 87., 91., 61., 97., 95., 77., 88.,\n",
       "       83., 94., 93., 85., 86., 98., 96., 90., 84., 73., 74., 78., 92.,\n",
       "       71., 72., 68., 62., 49., 67., 81., 66., 56., 79., 70., 59., 64.,\n",
       "       75., 60., 63., 69., 50., 25., 42., 44., 55., 48., 57., 29., 47.,\n",
       "       65., 54., 20., 53., 37., 38., 33., 52., 30., 32., 43., 45., 51.,\n",
       "       40., 46., 39., 34., 41., 36., 31., 27., 35., 26., 19., 28., 23.,\n",
       "       24., 21., 17., 13.])"
      ]
     },
     "metadata": {},
     "output_type": "display_data"
    },
    {
     "data": {
      "text/plain": [
       "array([8. , nan, 8.3, 8.5, 6.6, 8.4, 8.6, 7.7, 6.3, 7.4, 8.2, 9. , 7.9,\n",
       "       8.1, 8.7, 7.1, 3.4, 5.3, 4.8, 3.2, 8.9, 6.4, 7.8, 7.5, 2.6, 7.2,\n",
       "       9.2, 7. , 7.3, 4.3, 7.6, 5.7, 5. , 9.1, 6.5, 8.8, 6.9, 9.4, 6.8,\n",
       "       6.1, 6.7, 5.4, 4. , 4.9, 4.5, 9.3, 6.2, 4.2, 6. , 3.7, 4.1, 5.8,\n",
       "       5.6, 5.5, 4.4, 4.6, 5.9, 3.9, 3.1, 2.9, 5.2, 3.3, 4.7, 5.1, 3.5,\n",
       "       2.5, 1.9, 3. , 2.7, 2.2, 2. , 9.5, 2.1, 3.6, 2.8, 1.8, 3.8, 0. ,\n",
       "       1.6, 9.6, 2.4, 1.7, 1.1, 0.3, 1.5, 0.7, 1.2, 2.3, 0.5, 1.3, 0.2,\n",
       "       0.6, 1.4, 0.9, 1. , 9.7])"
      ]
     },
     "metadata": {},
     "output_type": "display_data"
    }
   ],
   "source": [
    "display(games['critic_score'].unique())\n",
    "display(games['user_score'].unique())"
   ]
  },
  {
   "cell_type": "markdown",
   "id": "0e531702",
   "metadata": {},
   "source": [
    "##### Итоги предобработки:\n",
    "- колонки приведены к стандарту - регистр\n",
    "- удалены строки с пропуском года выхода и пропуском названия игры\n",
    "- заменил тип данных в годе на int\n",
    "- заменил данные \"не определены\" в рейтинге на NaN\n",
    "- привел к единому значению рейтинг \"для всех\" согласно смене обозначения в 1996 году\n",
    "- пропуски в 'critic_score'и 'user_score'заполнять на стал - нет угикального рецепта заменить рейтинги."
   ]
  },
  {
   "cell_type": "markdown",
   "id": "7a8656f8",
   "metadata": {},
   "source": [
    "### Суммируем продажи"
   ]
  },
  {
   "cell_type": "code",
   "execution_count": 16,
   "id": "00cc7d42",
   "metadata": {},
   "outputs": [],
   "source": [
    "games['total_sales'] = games[['na_sales','eu_sales','jp_sales', 'other_sales']].sum(axis = 1)"
   ]
  },
  {
   "cell_type": "code",
   "execution_count": 17,
   "id": "c2720aef",
   "metadata": {},
   "outputs": [
    {
     "data": {
      "text/html": [
       "<div>\n",
       "<style scoped>\n",
       "    .dataframe tbody tr th:only-of-type {\n",
       "        vertical-align: middle;\n",
       "    }\n",
       "\n",
       "    .dataframe tbody tr th {\n",
       "        vertical-align: top;\n",
       "    }\n",
       "\n",
       "    .dataframe thead th {\n",
       "        text-align: right;\n",
       "    }\n",
       "</style>\n",
       "<table border=\"1\" class=\"dataframe\">\n",
       "  <thead>\n",
       "    <tr style=\"text-align: right;\">\n",
       "      <th></th>\n",
       "      <th>name</th>\n",
       "      <th>platform</th>\n",
       "      <th>year_of_release</th>\n",
       "      <th>genre</th>\n",
       "      <th>na_sales</th>\n",
       "      <th>eu_sales</th>\n",
       "      <th>jp_sales</th>\n",
       "      <th>other_sales</th>\n",
       "      <th>critic_score</th>\n",
       "      <th>user_score</th>\n",
       "      <th>rating</th>\n",
       "      <th>total_sales</th>\n",
       "    </tr>\n",
       "  </thead>\n",
       "  <tbody>\n",
       "    <tr>\n",
       "      <th>0</th>\n",
       "      <td>Wii Sports</td>\n",
       "      <td>Wii</td>\n",
       "      <td>2006</td>\n",
       "      <td>Sports</td>\n",
       "      <td>41.36</td>\n",
       "      <td>28.96</td>\n",
       "      <td>3.77</td>\n",
       "      <td>8.45</td>\n",
       "      <td>76.0</td>\n",
       "      <td>8.0</td>\n",
       "      <td>E</td>\n",
       "      <td>82.54</td>\n",
       "    </tr>\n",
       "    <tr>\n",
       "      <th>1</th>\n",
       "      <td>Super Mario Bros.</td>\n",
       "      <td>NES</td>\n",
       "      <td>1985</td>\n",
       "      <td>Platform</td>\n",
       "      <td>29.08</td>\n",
       "      <td>3.58</td>\n",
       "      <td>6.81</td>\n",
       "      <td>0.77</td>\n",
       "      <td>NaN</td>\n",
       "      <td>NaN</td>\n",
       "      <td>RP</td>\n",
       "      <td>40.24</td>\n",
       "    </tr>\n",
       "    <tr>\n",
       "      <th>2</th>\n",
       "      <td>Mario Kart Wii</td>\n",
       "      <td>Wii</td>\n",
       "      <td>2008</td>\n",
       "      <td>Racing</td>\n",
       "      <td>15.68</td>\n",
       "      <td>12.76</td>\n",
       "      <td>3.79</td>\n",
       "      <td>3.29</td>\n",
       "      <td>82.0</td>\n",
       "      <td>8.3</td>\n",
       "      <td>E</td>\n",
       "      <td>35.52</td>\n",
       "    </tr>\n",
       "    <tr>\n",
       "      <th>3</th>\n",
       "      <td>Wii Sports Resort</td>\n",
       "      <td>Wii</td>\n",
       "      <td>2009</td>\n",
       "      <td>Sports</td>\n",
       "      <td>15.61</td>\n",
       "      <td>10.93</td>\n",
       "      <td>3.28</td>\n",
       "      <td>2.95</td>\n",
       "      <td>80.0</td>\n",
       "      <td>8.0</td>\n",
       "      <td>E</td>\n",
       "      <td>32.77</td>\n",
       "    </tr>\n",
       "    <tr>\n",
       "      <th>4</th>\n",
       "      <td>Pokemon Red/Pokemon Blue</td>\n",
       "      <td>GB</td>\n",
       "      <td>1996</td>\n",
       "      <td>Role-Playing</td>\n",
       "      <td>11.27</td>\n",
       "      <td>8.89</td>\n",
       "      <td>10.22</td>\n",
       "      <td>1.00</td>\n",
       "      <td>NaN</td>\n",
       "      <td>NaN</td>\n",
       "      <td>RP</td>\n",
       "      <td>31.38</td>\n",
       "    </tr>\n",
       "    <tr>\n",
       "      <th>5</th>\n",
       "      <td>Tetris</td>\n",
       "      <td>GB</td>\n",
       "      <td>1989</td>\n",
       "      <td>Puzzle</td>\n",
       "      <td>23.20</td>\n",
       "      <td>2.26</td>\n",
       "      <td>4.22</td>\n",
       "      <td>0.58</td>\n",
       "      <td>NaN</td>\n",
       "      <td>NaN</td>\n",
       "      <td>RP</td>\n",
       "      <td>30.26</td>\n",
       "    </tr>\n",
       "    <tr>\n",
       "      <th>6</th>\n",
       "      <td>New Super Mario Bros.</td>\n",
       "      <td>DS</td>\n",
       "      <td>2006</td>\n",
       "      <td>Platform</td>\n",
       "      <td>11.28</td>\n",
       "      <td>9.14</td>\n",
       "      <td>6.50</td>\n",
       "      <td>2.88</td>\n",
       "      <td>89.0</td>\n",
       "      <td>8.5</td>\n",
       "      <td>E</td>\n",
       "      <td>29.80</td>\n",
       "    </tr>\n",
       "    <tr>\n",
       "      <th>7</th>\n",
       "      <td>Wii Play</td>\n",
       "      <td>Wii</td>\n",
       "      <td>2006</td>\n",
       "      <td>Misc</td>\n",
       "      <td>13.96</td>\n",
       "      <td>9.18</td>\n",
       "      <td>2.93</td>\n",
       "      <td>2.84</td>\n",
       "      <td>58.0</td>\n",
       "      <td>6.6</td>\n",
       "      <td>E</td>\n",
       "      <td>28.91</td>\n",
       "    </tr>\n",
       "    <tr>\n",
       "      <th>8</th>\n",
       "      <td>New Super Mario Bros. Wii</td>\n",
       "      <td>Wii</td>\n",
       "      <td>2009</td>\n",
       "      <td>Platform</td>\n",
       "      <td>14.44</td>\n",
       "      <td>6.94</td>\n",
       "      <td>4.70</td>\n",
       "      <td>2.24</td>\n",
       "      <td>87.0</td>\n",
       "      <td>8.4</td>\n",
       "      <td>E</td>\n",
       "      <td>28.32</td>\n",
       "    </tr>\n",
       "    <tr>\n",
       "      <th>9</th>\n",
       "      <td>Duck Hunt</td>\n",
       "      <td>NES</td>\n",
       "      <td>1984</td>\n",
       "      <td>Shooter</td>\n",
       "      <td>26.93</td>\n",
       "      <td>0.63</td>\n",
       "      <td>0.28</td>\n",
       "      <td>0.47</td>\n",
       "      <td>NaN</td>\n",
       "      <td>NaN</td>\n",
       "      <td>RP</td>\n",
       "      <td>28.31</td>\n",
       "    </tr>\n",
       "  </tbody>\n",
       "</table>\n",
       "</div>"
      ],
      "text/plain": [
       "                        name platform  year_of_release         genre  \\\n",
       "0                 Wii Sports      Wii             2006        Sports   \n",
       "1          Super Mario Bros.      NES             1985      Platform   \n",
       "2             Mario Kart Wii      Wii             2008        Racing   \n",
       "3          Wii Sports Resort      Wii             2009        Sports   \n",
       "4   Pokemon Red/Pokemon Blue       GB             1996  Role-Playing   \n",
       "5                     Tetris       GB             1989        Puzzle   \n",
       "6      New Super Mario Bros.       DS             2006      Platform   \n",
       "7                   Wii Play      Wii             2006          Misc   \n",
       "8  New Super Mario Bros. Wii      Wii             2009      Platform   \n",
       "9                  Duck Hunt      NES             1984       Shooter   \n",
       "\n",
       "   na_sales  eu_sales  jp_sales  other_sales  critic_score  user_score rating  \\\n",
       "0     41.36     28.96      3.77         8.45          76.0         8.0      E   \n",
       "1     29.08      3.58      6.81         0.77           NaN         NaN     RP   \n",
       "2     15.68     12.76      3.79         3.29          82.0         8.3      E   \n",
       "3     15.61     10.93      3.28         2.95          80.0         8.0      E   \n",
       "4     11.27      8.89     10.22         1.00           NaN         NaN     RP   \n",
       "5     23.20      2.26      4.22         0.58           NaN         NaN     RP   \n",
       "6     11.28      9.14      6.50         2.88          89.0         8.5      E   \n",
       "7     13.96      9.18      2.93         2.84          58.0         6.6      E   \n",
       "8     14.44      6.94      4.70         2.24          87.0         8.4      E   \n",
       "9     26.93      0.63      0.28         0.47           NaN         NaN     RP   \n",
       "\n",
       "   total_sales  \n",
       "0        82.54  \n",
       "1        40.24  \n",
       "2        35.52  \n",
       "3        32.77  \n",
       "4        31.38  \n",
       "5        30.26  \n",
       "6        29.80  \n",
       "7        28.91  \n",
       "8        28.32  \n",
       "9        28.31  "
      ]
     },
     "execution_count": 17,
     "metadata": {},
     "output_type": "execute_result"
    }
   ],
   "source": [
    "games.head(10)"
   ]
  },
  {
   "cell_type": "markdown",
   "id": "e1a688a3",
   "metadata": {},
   "source": [
    "## Исследовательский анализ данных"
   ]
  },
  {
   "cell_type": "markdown",
   "id": "45e95688",
   "metadata": {},
   "source": [
    "### Распределение игр по годам"
   ]
  },
  {
   "cell_type": "code",
   "execution_count": 18,
   "id": "d3ffac13",
   "metadata": {},
   "outputs": [
    {
     "data": {
      "text/plain": [
       "Text(0.5, 1.0, 'total_sales_year')"
      ]
     },
     "execution_count": 18,
     "metadata": {},
     "output_type": "execute_result"
    },
    {
     "data": {
      "image/png": "[encoded data removed]",
      "text/plain": [
       "<Figure size 640x480 with 1 Axes>"
      ]
     },
     "metadata": {},
     "output_type": "display_data"
    }
   ],
   "source": [
    "ax = games['year_of_release'].plot(kind='hist', bins=73, grid=True)\n",
    "ax.set_xlabel('year')\n",
    "ax.set_ylabel('total_sales_games')\n",
    "ax.set_title('total_sales_year')"
   ]
  },
  {
   "cell_type": "code",
   "execution_count": null,
   "id": "e1ed4d59",
   "metadata": {},
   "outputs": [],
   "source": []
  },
  {
   "cell_type": "markdown",
   "id": "68b032cf",
   "metadata": {},
   "source": [
    "#### Продажи по годам.\n",
    "Пик продаж игр приходится на 2005- 2011 годы, потом идет резкий спад. Продажи до 1995 года минимальные.Это связано с мощностью компьютеров - процессор Pentium появляется в 1993 году и это вызвало рост продаж игр.\n",
    "Pentium 4 и затем Pentium M дали новый скачек. Рост продолжался до пика 2008-2009 годов, когда компьютеры с нужными характеристиками были доступны многим.\n",
    "После 2012 года рынок сжался в 2 раза. Игры стали тяжелее, железо для них необходимо более мощное и дорогое и продавцы игр нашли свою целевую аудиторию и сосредоточились на них.\n",
    "Считаю, что за актуальные данные нужно брать период с 2012 по 2016 годы."
   ]
  },
  {
   "cell_type": "markdown",
   "id": "3eee8716",
   "metadata": {},
   "source": [
    "### Распределение игр по платформам"
   ]
  },
  {
   "cell_type": "code",
   "execution_count": 19,
   "id": "83697319",
   "metadata": {},
   "outputs": [
    {
     "data": {
      "text/plain": [
       "Text(-5.555555555555555, 0.5, 'platform')"
      ]
     },
     "execution_count": 19,
     "metadata": {},
     "output_type": "execute_result"
    },
    {
     "data": {
      "image/png": "[encoded data removed]",
      "text/plain": [
       "<Figure size 500x500 with 1 Axes>"
      ]
     },
     "metadata": {},
     "output_type": "display_data"
    }
   ],
   "source": [
    "sns.relplot(data = games,y = 'platform',x = 'year_of_release')\n",
    "plt.title('platform_year')\n",
    "plt.xlabel('year')\n",
    "plt.ylabel('platform')"
   ]
  },
  {
   "cell_type": "code",
   "execution_count": 20,
   "id": "bccf551c",
   "metadata": {},
   "outputs": [
    {
     "name": "stdout",
     "output_type": "stream",
     "text": [
      "Медианное время жизни платформы при уровне продаж минимум 10 млн. составляет 6 лет\n"
     ]
    }
   ],
   "source": [
    "threshold = 10\n",
    "report = games.groupby(['platform', 'year_of_release']).agg({'total_sales': 'sum'}).reset_index()\n",
    "report = report.query('total_sales > @threshold')\n",
    "report = report.groupby(['platform']).agg({'year_of_release': 'nunique'}).rename(columns ={'year_of_release': 'lifetime'})\n",
    "median_platform_lifetime = int(report.median()[0])\n",
    "print('Медианное время жизни платформы при уровне продаж минимум {} млн. составляет {} лет'.format(threshold,\n",
    "                                                                                                   median_platform_lifetime))"
   ]
  },
  {
   "cell_type": "markdown",
   "id": "0a958109",
   "metadata": {},
   "source": [
    "Средняя продолжительность жизни популярных платформ от 5 до 10 лет. Есть платформы, которые живут всего 1-2 года - локальные приставки от производителей (PCFX от Nec), либо ушли в онлайн (GG).\n",
    "\n",
    "Определим ТОП-5 платформ по продажам за все годы:"
   ]
  },
  {
   "cell_type": "code",
   "execution_count": 21,
   "id": "402d884c",
   "metadata": {},
   "outputs": [
    {
     "data": {
      "text/html": [
       "<div>\n",
       "<style scoped>\n",
       "    .dataframe tbody tr th:only-of-type {\n",
       "        vertical-align: middle;\n",
       "    }\n",
       "\n",
       "    .dataframe tbody tr th {\n",
       "        vertical-align: top;\n",
       "    }\n",
       "\n",
       "    .dataframe thead th {\n",
       "        text-align: right;\n",
       "    }\n",
       "</style>\n",
       "<table border=\"1\" class=\"dataframe\">\n",
       "  <thead>\n",
       "    <tr style=\"text-align: right;\">\n",
       "      <th></th>\n",
       "      <th>total_sales</th>\n",
       "    </tr>\n",
       "    <tr>\n",
       "      <th>platform</th>\n",
       "      <th></th>\n",
       "    </tr>\n",
       "  </thead>\n",
       "  <tbody>\n",
       "    <tr>\n",
       "      <th>PS2</th>\n",
       "      <td>1233.56</td>\n",
       "    </tr>\n",
       "    <tr>\n",
       "      <th>X360</th>\n",
       "      <td>961.24</td>\n",
       "    </tr>\n",
       "    <tr>\n",
       "      <th>PS3</th>\n",
       "      <td>931.34</td>\n",
       "    </tr>\n",
       "    <tr>\n",
       "      <th>Wii</th>\n",
       "      <td>891.18</td>\n",
       "    </tr>\n",
       "    <tr>\n",
       "      <th>DS</th>\n",
       "      <td>802.78</td>\n",
       "    </tr>\n",
       "    <tr>\n",
       "      <th>PS</th>\n",
       "      <td>727.58</td>\n",
       "    </tr>\n",
       "    <tr>\n",
       "      <th>PS4</th>\n",
       "      <td>314.14</td>\n",
       "    </tr>\n",
       "    <tr>\n",
       "      <th>GBA</th>\n",
       "      <td>312.88</td>\n",
       "    </tr>\n",
       "    <tr>\n",
       "      <th>PSP</th>\n",
       "      <td>289.53</td>\n",
       "    </tr>\n",
       "    <tr>\n",
       "      <th>3DS</th>\n",
       "      <td>257.81</td>\n",
       "    </tr>\n",
       "  </tbody>\n",
       "</table>\n",
       "</div>"
      ],
      "text/plain": [
       "          total_sales\n",
       "platform             \n",
       "PS2           1233.56\n",
       "X360           961.24\n",
       "PS3            931.34\n",
       "Wii            891.18\n",
       "DS             802.78\n",
       "PS             727.58\n",
       "PS4            314.14\n",
       "GBA            312.88\n",
       "PSP            289.53\n",
       "3DS            257.81"
      ]
     },
     "execution_count": 21,
     "metadata": {},
     "output_type": "execute_result"
    }
   ],
   "source": [
    "games.pivot_table(index = 'platform', values = 'total_sales', aggfunc = 'sum').\\\n",
    "sort_values(by = 'total_sales', ascending = False).head(10)"
   ]
  },
  {
   "cell_type": "markdown",
   "id": "621be28a",
   "metadata": {},
   "source": [
    "Отчетливый разрыв между 6 (PS) и 7 (PS4) платформой, обусловлен тем, что PS уже не реализуется давно, а PS4 еще новая, тем не менее необходимо проверить как они продавались в hgthbjl с 2012 по 2016 годы."
   ]
  },
  {
   "cell_type": "code",
   "execution_count": 22,
   "id": "a1adb4a6",
   "metadata": {},
   "outputs": [
    {
     "data": {
      "text/html": [
       "<div>\n",
       "<style scoped>\n",
       "    .dataframe tbody tr th:only-of-type {\n",
       "        vertical-align: middle;\n",
       "    }\n",
       "\n",
       "    .dataframe tbody tr th {\n",
       "        vertical-align: top;\n",
       "    }\n",
       "\n",
       "    .dataframe thead th {\n",
       "        text-align: right;\n",
       "    }\n",
       "</style>\n",
       "<table border=\"1\" class=\"dataframe\">\n",
       "  <thead>\n",
       "    <tr style=\"text-align: right;\">\n",
       "      <th></th>\n",
       "      <th>index</th>\n",
       "      <th>name</th>\n",
       "      <th>platform</th>\n",
       "      <th>year_of_release</th>\n",
       "      <th>genre</th>\n",
       "      <th>na_sales</th>\n",
       "      <th>eu_sales</th>\n",
       "      <th>jp_sales</th>\n",
       "      <th>other_sales</th>\n",
       "      <th>critic_score</th>\n",
       "      <th>user_score</th>\n",
       "      <th>rating</th>\n",
       "      <th>total_sales</th>\n",
       "    </tr>\n",
       "  </thead>\n",
       "  <tbody>\n",
       "    <tr>\n",
       "      <th>0</th>\n",
       "      <td>16</td>\n",
       "      <td>Grand Theft Auto V</td>\n",
       "      <td>PS3</td>\n",
       "      <td>2013</td>\n",
       "      <td>Action</td>\n",
       "      <td>7.02</td>\n",
       "      <td>9.09</td>\n",
       "      <td>0.98</td>\n",
       "      <td>3.96</td>\n",
       "      <td>97.0</td>\n",
       "      <td>8.2</td>\n",
       "      <td>M</td>\n",
       "      <td>21.05</td>\n",
       "    </tr>\n",
       "    <tr>\n",
       "      <th>1</th>\n",
       "      <td>23</td>\n",
       "      <td>Grand Theft Auto V</td>\n",
       "      <td>X360</td>\n",
       "      <td>2013</td>\n",
       "      <td>Action</td>\n",
       "      <td>9.66</td>\n",
       "      <td>5.14</td>\n",
       "      <td>0.06</td>\n",
       "      <td>1.41</td>\n",
       "      <td>97.0</td>\n",
       "      <td>8.1</td>\n",
       "      <td>M</td>\n",
       "      <td>16.27</td>\n",
       "    </tr>\n",
       "    <tr>\n",
       "      <th>2</th>\n",
       "      <td>31</td>\n",
       "      <td>Call of Duty: Black Ops 3</td>\n",
       "      <td>PS4</td>\n",
       "      <td>2015</td>\n",
       "      <td>Shooter</td>\n",
       "      <td>6.03</td>\n",
       "      <td>5.86</td>\n",
       "      <td>0.36</td>\n",
       "      <td>2.38</td>\n",
       "      <td>NaN</td>\n",
       "      <td>NaN</td>\n",
       "      <td>RP</td>\n",
       "      <td>14.63</td>\n",
       "    </tr>\n",
       "    <tr>\n",
       "      <th>3</th>\n",
       "      <td>33</td>\n",
       "      <td>Pokemon X/Pokemon Y</td>\n",
       "      <td>3DS</td>\n",
       "      <td>2013</td>\n",
       "      <td>Role-Playing</td>\n",
       "      <td>5.28</td>\n",
       "      <td>4.19</td>\n",
       "      <td>4.35</td>\n",
       "      <td>0.78</td>\n",
       "      <td>NaN</td>\n",
       "      <td>NaN</td>\n",
       "      <td>RP</td>\n",
       "      <td>14.60</td>\n",
       "    </tr>\n",
       "    <tr>\n",
       "      <th>4</th>\n",
       "      <td>34</td>\n",
       "      <td>Call of Duty: Black Ops II</td>\n",
       "      <td>PS3</td>\n",
       "      <td>2012</td>\n",
       "      <td>Shooter</td>\n",
       "      <td>4.99</td>\n",
       "      <td>5.73</td>\n",
       "      <td>0.65</td>\n",
       "      <td>2.42</td>\n",
       "      <td>83.0</td>\n",
       "      <td>5.3</td>\n",
       "      <td>M</td>\n",
       "      <td>13.79</td>\n",
       "    </tr>\n",
       "    <tr>\n",
       "      <th>5</th>\n",
       "      <td>35</td>\n",
       "      <td>Call of Duty: Black Ops II</td>\n",
       "      <td>X360</td>\n",
       "      <td>2012</td>\n",
       "      <td>Shooter</td>\n",
       "      <td>8.25</td>\n",
       "      <td>4.24</td>\n",
       "      <td>0.07</td>\n",
       "      <td>1.12</td>\n",
       "      <td>83.0</td>\n",
       "      <td>4.8</td>\n",
       "      <td>M</td>\n",
       "      <td>13.68</td>\n",
       "    </tr>\n",
       "    <tr>\n",
       "      <th>6</th>\n",
       "      <td>42</td>\n",
       "      <td>Grand Theft Auto V</td>\n",
       "      <td>PS4</td>\n",
       "      <td>2014</td>\n",
       "      <td>Action</td>\n",
       "      <td>3.96</td>\n",
       "      <td>6.31</td>\n",
       "      <td>0.38</td>\n",
       "      <td>1.97</td>\n",
       "      <td>97.0</td>\n",
       "      <td>8.3</td>\n",
       "      <td>M</td>\n",
       "      <td>12.62</td>\n",
       "    </tr>\n",
       "    <tr>\n",
       "      <th>7</th>\n",
       "      <td>47</td>\n",
       "      <td>Pokemon Omega Ruby/Pokemon Alpha Sapphire</td>\n",
       "      <td>3DS</td>\n",
       "      <td>2014</td>\n",
       "      <td>Role-Playing</td>\n",
       "      <td>4.35</td>\n",
       "      <td>3.49</td>\n",
       "      <td>3.10</td>\n",
       "      <td>0.74</td>\n",
       "      <td>NaN</td>\n",
       "      <td>NaN</td>\n",
       "      <td>RP</td>\n",
       "      <td>11.68</td>\n",
       "    </tr>\n",
       "    <tr>\n",
       "      <th>8</th>\n",
       "      <td>60</td>\n",
       "      <td>Call of Duty: Ghosts</td>\n",
       "      <td>X360</td>\n",
       "      <td>2013</td>\n",
       "      <td>Shooter</td>\n",
       "      <td>6.73</td>\n",
       "      <td>2.56</td>\n",
       "      <td>0.04</td>\n",
       "      <td>0.91</td>\n",
       "      <td>73.0</td>\n",
       "      <td>2.6</td>\n",
       "      <td>M</td>\n",
       "      <td>10.24</td>\n",
       "    </tr>\n",
       "    <tr>\n",
       "      <th>9</th>\n",
       "      <td>62</td>\n",
       "      <td>New Super Mario Bros. 2</td>\n",
       "      <td>3DS</td>\n",
       "      <td>2012</td>\n",
       "      <td>Platform</td>\n",
       "      <td>3.66</td>\n",
       "      <td>3.14</td>\n",
       "      <td>2.47</td>\n",
       "      <td>0.63</td>\n",
       "      <td>78.0</td>\n",
       "      <td>7.2</td>\n",
       "      <td>E</td>\n",
       "      <td>9.90</td>\n",
       "    </tr>\n",
       "  </tbody>\n",
       "</table>\n",
       "</div>"
      ],
      "text/plain": [
       "   index                                       name platform  year_of_release  \\\n",
       "0     16                         Grand Theft Auto V      PS3             2013   \n",
       "1     23                         Grand Theft Auto V     X360             2013   \n",
       "2     31                  Call of Duty: Black Ops 3      PS4             2015   \n",
       "3     33                        Pokemon X/Pokemon Y      3DS             2013   \n",
       "4     34                 Call of Duty: Black Ops II      PS3             2012   \n",
       "5     35                 Call of Duty: Black Ops II     X360             2012   \n",
       "6     42                         Grand Theft Auto V      PS4             2014   \n",
       "7     47  Pokemon Omega Ruby/Pokemon Alpha Sapphire      3DS             2014   \n",
       "8     60                       Call of Duty: Ghosts     X360             2013   \n",
       "9     62                    New Super Mario Bros. 2      3DS             2012   \n",
       "\n",
       "          genre  na_sales  eu_sales  jp_sales  other_sales  critic_score  \\\n",
       "0        Action      7.02      9.09      0.98         3.96          97.0   \n",
       "1        Action      9.66      5.14      0.06         1.41          97.0   \n",
       "2       Shooter      6.03      5.86      0.36         2.38           NaN   \n",
       "3  Role-Playing      5.28      4.19      4.35         0.78           NaN   \n",
       "4       Shooter      4.99      5.73      0.65         2.42          83.0   \n",
       "5       Shooter      8.25      4.24      0.07         1.12          83.0   \n",
       "6        Action      3.96      6.31      0.38         1.97          97.0   \n",
       "7  Role-Playing      4.35      3.49      3.10         0.74           NaN   \n",
       "8       Shooter      6.73      2.56      0.04         0.91          73.0   \n",
       "9      Platform      3.66      3.14      2.47         0.63          78.0   \n",
       "\n",
       "   user_score rating  total_sales  \n",
       "0         8.2      M        21.05  \n",
       "1         8.1      M        16.27  \n",
       "2         NaN     RP        14.63  \n",
       "3         NaN     RP        14.60  \n",
       "4         5.3      M        13.79  \n",
       "5         4.8      M        13.68  \n",
       "6         8.3      M        12.62  \n",
       "7         NaN     RP        11.68  \n",
       "8         2.6      M        10.24  \n",
       "9         7.2      E         9.90  "
      ]
     },
     "execution_count": 22,
     "metadata": {},
     "output_type": "execute_result"
    }
   ],
   "source": [
    "games_12_16 = games.loc[games['year_of_release'] >=2012].reset_index()\n",
    "games_12_16.head(10)"
   ]
  },
  {
   "cell_type": "code",
   "execution_count": 23,
   "id": "835283bb",
   "metadata": {},
   "outputs": [
    {
     "data": {
      "text/html": [
       "<div>\n",
       "<style scoped>\n",
       "    .dataframe tbody tr th:only-of-type {\n",
       "        vertical-align: middle;\n",
       "    }\n",
       "\n",
       "    .dataframe tbody tr th {\n",
       "        vertical-align: top;\n",
       "    }\n",
       "\n",
       "    .dataframe thead th {\n",
       "        text-align: right;\n",
       "    }\n",
       "</style>\n",
       "<table border=\"1\" class=\"dataframe\">\n",
       "  <thead>\n",
       "    <tr style=\"text-align: right;\">\n",
       "      <th></th>\n",
       "      <th>total_sales</th>\n",
       "    </tr>\n",
       "    <tr>\n",
       "      <th>platform</th>\n",
       "      <th></th>\n",
       "    </tr>\n",
       "  </thead>\n",
       "  <tbody>\n",
       "    <tr>\n",
       "      <th>PS4</th>\n",
       "      <td>314.14</td>\n",
       "    </tr>\n",
       "    <tr>\n",
       "      <th>PS3</th>\n",
       "      <td>288.79</td>\n",
       "    </tr>\n",
       "    <tr>\n",
       "      <th>X360</th>\n",
       "      <td>236.54</td>\n",
       "    </tr>\n",
       "    <tr>\n",
       "      <th>3DS</th>\n",
       "      <td>194.61</td>\n",
       "    </tr>\n",
       "    <tr>\n",
       "      <th>XOne</th>\n",
       "      <td>159.32</td>\n",
       "    </tr>\n",
       "    <tr>\n",
       "      <th>WiiU</th>\n",
       "      <td>82.19</td>\n",
       "    </tr>\n",
       "    <tr>\n",
       "      <th>PC</th>\n",
       "      <td>62.65</td>\n",
       "    </tr>\n",
       "    <tr>\n",
       "      <th>PSV</th>\n",
       "      <td>49.18</td>\n",
       "    </tr>\n",
       "    <tr>\n",
       "      <th>Wii</th>\n",
       "      <td>35.37</td>\n",
       "    </tr>\n",
       "    <tr>\n",
       "      <th>DS</th>\n",
       "      <td>12.55</td>\n",
       "    </tr>\n",
       "  </tbody>\n",
       "</table>\n",
       "</div>"
      ],
      "text/plain": [
       "          total_sales\n",
       "platform             \n",
       "PS4            314.14\n",
       "PS3            288.79\n",
       "X360           236.54\n",
       "3DS            194.61\n",
       "XOne           159.32\n",
       "WiiU            82.19\n",
       "PC              62.65\n",
       "PSV             49.18\n",
       "Wii             35.37\n",
       "DS              12.55"
      ]
     },
     "execution_count": 23,
     "metadata": {},
     "output_type": "execute_result"
    }
   ],
   "source": [
    "games_12_16.pivot_table(index = 'platform', values = 'total_sales', aggfunc = 'sum').\\\n",
    "sort_values(by = 'total_sales', ascending = False).head(10) # продажи в разрезе платформ за актуальный период"
   ]
  },
  {
   "cell_type": "markdown",
   "id": "484ac9f9",
   "metadata": {},
   "source": [
    "Топ-10 игр в 2012 - 2016 году значительно изменился PS4, PS3 и Х360  лидируют в продажах."
   ]
  },
  {
   "cell_type": "code",
   "execution_count": 24,
   "id": "cbbdda9c",
   "metadata": {},
   "outputs": [
    {
     "data": {
      "text/html": [
       "<div>\n",
       "<style scoped>\n",
       "    .dataframe tbody tr th:only-of-type {\n",
       "        vertical-align: middle;\n",
       "    }\n",
       "\n",
       "    .dataframe tbody tr th {\n",
       "        vertical-align: top;\n",
       "    }\n",
       "\n",
       "    .dataframe thead th {\n",
       "        text-align: right;\n",
       "    }\n",
       "</style>\n",
       "<table border=\"1\" class=\"dataframe\">\n",
       "  <thead>\n",
       "    <tr style=\"text-align: right;\">\n",
       "      <th>platform</th>\n",
       "      <th>3DS</th>\n",
       "      <th>DS</th>\n",
       "      <th>PC</th>\n",
       "      <th>PS3</th>\n",
       "      <th>PS4</th>\n",
       "      <th>PSP</th>\n",
       "      <th>PSV</th>\n",
       "      <th>Wii</th>\n",
       "      <th>WiiU</th>\n",
       "      <th>X360</th>\n",
       "      <th>XOne</th>\n",
       "    </tr>\n",
       "    <tr>\n",
       "      <th>year_of_release</th>\n",
       "      <th></th>\n",
       "      <th></th>\n",
       "      <th></th>\n",
       "      <th></th>\n",
       "      <th></th>\n",
       "      <th></th>\n",
       "      <th></th>\n",
       "      <th></th>\n",
       "      <th></th>\n",
       "      <th></th>\n",
       "      <th></th>\n",
       "    </tr>\n",
       "  </thead>\n",
       "  <tbody>\n",
       "    <tr>\n",
       "      <th>2012</th>\n",
       "      <td>51.36</td>\n",
       "      <td>11.01</td>\n",
       "      <td>23.22</td>\n",
       "      <td>107.36</td>\n",
       "      <td>NaN</td>\n",
       "      <td>7.69</td>\n",
       "      <td>16.19</td>\n",
       "      <td>21.71</td>\n",
       "      <td>17.56</td>\n",
       "      <td>99.74</td>\n",
       "      <td>NaN</td>\n",
       "    </tr>\n",
       "    <tr>\n",
       "      <th>2013</th>\n",
       "      <td>56.57</td>\n",
       "      <td>1.54</td>\n",
       "      <td>12.38</td>\n",
       "      <td>113.25</td>\n",
       "      <td>25.99</td>\n",
       "      <td>3.14</td>\n",
       "      <td>10.59</td>\n",
       "      <td>8.59</td>\n",
       "      <td>21.65</td>\n",
       "      <td>88.58</td>\n",
       "      <td>18.96</td>\n",
       "    </tr>\n",
       "    <tr>\n",
       "      <th>2014</th>\n",
       "      <td>43.76</td>\n",
       "      <td>NaN</td>\n",
       "      <td>13.28</td>\n",
       "      <td>47.76</td>\n",
       "      <td>100.00</td>\n",
       "      <td>0.24</td>\n",
       "      <td>11.90</td>\n",
       "      <td>3.75</td>\n",
       "      <td>22.03</td>\n",
       "      <td>34.74</td>\n",
       "      <td>54.07</td>\n",
       "    </tr>\n",
       "    <tr>\n",
       "      <th>2015</th>\n",
       "      <td>27.78</td>\n",
       "      <td>NaN</td>\n",
       "      <td>8.52</td>\n",
       "      <td>16.82</td>\n",
       "      <td>118.90</td>\n",
       "      <td>0.12</td>\n",
       "      <td>6.25</td>\n",
       "      <td>1.14</td>\n",
       "      <td>16.35</td>\n",
       "      <td>11.96</td>\n",
       "      <td>60.14</td>\n",
       "    </tr>\n",
       "    <tr>\n",
       "      <th>2016</th>\n",
       "      <td>15.14</td>\n",
       "      <td>NaN</td>\n",
       "      <td>5.25</td>\n",
       "      <td>3.60</td>\n",
       "      <td>69.25</td>\n",
       "      <td>NaN</td>\n",
       "      <td>4.25</td>\n",
       "      <td>0.18</td>\n",
       "      <td>4.60</td>\n",
       "      <td>1.52</td>\n",
       "      <td>26.15</td>\n",
       "    </tr>\n",
       "  </tbody>\n",
       "</table>\n",
       "</div>"
      ],
      "text/plain": [
       "platform           3DS     DS     PC     PS3     PS4   PSP    PSV    Wii  \\\n",
       "year_of_release                                                            \n",
       "2012             51.36  11.01  23.22  107.36     NaN  7.69  16.19  21.71   \n",
       "2013             56.57   1.54  12.38  113.25   25.99  3.14  10.59   8.59   \n",
       "2014             43.76    NaN  13.28   47.76  100.00  0.24  11.90   3.75   \n",
       "2015             27.78    NaN   8.52   16.82  118.90  0.12   6.25   1.14   \n",
       "2016             15.14    NaN   5.25    3.60   69.25   NaN   4.25   0.18   \n",
       "\n",
       "platform          WiiU   X360   XOne  \n",
       "year_of_release                       \n",
       "2012             17.56  99.74    NaN  \n",
       "2013             21.65  88.58  18.96  \n",
       "2014             22.03  34.74  54.07  \n",
       "2015             16.35  11.96  60.14  \n",
       "2016              4.60   1.52  26.15  "
      ]
     },
     "execution_count": 24,
     "metadata": {},
     "output_type": "execute_result"
    }
   ],
   "source": [
    "games_12_16_plot = games_12_16.pivot_table(index = 'year_of_release', columns = 'platform', \\\n",
    "                        values = 'total_sales', aggfunc = 'sum')\n",
    "games_12_16_plot"
   ]
  },
  {
   "cell_type": "code",
   "execution_count": 25,
   "id": "e2c9bf7e",
   "metadata": {},
   "outputs": [
    {
     "data": {
      "text/plain": [
       "<AxesSubplot: xlabel='year_of_release'>"
      ]
     },
     "execution_count": 25,
     "metadata": {},
     "output_type": "execute_result"
    },
    {
     "data": {
      "image/png": "[encoded data removed]",
      "text/plain": [
       "<Figure size 1500x700 with 1 Axes>"
      ]
     },
     "metadata": {},
     "output_type": "display_data"
    }
   ],
   "source": [
    "games_12_16_plot.plot(style='-o', grid=True, figsize=(15, 7))"
   ]
  },
  {
   "cell_type": "code",
   "execution_count": 26,
   "id": "67fe2c62",
   "metadata": {},
   "outputs": [
    {
     "data": {
      "text/plain": [
       "<AxesSubplot: xlabel='total_sales'>"
      ]
     },
     "execution_count": 26,
     "metadata": {},
     "output_type": "execute_result"
    },
    {
     "data": {
      "image/png": "[encoded data removed]",
      "text/plain": [
       "<Figure size 640x480 with 1 Axes>"
      ]
     },
     "metadata": {},
     "output_type": "display_data"
    }
   ],
   "source": [
    "sns.boxplot(x=games_12_16[\"total_sales\"])\n",
    "# boxplot со совокупности продаж за актуальный период plt.boxplot(df[\"price_to_m\"])"
   ]
  },
  {
   "cell_type": "code",
   "execution_count": 27,
   "id": "0be2364a",
   "metadata": {},
   "outputs": [
    {
     "data": {
      "text/plain": [
       "(0.0, 2.0)"
      ]
     },
     "execution_count": 27,
     "metadata": {},
     "output_type": "execute_result"
    },
    {
     "data": {
      "image/png": "[encoded data removed]",
      "text/plain": [
       "<Figure size 640x480 with 1 Axes>"
      ]
     },
     "metadata": {},
     "output_type": "display_data"
    }
   ],
   "source": [
    "sns.boxplot(x=games_12_16[\"total_sales\"]).set_xlim(0,2) "
   ]
  },
  {
   "cell_type": "code",
   "execution_count": 28,
   "id": "0b0df8f1",
   "metadata": {},
   "outputs": [
    {
     "data": {
      "text/plain": [
       "0.16999999999999998"
      ]
     },
     "execution_count": 28,
     "metadata": {},
     "output_type": "execute_result"
    }
   ],
   "source": [
    "games['total_sales'].median()"
   ]
  },
  {
   "cell_type": "markdown",
   "id": "43078646",
   "metadata": {},
   "source": [
    "Очень большой разброс в количестве проданных копий, есть выбросы в несколько миллионов копий.\n",
    "Но основной массив продаж (2 и 3 квартиль) в диапазоне от 0,05 до 0,47. При этом медиана - 0,17/\n",
    "Посмотрим какие платформы дают такой выброс по количеству продаж."
   ]
  },
  {
   "cell_type": "code",
   "execution_count": 29,
   "id": "f675005c",
   "metadata": {},
   "outputs": [
    {
     "data": {
      "text/plain": [
       "<AxesSubplot: xlabel='total_sales', ylabel='platform'>"
      ]
     },
     "execution_count": 29,
     "metadata": {},
     "output_type": "execute_result"
    },
    {
     "data": {
      "image/png": "[encoded data removed]",
      "text/plain": [
       "<Figure size 640x480 with 1 Axes>"
      ]
     },
     "metadata": {},
     "output_type": "display_data"
    }
   ],
   "source": [
    "sns.boxplot(data=games_12_16, x='total_sales', y='platform')"
   ]
  },
  {
   "cell_type": "markdown",
   "id": "23e7ea00",
   "metadata": {},
   "source": [
    "###### Больше всего выбросов по количеству продаж у топовой пятерки игр: PS(3, 4), Xbox (One, 360) и 3DS.\n",
    "у них больше выбросов, а значит и суперпопулярных игр.\n",
    "###### Возьмем топ-5 и посмотрим на сам ящик."
   ]
  },
  {
   "cell_type": "code",
   "execution_count": 30,
   "id": "b9686e49",
   "metadata": {},
   "outputs": [
    {
     "data": {
      "text/plain": [
       "(0.0, 2.0)"
      ]
     },
     "execution_count": 30,
     "metadata": {},
     "output_type": "execute_result"
    },
    {
     "data": {
      "image/png": "[encoded data removed]",
      "text/plain": [
       "<Figure size 640x480 with 1 Axes>"
      ]
     },
     "metadata": {},
     "output_type": "display_data"
    }
   ],
   "source": [
    "sns.boxplot(data=games_12_16, x='total_sales', y='platform', order=['PS3', 'PS4', 'X360','XOne', '3DS']).set_xlim(0,2)"
   ]
  },
  {
   "cell_type": "markdown",
   "id": "bae70aa6",
   "metadata": {},
   "source": [
    "###### Итак два производителя игр лидируют по обороту игр.\n",
    "- менее стабильные продажи по количеству у Х360 - более широкий ящик, вариативность большая, верхний квартиль самый большой.\n",
    "- 3DS наоборот менее вариативное количество продаж между играми. Меньше выбросов. Но количество выбросов у них не меньше.\n",
    "- Медиана у всех платформ близка к первому квартилю, значит преобладают игры с небольшим количеством копий. У топовых платформ она выше, чем средняя - 0,21- 0,22\n",
    "- Свежие платформы PS4 и XOne имеют схожую структуру межквартильного размаха и медиану, но PS4 имеет больший размах 4 квартиля.\n"
   ]
  },
  {
   "cell_type": "code",
   "execution_count": 31,
   "id": "d5ecb0b2",
   "metadata": {},
   "outputs": [],
   "source": [
    "#sns.boxplot(x=games_12_16['platform'], y=games_12_16['total_sales']).set_ylim(0,2) # boxplot по платформам"
   ]
  },
  {
   "cell_type": "code",
   "execution_count": 32,
   "id": "b7754560",
   "metadata": {},
   "outputs": [
    {
     "data": {
      "text/html": [
       "<div>\n",
       "<style scoped>\n",
       "    .dataframe tbody tr th:only-of-type {\n",
       "        vertical-align: middle;\n",
       "    }\n",
       "\n",
       "    .dataframe tbody tr th {\n",
       "        vertical-align: top;\n",
       "    }\n",
       "\n",
       "    .dataframe thead th {\n",
       "        text-align: right;\n",
       "    }\n",
       "</style>\n",
       "<table border=\"1\" class=\"dataframe\">\n",
       "  <thead>\n",
       "    <tr style=\"text-align: right;\">\n",
       "      <th></th>\n",
       "      <th>count</th>\n",
       "      <th>mean</th>\n",
       "      <th>std</th>\n",
       "      <th>min</th>\n",
       "      <th>25%</th>\n",
       "      <th>50%</th>\n",
       "      <th>75%</th>\n",
       "      <th>max</th>\n",
       "    </tr>\n",
       "    <tr>\n",
       "      <th>platform</th>\n",
       "      <th></th>\n",
       "      <th></th>\n",
       "      <th></th>\n",
       "      <th></th>\n",
       "      <th></th>\n",
       "      <th></th>\n",
       "      <th></th>\n",
       "      <th></th>\n",
       "    </tr>\n",
       "  </thead>\n",
       "  <tbody>\n",
       "    <tr>\n",
       "      <th>3DS</th>\n",
       "      <td>396.0</td>\n",
       "      <td>0.491439</td>\n",
       "      <td>1.387161</td>\n",
       "      <td>0.01</td>\n",
       "      <td>0.0400</td>\n",
       "      <td>0.11</td>\n",
       "      <td>0.3125</td>\n",
       "      <td>14.60</td>\n",
       "    </tr>\n",
       "    <tr>\n",
       "      <th>DS</th>\n",
       "      <td>31.0</td>\n",
       "      <td>0.404839</td>\n",
       "      <td>1.439245</td>\n",
       "      <td>0.01</td>\n",
       "      <td>0.0200</td>\n",
       "      <td>0.05</td>\n",
       "      <td>0.1850</td>\n",
       "      <td>8.06</td>\n",
       "    </tr>\n",
       "    <tr>\n",
       "      <th>PC</th>\n",
       "      <td>250.0</td>\n",
       "      <td>0.250600</td>\n",
       "      <td>0.494640</td>\n",
       "      <td>0.01</td>\n",
       "      <td>0.0300</td>\n",
       "      <td>0.08</td>\n",
       "      <td>0.2400</td>\n",
       "      <td>5.14</td>\n",
       "    </tr>\n",
       "    <tr>\n",
       "      <th>PS3</th>\n",
       "      <td>492.0</td>\n",
       "      <td>0.584360</td>\n",
       "      <td>1.461740</td>\n",
       "      <td>0.01</td>\n",
       "      <td>0.0500</td>\n",
       "      <td>0.20</td>\n",
       "      <td>0.6100</td>\n",
       "      <td>21.05</td>\n",
       "    </tr>\n",
       "    <tr>\n",
       "      <th>PS4</th>\n",
       "      <td>392.0</td>\n",
       "      <td>0.801378</td>\n",
       "      <td>1.609456</td>\n",
       "      <td>0.01</td>\n",
       "      <td>0.0600</td>\n",
       "      <td>0.20</td>\n",
       "      <td>0.7300</td>\n",
       "      <td>14.63</td>\n",
       "    </tr>\n",
       "    <tr>\n",
       "      <th>PSP</th>\n",
       "      <td>173.0</td>\n",
       "      <td>0.064682</td>\n",
       "      <td>0.071296</td>\n",
       "      <td>0.01</td>\n",
       "      <td>0.0200</td>\n",
       "      <td>0.03</td>\n",
       "      <td>0.0900</td>\n",
       "      <td>0.36</td>\n",
       "    </tr>\n",
       "    <tr>\n",
       "      <th>PSV</th>\n",
       "      <td>411.0</td>\n",
       "      <td>0.119659</td>\n",
       "      <td>0.203011</td>\n",
       "      <td>0.01</td>\n",
       "      <td>0.0200</td>\n",
       "      <td>0.05</td>\n",
       "      <td>0.1200</td>\n",
       "      <td>1.96</td>\n",
       "    </tr>\n",
       "    <tr>\n",
       "      <th>Wii</th>\n",
       "      <td>54.0</td>\n",
       "      <td>0.655000</td>\n",
       "      <td>1.165447</td>\n",
       "      <td>0.01</td>\n",
       "      <td>0.0625</td>\n",
       "      <td>0.18</td>\n",
       "      <td>0.6875</td>\n",
       "      <td>6.76</td>\n",
       "    </tr>\n",
       "    <tr>\n",
       "      <th>WiiU</th>\n",
       "      <td>147.0</td>\n",
       "      <td>0.559116</td>\n",
       "      <td>1.058836</td>\n",
       "      <td>0.01</td>\n",
       "      <td>0.0800</td>\n",
       "      <td>0.22</td>\n",
       "      <td>0.5250</td>\n",
       "      <td>7.09</td>\n",
       "    </tr>\n",
       "    <tr>\n",
       "      <th>X360</th>\n",
       "      <td>292.0</td>\n",
       "      <td>0.810068</td>\n",
       "      <td>1.712069</td>\n",
       "      <td>0.01</td>\n",
       "      <td>0.1000</td>\n",
       "      <td>0.31</td>\n",
       "      <td>0.8700</td>\n",
       "      <td>16.27</td>\n",
       "    </tr>\n",
       "    <tr>\n",
       "      <th>XOne</th>\n",
       "      <td>247.0</td>\n",
       "      <td>0.645020</td>\n",
       "      <td>1.036139</td>\n",
       "      <td>0.01</td>\n",
       "      <td>0.0600</td>\n",
       "      <td>0.22</td>\n",
       "      <td>0.6850</td>\n",
       "      <td>7.39</td>\n",
       "    </tr>\n",
       "  </tbody>\n",
       "</table>\n",
       "</div>"
      ],
      "text/plain": [
       "          count      mean       std   min     25%   50%     75%    max\n",
       "platform                                                              \n",
       "3DS       396.0  0.491439  1.387161  0.01  0.0400  0.11  0.3125  14.60\n",
       "DS         31.0  0.404839  1.439245  0.01  0.0200  0.05  0.1850   8.06\n",
       "PC        250.0  0.250600  0.494640  0.01  0.0300  0.08  0.2400   5.14\n",
       "PS3       492.0  0.584360  1.461740  0.01  0.0500  0.20  0.6100  21.05\n",
       "PS4       392.0  0.801378  1.609456  0.01  0.0600  0.20  0.7300  14.63\n",
       "PSP       173.0  0.064682  0.071296  0.01  0.0200  0.03  0.0900   0.36\n",
       "PSV       411.0  0.119659  0.203011  0.01  0.0200  0.05  0.1200   1.96\n",
       "Wii        54.0  0.655000  1.165447  0.01  0.0625  0.18  0.6875   6.76\n",
       "WiiU      147.0  0.559116  1.058836  0.01  0.0800  0.22  0.5250   7.09\n",
       "X360      292.0  0.810068  1.712069  0.01  0.1000  0.31  0.8700  16.27\n",
       "XOne      247.0  0.645020  1.036139  0.01  0.0600  0.22  0.6850   7.39"
      ]
     },
     "execution_count": 32,
     "metadata": {},
     "output_type": "execute_result"
    }
   ],
   "source": [
    "games_12_16.pivot_table(values='total_sales', index=['name'],columns='platform').describe().T"
   ]
  },
  {
   "cell_type": "code",
   "execution_count": 33,
   "id": "4648a21b",
   "metadata": {},
   "outputs": [
    {
     "data": {
      "text/html": [
       "<div>\n",
       "<style scoped>\n",
       "    .dataframe tbody tr th:only-of-type {\n",
       "        vertical-align: middle;\n",
       "    }\n",
       "\n",
       "    .dataframe tbody tr th {\n",
       "        vertical-align: top;\n",
       "    }\n",
       "\n",
       "    .dataframe thead th {\n",
       "        text-align: right;\n",
       "    }\n",
       "</style>\n",
       "<table border=\"1\" class=\"dataframe\">\n",
       "  <thead>\n",
       "    <tr style=\"text-align: right;\">\n",
       "      <th></th>\n",
       "      <th>total_sales</th>\n",
       "    </tr>\n",
       "    <tr>\n",
       "      <th>year_of_release</th>\n",
       "      <th></th>\n",
       "    </tr>\n",
       "  </thead>\n",
       "  <tbody>\n",
       "    <tr>\n",
       "      <th>2012</th>\n",
       "      <td>355.84</td>\n",
       "    </tr>\n",
       "    <tr>\n",
       "      <th>2013</th>\n",
       "      <td>361.24</td>\n",
       "    </tr>\n",
       "    <tr>\n",
       "      <th>2014</th>\n",
       "      <td>331.53</td>\n",
       "    </tr>\n",
       "    <tr>\n",
       "      <th>2015</th>\n",
       "      <td>267.98</td>\n",
       "    </tr>\n",
       "    <tr>\n",
       "      <th>2016</th>\n",
       "      <td>129.94</td>\n",
       "    </tr>\n",
       "  </tbody>\n",
       "</table>\n",
       "</div>"
      ],
      "text/plain": [
       "                 total_sales\n",
       "year_of_release             \n",
       "2012                  355.84\n",
       "2013                  361.24\n",
       "2014                  331.53\n",
       "2015                  267.98\n",
       "2016                  129.94"
      ]
     },
     "execution_count": 33,
     "metadata": {},
     "output_type": "execute_result"
    }
   ],
   "source": [
    "games_12_16.pivot_table(index = 'year_of_release', values = 'total_sales', aggfunc = 'sum')"
   ]
  },
  {
   "cell_type": "markdown",
   "id": "15d5c7fb",
   "metadata": {},
   "source": [
    "#### Продажи по платформам. Промежуточные выводы\n",
    "- за 2012-2016 годы ТОП-5 платформ:\n",
    "    - PS4\t314.14\n",
    "    - PS3\t288.79\n",
    "    - X360\t236.54\n",
    "    - 3DS\t194.61\n",
    "    - XOne\t159.32\n",
    "- Данные о продажах за 2016 год не полный год.\n",
    "- Отчетливый рост продаж с 2012 по 2015 год наблюдается у PS4 и XOne. Остальные платформы теряют продажы.\n",
    "- Продажи игр на платформах PS3 (16,82), 3DS (27,78) и X360 (11,36) упали в 2015 г., но все еще на высоком уровне.\n",
    "- Продажи прочих платформ постепенно сошли почти к 0.\n",
    "- Продажи тотал в режнем немного превышают 1 млн. Более миллиона Х360, PS3, PS4, XOne, Wii и WiiU.\n",
    "- Среднее значение по ТОП-5 платформам колеблется в пределах 0,6 - 0,8 млн.\n",
    "- медиана в пределах 0,2 млн.\n",
    "\n",
    "##### Перспективные платформы PS4, XOne, 3DS - это основные, по прежнему популярны X360 и PS3. Так же платформы для мобильных консолей PSV и WiiU (для рынка Японии имеют значение).\n",
    "\n",
    "#### Для рассмотрения влияния рейтингов и отзывов возьмем PS3 \n",
    "- Длительность продаж на рынке\n",
    "- входит в ТОП-3 по всем годам и ТОП-3 за 2012 - 2016 годы.\n",
    "- максимально приближена к средним показателям продаж, среднего знначения и медианы."
   ]
  },
  {
   "cell_type": "markdown",
   "id": "7488cccc",
   "metadata": {},
   "source": [
    "### Влияние рейтингов и оценок пользователей на продажи игр ТОП-5"
   ]
  },
  {
   "cell_type": "code",
   "execution_count": 34,
   "id": "d3301f3c",
   "metadata": {},
   "outputs": [
    {
     "data": {
      "text/plain": [
       "Text(0, 0.5, 'total_sales')"
      ]
     },
     "execution_count": 34,
     "metadata": {},
     "output_type": "execute_result"
    },
    {
     "data": {
      "image/png": "[encoded data removed]",
      "text/plain": [
       "<Figure size 1000x400 with 1 Axes>"
      ]
     },
     "metadata": {},
     "output_type": "display_data"
    }
   ],
   "source": [
    "games_ps3 = games_12_16.loc[(games['platform'] == 'PS3') & (games_12_16['critic_score'] > 0)]\n",
    "games_ps3.plot(kind='scatter', x='critic_score', y='total_sales', ec='green', figsize=(10,4))\n",
    "plt.title('total_sales_vs_critic_score_PS3')\n",
    "plt.xlabel('critic_score')\n",
    "plt.ylabel('total_sales')\n"
   ]
  },
  {
   "cell_type": "code",
   "execution_count": 35,
   "id": "77f52ed7",
   "metadata": {},
   "outputs": [
    {
     "data": {
      "text/plain": [
       "Text(0, 0.5, 'total_sales')"
      ]
     },
     "execution_count": 35,
     "metadata": {},
     "output_type": "execute_result"
    },
    {
     "data": {
      "image/png": "[encoded data removed]",
      "text/plain": [
       "<Figure size 1000x400 with 1 Axes>"
      ]
     },
     "metadata": {},
     "output_type": "display_data"
    }
   ],
   "source": [
    "games_ps3 = games_12_16.loc[(games_12_16['platform'] == 'PS3') & (games_12_16['user_score'] > 0)]\n",
    "games_ps3.plot(kind='scatter', x='user_score', y='total_sales', ec='green', figsize=(10,4))\n",
    "plt.title('total_sales_vs_user_score_PS3')\n",
    "plt.xlabel('user_score')\n",
    "plt.ylabel('total_sales')"
   ]
  },
  {
   "cell_type": "markdown",
   "id": "b2b82010",
   "metadata": {},
   "source": [
    "Увеличение рейтинга критиков и пользователей положительно сказывается на продаже игр, при этом рейтинг кртикиов более релевантен для пользователей при покупке игры.\n",
    "\n",
    "Проверим правильность выводов на 4 основных платформах, кроме PS3:"
   ]
  },
  {
   "cell_type": "code",
   "execution_count": 36,
   "id": "83d06998",
   "metadata": {},
   "outputs": [
    {
     "data": {
      "text/plain": [
       "<seaborn.axisgrid.FacetGrid at 0x1a3f34ee1d0>"
      ]
     },
     "execution_count": 36,
     "metadata": {},
     "output_type": "execute_result"
    },
    {
     "data": {
      "image/png": "[encoded data removed]",
      "text/plain": [
       "<Figure size 2000x500 with 4 Axes>"
      ]
     },
     "metadata": {},
     "output_type": "display_data"
    }
   ],
   "source": [
    "games_top_5=games_12_16.query('platform == [\"PS4\", \"X360\", \"3DS\",\"XOne\"] and user_score > 0')\n",
    "sns.relplot(\n",
    "    x='critic_score', \n",
    "    y='total_sales', \n",
    "    data=games_top_5, \n",
    "    kind='scatter',               \n",
    "    col='platform')"
   ]
  },
  {
   "cell_type": "code",
   "execution_count": 37,
   "id": "2d89f9eb",
   "metadata": {
    "scrolled": true
   },
   "outputs": [
    {
     "data": {
      "text/plain": [
       "<seaborn.axisgrid.FacetGrid at 0x1a3f3ad9510>"
      ]
     },
     "execution_count": 37,
     "metadata": {},
     "output_type": "execute_result"
    },
    {
     "data": {
      "image/png": "[encoded data removed]",
      "text/plain": [
       "<Figure size 2000x500 with 4 Axes>"
      ]
     },
     "metadata": {},
     "output_type": "display_data"
    }
   ],
   "source": [
    "games_top_5 = games_12_16.query('platform == [\"PS4\", \"X360\", \"3DS\",\"XOne\"] and user_score > 0')\n",
    "sns.relplot(\n",
    "    x='user_score', \n",
    "    y='total_sales', \n",
    "    data=games_top_5, \n",
    "    kind='scatter',               \n",
    "    col='platform')"
   ]
  },
  {
   "cell_type": "markdown",
   "id": "0bf2924f",
   "metadata": {},
   "source": [
    "#### Влияние рейтинга на продажи. Вывод\n",
    "- Игры на старых платформах более зависимы от оценки пользователей - Х360 - диаграммы очень схожи по рассеянию. \n",
    "- у новых платформ PS4 и XOne влияние пользовательского рейтинга не так сильно выражено, как влияние рейтинга экспертов. Но у них и игр с низким рейтингом относительно немного.\n",
    "- в целом зависимость \"рейтинг эксперта\"-\"продажи\" имеет прямую зависимость во всех платформах Топ-5\n",
    "- \"рейтинг пользователя\"-\"продажи\" имеют менее прямую зависимость."
   ]
  },
  {
   "cell_type": "code",
   "execution_count": 38,
   "id": "50828313",
   "metadata": {},
   "outputs": [
    {
     "name": "stdout",
     "output_type": "stream",
     "text": [
      "Коэффициент корелляции продаж и рейтинга пользователя: 0.004\n",
      "Коэффициент корелляции продаж и рейтинга критиков: 0.308\n"
     ]
    }
   ],
   "source": [
    "print('Коэффициент корелляции продаж и рейтинга пользователя:', games_12_16['total_sales'].corr(games_12_16['user_score']).round(3))\n",
    "print('Коэффициент корелляции продаж и рейтинга критиков:', games_12_16['total_sales'].corr(games_12_16['critic_score']).round(3))"
   ]
  },
  {
   "cell_type": "code",
   "execution_count": 39,
   "id": "5e474247",
   "metadata": {},
   "outputs": [
    {
     "name": "stdout",
     "output_type": "stream",
     "text": [
      "platform                    PS4\n",
      "             platform          \n",
      "critic_score PS4       0.406568\n",
      "total_sales  PS4       1.000000\n",
      "user_score   PS4      -0.031957\n",
      "platform                    PS3\n",
      "             platform          \n",
      "critic_score PS3       0.332080\n",
      "total_sales  PS3       1.000000\n",
      "user_score   PS3      -0.004657\n",
      "platform                   XOne\n",
      "             platform          \n",
      "critic_score XOne      0.416998\n",
      "total_sales  XOne      1.000000\n",
      "user_score   XOne     -0.068925\n",
      "platform                    3DS\n",
      "             platform          \n",
      "critic_score 3DS       0.320803\n",
      "total_sales  3DS       1.000000\n",
      "user_score   3DS       0.197583\n",
      "platform                   X360\n",
      "             platform          \n",
      "critic_score X360      0.360573\n",
      "total_sales  X360      1.000000\n",
      "user_score   X360      0.006164\n"
     ]
    }
   ],
   "source": [
    "top_5_list = ['PS4','PS3', 'XOne', '3DS', 'X360'] # определил список для ТОП-5\n",
    "for i in top_5_list:\n",
    "    pt_5 = games_12_16.query('platform == @i')\n",
    "    stat = pt_5.pivot_table(index=['name'], values=['critic_score', 'user_score',\n",
    "                            'total_sales'], columns='platform').corr()#.sort()\n",
    "    stat = stat.loc[:, 'total_sales']\n",
    "    print(stat)"
   ]
  },
  {
   "cell_type": "markdown",
   "id": "64c7a308",
   "metadata": {},
   "source": [
    "#### Коэффициент колелляции подтверждает более высокое влияние на продажи рейтинга от экспертов\n",
    "- Оценка критиков во всех платформах ТОП-5 влияет на продажи, коэффициент корелляции высокий от 0,32 до 0,42. Силя связи умеренная\n",
    "- У новых платформ PS4 и XOne оценка пользователей не влияют на продажи - сила связи слабая.\n",
    "- Исключение среди ТОП-5 платформа 3DS с хоть и слабой связью, но выше чем у остальных.\n",
    "- оценке критиков потребители доверяют больше, чем таким же как они, вероятно подсознательно полагая, что могут ламеры писать отзывы.\n"
   ]
  },
  {
   "cell_type": "markdown",
   "id": "13be55e7",
   "metadata": {},
   "source": [
    "### Влияние жанра игры на продажи"
   ]
  },
  {
   "cell_type": "code",
   "execution_count": 40,
   "id": "13383ec3",
   "metadata": {},
   "outputs": [
    {
     "data": {
      "text/html": [
       "<div>\n",
       "<style scoped>\n",
       "    .dataframe tbody tr th:only-of-type {\n",
       "        vertical-align: middle;\n",
       "    }\n",
       "\n",
       "    .dataframe tbody tr th {\n",
       "        vertical-align: top;\n",
       "    }\n",
       "\n",
       "    .dataframe thead th {\n",
       "        text-align: right;\n",
       "    }\n",
       "</style>\n",
       "<table border=\"1\" class=\"dataframe\">\n",
       "  <thead>\n",
       "    <tr style=\"text-align: right;\">\n",
       "      <th></th>\n",
       "      <th>genre_sales</th>\n",
       "      <th>total_sales_genre</th>\n",
       "      <th>mean_prise_game</th>\n",
       "    </tr>\n",
       "    <tr>\n",
       "      <th>genre</th>\n",
       "      <th></th>\n",
       "      <th></th>\n",
       "      <th></th>\n",
       "    </tr>\n",
       "  </thead>\n",
       "  <tbody>\n",
       "    <tr>\n",
       "      <th>Action</th>\n",
       "      <td>1031</td>\n",
       "      <td>441.12</td>\n",
       "      <td>0.427856</td>\n",
       "    </tr>\n",
       "    <tr>\n",
       "      <th>Shooter</th>\n",
       "      <td>235</td>\n",
       "      <td>304.73</td>\n",
       "      <td>1.296723</td>\n",
       "    </tr>\n",
       "    <tr>\n",
       "      <th>Role-Playing</th>\n",
       "      <td>370</td>\n",
       "      <td>192.80</td>\n",
       "      <td>0.521081</td>\n",
       "    </tr>\n",
       "    <tr>\n",
       "      <th>Sports</th>\n",
       "      <td>268</td>\n",
       "      <td>181.07</td>\n",
       "      <td>0.675634</td>\n",
       "    </tr>\n",
       "    <tr>\n",
       "      <th>Misc</th>\n",
       "      <td>192</td>\n",
       "      <td>85.04</td>\n",
       "      <td>0.442917</td>\n",
       "    </tr>\n",
       "    <tr>\n",
       "      <th>Platform</th>\n",
       "      <td>85</td>\n",
       "      <td>61.00</td>\n",
       "      <td>0.717647</td>\n",
       "    </tr>\n",
       "    <tr>\n",
       "      <th>Racing</th>\n",
       "      <td>115</td>\n",
       "      <td>53.50</td>\n",
       "      <td>0.465217</td>\n",
       "    </tr>\n",
       "    <tr>\n",
       "      <th>Fighting</th>\n",
       "      <td>109</td>\n",
       "      <td>44.49</td>\n",
       "      <td>0.408165</td>\n",
       "    </tr>\n",
       "    <tr>\n",
       "      <th>Simulation</th>\n",
       "      <td>80</td>\n",
       "      <td>35.12</td>\n",
       "      <td>0.439000</td>\n",
       "    </tr>\n",
       "    <tr>\n",
       "      <th>Adventure</th>\n",
       "      <td>302</td>\n",
       "      <td>29.43</td>\n",
       "      <td>0.097450</td>\n",
       "    </tr>\n",
       "    <tr>\n",
       "      <th>Strategy</th>\n",
       "      <td>71</td>\n",
       "      <td>13.34</td>\n",
       "      <td>0.187887</td>\n",
       "    </tr>\n",
       "    <tr>\n",
       "      <th>Puzzle</th>\n",
       "      <td>28</td>\n",
       "      <td>4.89</td>\n",
       "      <td>0.174643</td>\n",
       "    </tr>\n",
       "  </tbody>\n",
       "</table>\n",
       "</div>"
      ],
      "text/plain": [
       "              genre_sales  total_sales_genre  mean_prise_game\n",
       "genre                                                        \n",
       "Action               1031             441.12         0.427856\n",
       "Shooter               235             304.73         1.296723\n",
       "Role-Playing          370             192.80         0.521081\n",
       "Sports                268             181.07         0.675634\n",
       "Misc                  192              85.04         0.442917\n",
       "Platform               85              61.00         0.717647\n",
       "Racing                115              53.50         0.465217\n",
       "Fighting              109              44.49         0.408165\n",
       "Simulation             80              35.12         0.439000\n",
       "Adventure             302              29.43         0.097450\n",
       "Strategy               71              13.34         0.187887\n",
       "Puzzle                 28               4.89         0.174643"
      ]
     },
     "execution_count": 40,
     "metadata": {},
     "output_type": "execute_result"
    }
   ],
   "source": [
    "games_genre = games_12_16.pivot_table(index='genre', values='total_sales',\n",
    "                            aggfunc=['count', 'sum','mean'])\n",
    "games_genre.columns = ['genre_sales', 'total_sales_genre', 'mean_prise_game']\n",
    "games_genre.sort_values(by='total_sales_genre', ascending=False)"
   ]
  },
  {
   "cell_type": "code",
   "execution_count": 41,
   "id": "e21795be",
   "metadata": {},
   "outputs": [
    {
     "data": {
      "text/plain": [
       "0.48785183586372294"
      ]
     },
     "execution_count": 41,
     "metadata": {},
     "output_type": "execute_result"
    }
   ],
   "source": [
    "games_genre['mean_prise_game'].mean()"
   ]
  },
  {
   "cell_type": "markdown",
   "id": "71f9f9e4",
   "metadata": {},
   "source": [
    "#### Выводы по жанрам:\n",
    "- Самые доходные по сумме продаж игры в жанре Action (441.12),Shooter (304.73) и Role-Playing (192.80)\n",
    "- Самые продаваемые по количеству игр в жанре Action (1031), Role-Playing\t(370) и Adventure (302)\n",
    "- Самое большое количество копий одной игры у игр в жанре Shooter (1,30) и Platform (0,71), при среднем количестве копий одной игры 0,48\n",
    "- Самые низкие продажи в жанрах Puzzle (28 и 4,89 млн) и Strategy (71 и 13,34 млн)\n",
    "- Самое низкое количество копий игрыу жанра Adventure (0,097)"
   ]
  },
  {
   "cell_type": "markdown",
   "id": "c6fe6bf0",
   "metadata": {},
   "source": [
    "## Портрет пользователя каждого региона"
   ]
  },
  {
   "cell_type": "code",
   "execution_count": 42,
   "id": "ec002d45",
   "metadata": {},
   "outputs": [
    {
     "data": {
      "text/plain": [
       "<AxesSubplot: xlabel='platform'>"
      ]
     },
     "execution_count": 42,
     "metadata": {},
     "output_type": "execute_result"
    },
    {
     "data": {
      "image/png": "[encoded data removed]",
      "text/plain": [
       "<Figure size 640x480 with 1 Axes>"
      ]
     },
     "metadata": {},
     "output_type": "display_data"
    }
   ],
   "source": [
    "#platforms = ['PS4','PS3', 'XOne', '3DS', 'X360']\n",
    "games_12_16.query('platform in @top_5_list').groupby('platform')[[\"na_sales\", 'eu_sales', 'jp_sales', 'other_sales']].sum().plot(kind = 'bar')"
   ]
  },
  {
   "cell_type": "markdown",
   "id": "113919c4",
   "metadata": {},
   "source": [
    "#### Северная Америка"
   ]
  },
  {
   "cell_type": "code",
   "execution_count": 43,
   "id": "a47b26a1",
   "metadata": {},
   "outputs": [
    {
     "data": {
      "text/plain": [
       "platform\n",
       "X360    140.05\n",
       "PS4     108.74\n",
       "PS3     103.38\n",
       "XOne     93.12\n",
       "3DS      55.31\n",
       "Name: na_sales, dtype: float64"
      ]
     },
     "execution_count": 43,
     "metadata": {},
     "output_type": "execute_result"
    }
   ],
   "source": [
    "na_platform_stat = games_12_16.groupby('platform')['na_sales'].sum().sort_values(ascending=False).head(5) \n",
    "# опрелделим популярные платформы по количеству копий\n",
    "na_platform_stat"
   ]
  },
  {
   "cell_type": "code",
   "execution_count": 44,
   "id": "76f8135f",
   "metadata": {},
   "outputs": [
    {
     "data": {
      "text/plain": [
       "Text(0, 0.5, 'na_sales')"
      ]
     },
     "execution_count": 44,
     "metadata": {},
     "output_type": "execute_result"
    },
    {
     "data": {
      "image/png": "[encoded data removed]",
      "text/plain": [
       "<Figure size 1500x600 with 1 Axes>"
      ]
     },
     "metadata": {},
     "output_type": "display_data"
    }
   ],
   "source": [
    "na_platform_stat.plot(x = 'platform', y = 'na_sales', kind = 'bar', figsize=(15,6), grid=True, title = 'top-5 na_sales')\n",
    "plt.xlabel('platform')\n",
    "plt.ylabel('na_sales')"
   ]
  },
  {
   "cell_type": "code",
   "execution_count": 45,
   "id": "f784647f",
   "metadata": {},
   "outputs": [
    {
     "data": {
      "text/html": [
       "<div>\n",
       "<style scoped>\n",
       "    .dataframe tbody tr th:only-of-type {\n",
       "        vertical-align: middle;\n",
       "    }\n",
       "\n",
       "    .dataframe tbody tr th {\n",
       "        vertical-align: top;\n",
       "    }\n",
       "\n",
       "    .dataframe thead th {\n",
       "        text-align: right;\n",
       "    }\n",
       "</style>\n",
       "<table border=\"1\" class=\"dataframe\">\n",
       "  <thead>\n",
       "    <tr style=\"text-align: right;\">\n",
       "      <th></th>\n",
       "      <th>na_genre_total</th>\n",
       "      <th>na_genre_share</th>\n",
       "    </tr>\n",
       "    <tr>\n",
       "      <th>genre</th>\n",
       "      <th></th>\n",
       "      <th></th>\n",
       "    </tr>\n",
       "  </thead>\n",
       "  <tbody>\n",
       "    <tr>\n",
       "      <th>Action</th>\n",
       "      <td>177.84</td>\n",
       "      <td>30.093</td>\n",
       "    </tr>\n",
       "    <tr>\n",
       "      <th>Shooter</th>\n",
       "      <td>144.77</td>\n",
       "      <td>24.497</td>\n",
       "    </tr>\n",
       "    <tr>\n",
       "      <th>Sports</th>\n",
       "      <td>81.53</td>\n",
       "      <td>13.796</td>\n",
       "    </tr>\n",
       "    <tr>\n",
       "      <th>Role-Playing</th>\n",
       "      <td>64.00</td>\n",
       "      <td>10.830</td>\n",
       "    </tr>\n",
       "    <tr>\n",
       "      <th>Misc</th>\n",
       "      <td>38.19</td>\n",
       "      <td>6.462</td>\n",
       "    </tr>\n",
       "  </tbody>\n",
       "</table>\n",
       "</div>"
      ],
      "text/plain": [
       "              na_genre_total  na_genre_share\n",
       "genre                                       \n",
       "Action                177.84          30.093\n",
       "Shooter               144.77          24.497\n",
       "Sports                 81.53          13.796\n",
       "Role-Playing           64.00          10.830\n",
       "Misc                   38.19           6.462"
      ]
     },
     "execution_count": 45,
     "metadata": {},
     "output_type": "execute_result"
    }
   ],
   "source": [
    "na_genre_stat = games_12_16.pivot_table(index='genre', values='na_sales',\n",
    "                            aggfunc=['sum'])\n",
    "na_genre_stat.columns = ['na_genre_total' ]\n",
    "na_genre_stat['na_genre_share'] = (na_genre_stat['na_genre_total']/(na_genre_stat['na_genre_total'].sum())) * 100\n",
    "na_genre_stat.sort_values(by='na_genre_total',ascending=False).head().round(3)"
   ]
  },
  {
   "cell_type": "markdown",
   "id": "6379fdeb",
   "metadata": {},
   "source": [
    "#####  Портрет пользоваталя Северной Америки\n",
    " \n",
    " - Самые популярные платформы по количеству проданных копий X360, PlayStation (PS3 и PS4), XOne, 3DS.\n",
    " - По сути рынок северной америки поделен между 2 производителями.\n",
    " - Nintendo 3DS в топ-3 по количеству, но всего 9,35% в продажах - невысокая стоимость игры.\n",
    " - по продажам впереди X360 (23,7%), PS4 (18,4%) и PS3 (17,49%). PS4 относительно новая на 2016 год платформа и PS3 не сразу уступает позиции. \n",
    "\n",
    " - Среди жанров лидер по количеству продаж - Action (30%) и Shooter (24,5%). это более половины игр.\n",
    " - остальные жанры идут сo значительным отрывом."
   ]
  },
  {
   "cell_type": "markdown",
   "id": "288ee83b",
   "metadata": {},
   "source": [
    "#### Европа"
   ]
  },
  {
   "cell_type": "code",
   "execution_count": 46,
   "id": "60423400",
   "metadata": {},
   "outputs": [
    {
     "data": {
      "text/plain": [
       "platform\n",
       "PS4     141.09\n",
       "PS3     106.86\n",
       "X360     74.52\n",
       "XOne     51.59\n",
       "3DS      42.64\n",
       "Name: eu_sales, dtype: float64"
      ]
     },
     "execution_count": 46,
     "metadata": {},
     "output_type": "execute_result"
    }
   ],
   "source": [
    "eu_platform_stat = games_12_16.groupby('platform')['eu_sales'].sum().sort_values(ascending=False).head(5) \n",
    "# опрелделим популярные платформы по количеству копий\n",
    "eu_platform_stat"
   ]
  },
  {
   "cell_type": "code",
   "execution_count": 47,
   "id": "31f81543",
   "metadata": {},
   "outputs": [
    {
     "data": {
      "text/plain": [
       "Text(0, 0.5, 'eu_sales')"
      ]
     },
     "execution_count": 47,
     "metadata": {},
     "output_type": "execute_result"
    },
    {
     "data": {
      "image/png": "[encoded data removed]",
      "text/plain": [
       "<Figure size 1500x600 with 1 Axes>"
      ]
     },
     "metadata": {},
     "output_type": "display_data"
    }
   ],
   "source": [
    "eu_platform_stat.plot(x = 'platform', y = 'eu_total', kind = 'bar', figsize=(15,6), grid=True, title = 'top-5 eu_sales')\n",
    "plt.xlabel('platform')\n",
    "plt.ylabel('eu_sales')"
   ]
  },
  {
   "cell_type": "code",
   "execution_count": 48,
   "id": "a04d787b",
   "metadata": {},
   "outputs": [
    {
     "data": {
      "text/html": [
       "<div>\n",
       "<style scoped>\n",
       "    .dataframe tbody tr th:only-of-type {\n",
       "        vertical-align: middle;\n",
       "    }\n",
       "\n",
       "    .dataframe tbody tr th {\n",
       "        vertical-align: top;\n",
       "    }\n",
       "\n",
       "    .dataframe thead th {\n",
       "        text-align: right;\n",
       "    }\n",
       "</style>\n",
       "<table border=\"1\" class=\"dataframe\">\n",
       "  <thead>\n",
       "    <tr style=\"text-align: right;\">\n",
       "      <th></th>\n",
       "      <th>eu_genre_total</th>\n",
       "      <th>eu_genre_share</th>\n",
       "    </tr>\n",
       "    <tr>\n",
       "      <th>genre</th>\n",
       "      <th></th>\n",
       "      <th></th>\n",
       "    </tr>\n",
       "  </thead>\n",
       "  <tbody>\n",
       "    <tr>\n",
       "      <th>Action</th>\n",
       "      <td>159.34</td>\n",
       "      <td>31.439</td>\n",
       "    </tr>\n",
       "    <tr>\n",
       "      <th>Shooter</th>\n",
       "      <td>113.47</td>\n",
       "      <td>22.389</td>\n",
       "    </tr>\n",
       "    <tr>\n",
       "      <th>Sports</th>\n",
       "      <td>69.09</td>\n",
       "      <td>13.632</td>\n",
       "    </tr>\n",
       "    <tr>\n",
       "      <th>Role-Playing</th>\n",
       "      <td>48.53</td>\n",
       "      <td>9.575</td>\n",
       "    </tr>\n",
       "    <tr>\n",
       "      <th>Racing</th>\n",
       "      <td>27.29</td>\n",
       "      <td>5.385</td>\n",
       "    </tr>\n",
       "  </tbody>\n",
       "</table>\n",
       "</div>"
      ],
      "text/plain": [
       "              eu_genre_total  eu_genre_share\n",
       "genre                                       \n",
       "Action                159.34          31.439\n",
       "Shooter               113.47          22.389\n",
       "Sports                 69.09          13.632\n",
       "Role-Playing           48.53           9.575\n",
       "Racing                 27.29           5.385"
      ]
     },
     "execution_count": 48,
     "metadata": {},
     "output_type": "execute_result"
    }
   ],
   "source": [
    "eu_genre_stat = games_12_16.pivot_table(index='genre', values='eu_sales',\n",
    "                            aggfunc=['sum'])\n",
    "eu_genre_stat.columns = ['eu_genre_total' ]\n",
    "eu_genre_stat['eu_genre_share'] = (eu_genre_stat['eu_genre_total']/(eu_genre_stat['eu_genre_total'].sum())) * 100\n",
    "eu_genre_stat.sort_values(by='eu_genre_total',ascending=False).head().round(3)"
   ]
  },
  {
   "cell_type": "markdown",
   "id": "43f06ad3",
   "metadata": {},
   "source": [
    "#####  Портрет пользоваталя Европы\n",
    " - Рынок Европы похож по структуре на севароамериканский\n",
    " - Самые популярные платформы по количеству проданных копий PlayStation (PS3 и PS4), X360 и XOne, 3DS.\n",
    " - По сути рынок Европы так же в 2012-2016 поделен между 2 производителями.\n",
    " - Nintendo 3DS входит в топ-5 по количеству, но всего 9,35% в продажах - невысокая стоимость игры.\n",
    " - по продажам впереди X360 (23,7%), PS4 (18,4%) и PS3 (17,49%). PS4 относительно новая на 2016 год платформа и PS3 не сразу уступает позиции. \n",
    "\n",
    " - Среди жанров лидер по количеству продаж - Action (31,43%) и Shooter (22,4%). это более половины игр.\n",
    " - остальные идут сj значительным отрывом."
   ]
  },
  {
   "cell_type": "markdown",
   "id": "c5614531",
   "metadata": {},
   "source": [
    "#### Япония "
   ]
  },
  {
   "cell_type": "code",
   "execution_count": 49,
   "id": "d15886f1",
   "metadata": {},
   "outputs": [
    {
     "data": {
      "text/plain": [
       "platform\n",
       "3DS     87.79\n",
       "PS3     35.29\n",
       "PSV     21.04\n",
       "PS4     15.96\n",
       "WiiU    13.01\n",
       "Name: jp_sales, dtype: float64"
      ]
     },
     "execution_count": 49,
     "metadata": {},
     "output_type": "execute_result"
    }
   ],
   "source": [
    "jp_platform_stat = games_12_16.groupby('platform')['jp_sales'].sum().sort_values(ascending=False).head(5)\n",
    "jp_platform_stat"
   ]
  },
  {
   "cell_type": "code",
   "execution_count": 50,
   "id": "cedd2b69",
   "metadata": {},
   "outputs": [
    {
     "data": {
      "text/plain": [
       "Text(0, 0.5, 'jp_sales')"
      ]
     },
     "execution_count": 50,
     "metadata": {},
     "output_type": "execute_result"
    },
    {
     "data": {
      "image/png": "[encoded data removed]",
      "text/plain": [
       "<Figure size 1500x600 with 1 Axes>"
      ]
     },
     "metadata": {},
     "output_type": "display_data"
    }
   ],
   "source": [
    "jp_platform_stat.plot(x = 'platform', y = 'jp_total', kind = 'bar', figsize=(15,6), grid=True, title = 'top-5 jp_sales')\n",
    "plt.xlabel('platform')\n",
    "plt.ylabel('jp_sales')"
   ]
  },
  {
   "cell_type": "code",
   "execution_count": 51,
   "id": "f6467447",
   "metadata": {},
   "outputs": [
    {
     "data": {
      "text/html": [
       "<div>\n",
       "<style scoped>\n",
       "    .dataframe tbody tr th:only-of-type {\n",
       "        vertical-align: middle;\n",
       "    }\n",
       "\n",
       "    .dataframe tbody tr th {\n",
       "        vertical-align: top;\n",
       "    }\n",
       "\n",
       "    .dataframe thead th {\n",
       "        text-align: right;\n",
       "    }\n",
       "</style>\n",
       "<table border=\"1\" class=\"dataframe\">\n",
       "  <thead>\n",
       "    <tr style=\"text-align: right;\">\n",
       "      <th></th>\n",
       "      <th>jp_genre_total</th>\n",
       "      <th>jp_genre_share</th>\n",
       "    </tr>\n",
       "    <tr>\n",
       "      <th>genre</th>\n",
       "      <th></th>\n",
       "      <th></th>\n",
       "    </tr>\n",
       "  </thead>\n",
       "  <tbody>\n",
       "    <tr>\n",
       "      <th>Role-Playing</th>\n",
       "      <td>65.44</td>\n",
       "      <td>33.981</td>\n",
       "    </tr>\n",
       "    <tr>\n",
       "      <th>Action</th>\n",
       "      <td>52.80</td>\n",
       "      <td>27.417</td>\n",
       "    </tr>\n",
       "    <tr>\n",
       "      <th>Misc</th>\n",
       "      <td>12.86</td>\n",
       "      <td>6.678</td>\n",
       "    </tr>\n",
       "    <tr>\n",
       "      <th>Simulation</th>\n",
       "      <td>10.41</td>\n",
       "      <td>5.406</td>\n",
       "    </tr>\n",
       "    <tr>\n",
       "      <th>Fighting</th>\n",
       "      <td>9.44</td>\n",
       "      <td>4.902</td>\n",
       "    </tr>\n",
       "  </tbody>\n",
       "</table>\n",
       "</div>"
      ],
      "text/plain": [
       "              jp_genre_total  jp_genre_share\n",
       "genre                                       \n",
       "Role-Playing           65.44          33.981\n",
       "Action                 52.80          27.417\n",
       "Misc                   12.86           6.678\n",
       "Simulation             10.41           5.406\n",
       "Fighting                9.44           4.902"
      ]
     },
     "execution_count": 51,
     "metadata": {},
     "output_type": "execute_result"
    }
   ],
   "source": [
    "jp_genre_stat = games_12_16.pivot_table(index='genre', values='jp_sales',\n",
    "                            aggfunc=['sum'])\n",
    "jp_genre_stat.columns = ['jp_genre_total' ]\n",
    "jp_genre_stat['jp_genre_share'] = (jp_genre_stat['jp_genre_total']/(jp_genre_stat['jp_genre_total'].sum())) * 100\n",
    "jp_genre_stat.sort_values(by='jp_genre_total',ascending=False).head().round(3)"
   ]
  },
  {
   "cell_type": "markdown",
   "id": "dad472d6",
   "metadata": {},
   "source": [
    "#####  Портрет пользоваталя Японии \n",
    " - Рынок сильно отличается от европейского и североамериканского\n",
    " - Самые популярные платформы по количеству проданных копий Nintendo 3DS с большим отрывом, PlayStation (PS3, PS4 и PSV) в сумме меньше лидера, X360 и XOne отсутствуют в топ-5.\n",
    " - Большая доля портативных консолей от Nintendo (3DS) и PlayStation (PSV) - более 50%\n",
    " - \n",
    "\n",
    " - Среди жанров лидеры по количеству продаж - Role-Playing (34%) и Action (27,5%), это более половины игр.\n",
    " - Остальные идут с0 значительным отрывом.\n",
    " - Японский рынок очень особенный."
   ]
  },
  {
   "cell_type": "markdown",
   "id": "0a54a7f1",
   "metadata": {},
   "source": [
    "#### Прочие"
   ]
  },
  {
   "cell_type": "code",
   "execution_count": 52,
   "id": "d47a52d8",
   "metadata": {},
   "outputs": [
    {
     "data": {
      "text/plain": [
       "platform\n",
       "PS4     48.35\n",
       "PS3     43.26\n",
       "X360    20.40\n",
       "XOne    14.27\n",
       "3DS      8.87\n",
       "Name: other_sales, dtype: float64"
      ]
     },
     "execution_count": 52,
     "metadata": {},
     "output_type": "execute_result"
    }
   ],
   "source": [
    "other_platform_stat = games_12_16.groupby('platform')['other_sales'].sum().sort_values(ascending=False).head(5)\n",
    "other_platform_stat"
   ]
  },
  {
   "cell_type": "code",
   "execution_count": 53,
   "id": "5df62251",
   "metadata": {},
   "outputs": [
    {
     "data": {
      "text/plain": [
       "Text(0, 0.5, 'other_sales')"
      ]
     },
     "execution_count": 53,
     "metadata": {},
     "output_type": "execute_result"
    },
    {
     "data": {
      "image/png": "[encoded data removed]",
      "text/plain": [
       "<Figure size 1500x600 with 1 Axes>"
      ]
     },
     "metadata": {},
     "output_type": "display_data"
    }
   ],
   "source": [
    "other_platform_stat.plot(x = 'platform', y = 'other_total', kind = 'bar', figsize=(15,6), grid=True, title = 'top-5 other_sales')\n",
    "plt.xlabel('platform')\n",
    "plt.ylabel('other_sales')"
   ]
  },
  {
   "cell_type": "code",
   "execution_count": 54,
   "id": "abcf10a0",
   "metadata": {},
   "outputs": [
    {
     "data": {
      "text/html": [
       "<div>\n",
       "<style scoped>\n",
       "    .dataframe tbody tr th:only-of-type {\n",
       "        vertical-align: middle;\n",
       "    }\n",
       "\n",
       "    .dataframe tbody tr th {\n",
       "        vertical-align: top;\n",
       "    }\n",
       "\n",
       "    .dataframe thead th {\n",
       "        text-align: right;\n",
       "    }\n",
       "</style>\n",
       "<table border=\"1\" class=\"dataframe\">\n",
       "  <thead>\n",
       "    <tr style=\"text-align: right;\">\n",
       "      <th></th>\n",
       "      <th>other_genre_total</th>\n",
       "      <th>other_genre_share</th>\n",
       "    </tr>\n",
       "    <tr>\n",
       "      <th>genre</th>\n",
       "      <th></th>\n",
       "      <th></th>\n",
       "    </tr>\n",
       "  </thead>\n",
       "  <tbody>\n",
       "    <tr>\n",
       "      <th>Action</th>\n",
       "      <td>51.14</td>\n",
       "      <td>32.748</td>\n",
       "    </tr>\n",
       "    <tr>\n",
       "      <th>Shooter</th>\n",
       "      <td>37.26</td>\n",
       "      <td>23.860</td>\n",
       "    </tr>\n",
       "    <tr>\n",
       "      <th>Sports</th>\n",
       "      <td>22.44</td>\n",
       "      <td>14.370</td>\n",
       "    </tr>\n",
       "    <tr>\n",
       "      <th>Role-Playing</th>\n",
       "      <td>14.83</td>\n",
       "      <td>9.497</td>\n",
       "    </tr>\n",
       "    <tr>\n",
       "      <th>Misc</th>\n",
       "      <td>7.67</td>\n",
       "      <td>4.912</td>\n",
       "    </tr>\n",
       "  </tbody>\n",
       "</table>\n",
       "</div>"
      ],
      "text/plain": [
       "              other_genre_total  other_genre_share\n",
       "genre                                             \n",
       "Action                    51.14             32.748\n",
       "Shooter                   37.26             23.860\n",
       "Sports                    22.44             14.370\n",
       "Role-Playing              14.83              9.497\n",
       "Misc                       7.67              4.912"
      ]
     },
     "execution_count": 54,
     "metadata": {},
     "output_type": "execute_result"
    }
   ],
   "source": [
    "other_genre_stat = games_12_16.pivot_table(index='genre', values='other_sales',\n",
    "                            aggfunc=['sum'])\n",
    "other_genre_stat.columns = ['other_genre_total' ]\n",
    "other_genre_stat['other_genre_share'] = (other_genre_stat['other_genre_total']/(other_genre_stat['other_genre_total'].sum())) * 100\n",
    "other_genre_stat.sort_values(by='other_genre_total',ascending=False).head().round(3)"
   ]
  },
  {
   "cell_type": "markdown",
   "id": "192b8a8b",
   "metadata": {},
   "source": [
    "#####  Портрет пользоваталя Прочие (other )\n",
    " - Рынок похож на европейский по распространению игровых платформ и на североамериканский и европейский по жанрам.\n",
    " - Объем рынка относительно основных регионов продаж маленький, сопоставим с Японией.\n"
   ]
  },
  {
   "cell_type": "markdown",
   "id": "5dd24147",
   "metadata": {},
   "source": [
    "#### Влияние рейтингов ESRB на продажи"
   ]
  },
  {
   "cell_type": "code",
   "execution_count": 55,
   "id": "0f21465a",
   "metadata": {},
   "outputs": [
    {
     "data": {
      "text/html": [
       "<div>\n",
       "<style scoped>\n",
       "    .dataframe tbody tr th:only-of-type {\n",
       "        vertical-align: middle;\n",
       "    }\n",
       "\n",
       "    .dataframe tbody tr th {\n",
       "        vertical-align: top;\n",
       "    }\n",
       "\n",
       "    .dataframe thead th {\n",
       "        text-align: right;\n",
       "    }\n",
       "</style>\n",
       "<table border=\"1\" class=\"dataframe\">\n",
       "  <thead>\n",
       "    <tr style=\"text-align: right;\">\n",
       "      <th></th>\n",
       "      <th>na_sales</th>\n",
       "      <th>eu_sales</th>\n",
       "      <th>jp_sales</th>\n",
       "      <th>other_sales</th>\n",
       "    </tr>\n",
       "    <tr>\n",
       "      <th>rating</th>\n",
       "      <th></th>\n",
       "      <th></th>\n",
       "      <th></th>\n",
       "      <th></th>\n",
       "    </tr>\n",
       "  </thead>\n",
       "  <tbody>\n",
       "    <tr>\n",
       "      <th>E</th>\n",
       "      <td>114.37</td>\n",
       "      <td>113.03</td>\n",
       "      <td>28.33</td>\n",
       "      <td>31.44</td>\n",
       "    </tr>\n",
       "    <tr>\n",
       "      <th>E10+</th>\n",
       "      <td>75.70</td>\n",
       "      <td>55.37</td>\n",
       "      <td>8.19</td>\n",
       "      <td>16.23</td>\n",
       "    </tr>\n",
       "    <tr>\n",
       "      <th>M</th>\n",
       "      <td>231.57</td>\n",
       "      <td>193.96</td>\n",
       "      <td>21.20</td>\n",
       "      <td>63.38</td>\n",
       "    </tr>\n",
       "    <tr>\n",
       "      <th>RP</th>\n",
       "      <td>103.31</td>\n",
       "      <td>91.50</td>\n",
       "      <td>108.84</td>\n",
       "      <td>27.17</td>\n",
       "    </tr>\n",
       "    <tr>\n",
       "      <th>T</th>\n",
       "      <td>66.02</td>\n",
       "      <td>52.96</td>\n",
       "      <td>26.02</td>\n",
       "      <td>17.94</td>\n",
       "    </tr>\n",
       "  </tbody>\n",
       "</table>\n",
       "</div>"
      ],
      "text/plain": [
       "        na_sales  eu_sales  jp_sales  other_sales\n",
       "rating                                           \n",
       "E         114.37    113.03     28.33        31.44\n",
       "E10+       75.70     55.37      8.19        16.23\n",
       "M         231.57    193.96     21.20        63.38\n",
       "RP        103.31     91.50    108.84        27.17\n",
       "T          66.02     52.96     26.02        17.94"
      ]
     },
     "execution_count": 55,
     "metadata": {},
     "output_type": "execute_result"
    }
   ],
   "source": [
    "rating_dist_stat = games_12_16.groupby('rating')['na_sales', 'eu_sales', 'jp_sales', 'other_sales'].sum()\n",
    "rating_dist_stat"
   ]
  },
  {
   "cell_type": "code",
   "execution_count": 56,
   "id": "973df21f",
   "metadata": {},
   "outputs": [
    {
     "data": {
      "text/html": [
       "<div>\n",
       "<style scoped>\n",
       "    .dataframe tbody tr th:only-of-type {\n",
       "        vertical-align: middle;\n",
       "    }\n",
       "\n",
       "    .dataframe tbody tr th {\n",
       "        vertical-align: top;\n",
       "    }\n",
       "\n",
       "    .dataframe thead th {\n",
       "        text-align: right;\n",
       "    }\n",
       "</style>\n",
       "<table border=\"1\" class=\"dataframe\">\n",
       "  <thead>\n",
       "    <tr style=\"text-align: right;\">\n",
       "      <th></th>\n",
       "      <th>rating</th>\n",
       "      <th>na_sales</th>\n",
       "      <th>eu_sales</th>\n",
       "      <th>jp_sales</th>\n",
       "      <th>other_sales</th>\n",
       "    </tr>\n",
       "  </thead>\n",
       "  <tbody>\n",
       "    <tr>\n",
       "      <th>0</th>\n",
       "      <td>E</td>\n",
       "      <td>0.19</td>\n",
       "      <td>0.22</td>\n",
       "      <td>0.15</td>\n",
       "      <td>0.20</td>\n",
       "    </tr>\n",
       "    <tr>\n",
       "      <th>1</th>\n",
       "      <td>E10+</td>\n",
       "      <td>0.13</td>\n",
       "      <td>0.11</td>\n",
       "      <td>0.04</td>\n",
       "      <td>0.10</td>\n",
       "    </tr>\n",
       "    <tr>\n",
       "      <th>2</th>\n",
       "      <td>M</td>\n",
       "      <td>0.39</td>\n",
       "      <td>0.38</td>\n",
       "      <td>0.11</td>\n",
       "      <td>0.41</td>\n",
       "    </tr>\n",
       "    <tr>\n",
       "      <th>3</th>\n",
       "      <td>RP</td>\n",
       "      <td>0.17</td>\n",
       "      <td>0.18</td>\n",
       "      <td>0.57</td>\n",
       "      <td>0.17</td>\n",
       "    </tr>\n",
       "    <tr>\n",
       "      <th>4</th>\n",
       "      <td>T</td>\n",
       "      <td>0.11</td>\n",
       "      <td>0.10</td>\n",
       "      <td>0.14</td>\n",
       "      <td>0.11</td>\n",
       "    </tr>\n",
       "  </tbody>\n",
       "</table>\n",
       "</div>"
      ],
      "text/plain": [
       "  rating  na_sales  eu_sales  jp_sales  other_sales\n",
       "0      E      0.19      0.22      0.15         0.20\n",
       "1   E10+      0.13      0.11      0.04         0.10\n",
       "2      M      0.39      0.38      0.11         0.41\n",
       "3     RP      0.17      0.18      0.57         0.17\n",
       "4      T      0.11      0.10      0.14         0.11"
      ]
     },
     "execution_count": 56,
     "metadata": {},
     "output_type": "execute_result"
    }
   ],
   "source": [
    "(games_12_16                     \n",
    "  .groupby('rating')[['na_sales', 'eu_sales', 'jp_sales','other_sales']]   \n",
    "  .agg('sum')                                                \n",
    "  .apply(lambda x: round(x / float(x.sum()), 2))     # вот это считает проценты        \n",
    "  ).reset_index() "
   ]
  },
  {
   "cell_type": "markdown",
   "id": "0a258c7d",
   "metadata": {},
   "source": [
    "#### Влияние рейтингов ESRB\n",
    "- Рынок игр Северной Америки и Европы очень похожи - лидер игры для взрослых и всей семьи. \n",
    "- В аутсайдерах продаж подростковые игры.\n",
    "- Япония  - для всей семьи и подростковые, оутсайдеры игры старше 10 лет. Напомним, что там большая доля мобильных консолей и лидирующее положение у Ролевых игр.\n",
    "- Остальные страны - рынок схож с североамериканским и европейским.\n",
    "- Одним из лидеров по продажам - игры без рейтинга:\n",
    "    - в NА, EU и прочие на 3 месте - 17-18%\n",
    "    - в JP на 1 месте (учитывая специфику рынка Японии) - 57%"
   ]
  },
  {
   "cell_type": "markdown",
   "id": "6e146283",
   "metadata": {},
   "source": [
    "### Проверка гипотез\n",
    "\n",
    "Проверка гипотезы: Средние пользовательские рейтинги платформ Xbox One и PC одинаковые;\n",
    "\n",
    "- H_0: Пользовательский рейтинг (user_score) платформы Xbox One = пользовательский рейтинг (user_score) платформы PC\n",
    "- H_a: Пользовательский рейтинг (user_score) платформы Xbox One ≠ пользовательский рейтинг (user_score) платформы PC\n",
    "- исходим из того, выборки разного размера и можно предположить, что дисперсии у генеральных совокупностей разные.\n",
    "- берем актуальный период с 2012 по 2016 годы\n",
    "\n",
    "\n",
    "alpha = 0.05"
   ]
  },
  {
   "cell_type": "code",
   "execution_count": 57,
   "id": "3f35d95c",
   "metadata": {
    "scrolled": true
   },
   "outputs": [
    {
     "name": "stdout",
     "output_type": "stream",
     "text": [
      "p-значение: 0.5489537965134912\n",
      "Не получилось отвергнуть нулевую гипотезу\n"
     ]
    }
   ],
   "source": [
    "# Средние пользовательские рейтинги платформ Xbox One и PC одинаковые\n",
    "\n",
    "xone_score = games_12_16.loc[(games_12_16.platform == 'XOne') & (games_12_16['user_score'] > 0)]['user_score']\n",
    "\n",
    "pc_score = games_12_16.loc[(games_12_16.platform == 'PC') & (games_12_16['user_score'] > 0)]['user_score']\n",
    "\n",
    "results = st.ttest_ind(\n",
    "    xone_score, \n",
    "    pc_score,\n",
    "    equal_var=False\n",
    ")\n",
    "\n",
    "alpha = .05\n",
    "\n",
    "print('p-значение:', results.pvalue)\n",
    "\n",
    "if results.pvalue < alpha:\n",
    "    print(\"Отвергаем нулевую гипотезу\")\n",
    "else:\n",
    "    print(\"Не получилось отвергнуть нулевую гипотезу\")"
   ]
  },
  {
   "cell_type": "markdown",
   "id": "78995277",
   "metadata": {},
   "source": [
    "Проверив H_0 о равенстве средних двух генеральных совокупностей подтвердил нулевую гипотезу, это значит, что Средние пользовательские рейтинги платформ Xbox One и PC статистически значимо не различаются."
   ]
  },
  {
   "cell_type": "markdown",
   "id": "248d0816",
   "metadata": {},
   "source": [
    "Проверка гипотезы: Средние пользовательские рейтинги жанров Action и Sports разные.\n",
    "\n",
    "- H_0: Пользовательский рейтинг (user_score) жанра Action = пользовательский рейтинг (user_score) жанра Sports  \n",
    "- H_a: Пользовательский рейтинг (user_score) жанра Action ≠ пользовательский рейтинг (user_score) жанра Sports\n",
    "- исходим из того, выборки разного размера и можно предположить, что дисперсии у генеральных совокупностей разные.\n",
    "- берем актуальный период с 2012 по 2016 годы\n",
    "\n",
    "alpha = 0.05"
   ]
  },
  {
   "cell_type": "code",
   "execution_count": 58,
   "id": "655f011a",
   "metadata": {},
   "outputs": [
    {
     "name": "stdout",
     "output_type": "stream",
     "text": [
      "p-значение: 4.24307776572644e-20\n",
      "Отвергаем нулевую гипотезу\n"
     ]
    }
   ],
   "source": [
    "action_score = games_12_16.loc[(games_12_16.genre == 'Action') & (games_12_16['user_score'] > 0)]['user_score']\n",
    "\n",
    "sports_score = games_12_16.loc[(games_12_16.genre == 'Sports') & (games_12_16['user_score'] > 0)]['user_score']\n",
    "\n",
    "results = st.ttest_ind(\n",
    "    action_score, \n",
    "    sports_score,\n",
    "    equal_var=False)\n",
    "\n",
    "alpha = .05\n",
    "\n",
    "print('p-значение:', results.pvalue)\n",
    "\n",
    "if results.pvalue < alpha:\n",
    "    print(\"Отвергаем нулевую гипотезу\")\n",
    "else:\n",
    "    print(\"Не получилось отвергнуть нулевую гипотезу\")"
   ]
  },
  {
   "cell_type": "markdown",
   "id": "a07f58e4",
   "metadata": {},
   "source": [
    "Проверив H_0 о равенстве средних двух генеральных совокупностей подтвердил нулевую гипотезу, это значит, что средний пользовательский рейтинг жанров Action и Sports значимо различаюся."
   ]
  },
  {
   "cell_type": "markdown",
   "id": "fb75dcfd",
   "metadata": {},
   "source": [
    "## Вывод\n",
    "\n",
    "###### Предобработка данных\n",
    "- Был проведен анализ базы данных продаж компьютерных игр за период с 1980 по 2016 годы.\n",
    "- Массив данных был очищен от строк без указания названия игр, без года выпуска.\n",
    "- Значение tbd были заменены на NaN в User_Score есть \n",
    "- остальные пропуски решено оставить, т.к. нет единого механизма замены в оценках.\n",
    "- названия Columns были приведены к единому стилю\n",
    "- объединены рейтинги КА и Е в соответствии со сменой маркировки.\n",
    "\n",
    "###### Исследование\n",
    "- проведено исследование поколичеству продаж игр по годам. Выявлены 4 основных периода:\n",
    "    - с 1980 по 1996 - медленный рост\n",
    "    - с 1996 по 2005 - средний рост\n",
    "    - с 2006 по 2011 - взрывной рост и пик продаж\n",
    "    - с 2012 по 2016 - стабилизация рынка.\n",
    "- периоды связаны с развитием компьютерной техники и развитием процессоров, а следовательно и сложности и цены игр.\n",
    "- жизненный цикл платформы от 5 до 10 лет - это связано с развитием процессоров и локализацией платформ, часть платформ ушла в онлайн.\n",
    "- Для дальнейшего иссследования выделен актуальный для внвлиза период с 2012 по 2016 годы, когда рынок игр приобрел современные черты и стабилизоровался.\n",
    "- исследованы платформы для игр - PC постепенно уступил место игровым причтавкам и консолям. Лидирующие позиции занимают 2 платформы:\n",
    "    - PS во всех вариациях\n",
    "    - Xbox во всех вариациях\n",
    "    - есть локальные рынки с преобладанием других платформ - Япония и Nindendo\n",
    "- в актуальном периоде проведена аналитика по регионам продаж, основной рынок делят производителя платформ.\n",
    "- Продажи тотал в среднем немного превышают 1 млн. Более миллиона Х360, PS3, PS4, XOne, Wii и WiiU.\n",
    "- Среднее значение проданных копий игр по ТОП-5 платформам колеблется в пределах 0,6 - 0,8 млн. По всем платформам медиана около 0,2 млн копий.\n",
    "- влияние рейтингов на продажи игр:\n",
    "    - На продажи влияют рейтинги экспертов.\n",
    "    - рейтинги пользователей маеньше влияют на продажи\n",
    "    - у новых платформ PS4 и XOne влияние пользовательского рейтинга не так сильно выражено, как влияние рейтинга экспертов.\n",
    "    - Коэффициент корелляции продаж и рейтинга пользователя: 0.004\n",
    "    - Коэффициент корелляции продаж и рейтинга критиков: 0.308\n",
    "- проведено исследование по жанрам и их доходности:\n",
    "    - рынки Америки, Европы и прочие очень похожи по структуре продаж жанров\n",
    "    - Рынок Японии существенно отличается по жанрам\n",
    "    - самые продаваемые жанры в мире Action (441.12),Shooter (304.73) и Role-Playing (192.80).\n",
    "- исследованы портреты пользователей разных регионов:\n",
    "    - пользователь Северной Америки:\n",
    "        - платформы  X360, PlayStation (PS3 и PS4), XOne, 3DS.\n",
    "        - жанры по количеству продаж - Action (30%) и Shooter (24,5%)\n",
    "    - Пользователь Европы поход на американского:\n",
    "        - платформы PlayStation (PS3 и PS4), X360 и XOne, 3DS.\n",
    "        - жанры по количеству продаж - Action (31,43%) и Shooter (22,4%)\n",
    "    - Пользователь Японии - особый рынок по сравнению со всеми\n",
    "        - платформы Nintendo 3DS с большим отрывом, PlayStation (PS3, PS4 и PSV) \n",
    "        - Большая доля портативных консолей от Nintendo (3DS) и PlayStation (PSV) - более 50%\n",
    "        - жанры по количеству продаж - Role-Playing (34%) и Action (27,5%).\n",
    "    - Прочие регионы повторяют рынок Северной Америки и Европы.\n",
    "- Исследовано влияние рейтингов ESRB:\n",
    "    - Северная Америка и Европа -  игры для взрослых и всей семьи.\n",
    "    - Япония - для всей семьи и подростковые\n",
    "    - Остальные страны - рынок схож с североамериканским и европейским.\n",
    "\n",
    "##### Были проверены следующие гипотезы:\n",
    "\n",
    "- Средние пользовательские рейтинги платформ Xbox One и PC одинаковые - гипотеза не отвергнута\n",
    "- Средние пользовательские рейтинги жанров Action и Sports разные - гипотеза не отвергнута\n"
   ]
  },
  {
   "cell_type": "code",
   "execution_count": null,
   "id": "a4179859",
   "metadata": {},
   "outputs": [],
   "source": []
  }
 ],
 "metadata": {
  "ExecuteTimeLog": [
   {
    "duration": 1249,
    "start_time": "2022-11-03T04:02:38.942Z"
   },
   {
    "duration": 117,
    "start_time": "2022-11-03T04:02:40.193Z"
   },
   {
    "duration": 0,
    "start_time": "2022-11-03T04:02:40.312Z"
   },
   {
    "duration": 0,
    "start_time": "2022-11-03T04:02:40.313Z"
   },
   {
    "duration": 0,
    "start_time": "2022-11-03T04:02:40.314Z"
   },
   {
    "duration": 8,
    "start_time": "2022-11-03T04:02:40.435Z"
   },
   {
    "duration": 8,
    "start_time": "2022-11-03T04:02:41.396Z"
   },
   {
    "duration": 112,
    "start_time": "2022-11-03T04:03:21.114Z"
   },
   {
    "duration": 64,
    "start_time": "2022-11-03T04:03:28.434Z"
   },
   {
    "duration": 15,
    "start_time": "2022-11-03T04:03:29.434Z"
   },
   {
    "duration": 50,
    "start_time": "2022-11-03T04:03:30.875Z"
   },
   {
    "duration": 27,
    "start_time": "2022-11-03T04:03:31.452Z"
   },
   {
    "duration": 10,
    "start_time": "2022-11-03T04:03:31.858Z"
   },
   {
    "duration": 4,
    "start_time": "2022-11-03T04:03:33.595Z"
   },
   {
    "duration": 7,
    "start_time": "2022-11-03T04:03:34.329Z"
   },
   {
    "duration": 6,
    "start_time": "2022-11-03T04:03:34.650Z"
   },
   {
    "duration": 6,
    "start_time": "2022-11-03T04:03:35.128Z"
   },
   {
    "duration": 5,
    "start_time": "2022-11-03T04:03:35.482Z"
   },
   {
    "duration": 7,
    "start_time": "2022-11-03T04:03:35.818Z"
   },
   {
    "duration": 14,
    "start_time": "2022-11-03T04:03:35.969Z"
   },
   {
    "duration": 8,
    "start_time": "2022-11-03T04:03:36.128Z"
   },
   {
    "duration": 27,
    "start_time": "2022-11-03T04:03:36.419Z"
   },
   {
    "duration": 47,
    "start_time": "2022-11-03T04:04:48.745Z"
   },
   {
    "duration": 8,
    "start_time": "2022-11-03T04:04:54.122Z"
   },
   {
    "duration": 4,
    "start_time": "2022-11-03T04:05:33.791Z"
   },
   {
    "duration": 23,
    "start_time": "2022-11-03T04:06:50.218Z"
   },
   {
    "duration": 15,
    "start_time": "2022-11-03T04:07:11.742Z"
   },
   {
    "duration": 14,
    "start_time": "2022-11-03T04:07:18.611Z"
   },
   {
    "duration": 25,
    "start_time": "2022-11-03T04:07:24.473Z"
   }
  ],
  "celltoolbar": "Необработанный формат ячейки",
  "kernelspec": {
   "display_name": "Python 3 (ipykernel)",
   "language": "python",
   "name": "python3"
  },
  "language_info": {
   "codemirror_mode": {
    "name": "ipython",
    "version": 3
   },
   "file_extension": ".py",
   "mimetype": "text/x-python",
   "name": "python",
   "nbconvert_exporter": "python",
   "pygments_lexer": "ipython3",
   "version": "3.10.7"
  },
  "toc": {
   "base_numbering": 1,
   "nav_menu": {},
   "number_sections": true,
   "sideBar": true,
   "skip_h1_title": true,
   "title_cell": "Table of Contents",
   "title_sidebar": "Contents",
   "toc_cell": false,
   "toc_position": {},
   "toc_section_display": true,
   "toc_window_display": false
  }
 },
 "nbformat": 4,
 "nbformat_minor": 5
}
