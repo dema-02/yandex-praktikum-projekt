{
 "cells": [
  {
   "cell_type": "markdown",
   "metadata": {},
   "source": [
    "## Дашборд\n",
    "\n",
    "#### Набор №1\n",
    "\n",
    "1. Постройте **диаграмму количества покупок по д**ням.\n",
    "2. Добавьте индикатор количества покупателей.\n",
    "3. Добавьте фильтр дашборда по дате совершения покупки.\n",
    "\n",
    "#### Набор №2\n",
    "\n",
    "1. Постройте диаграмму, отображающую сумму покупок по дням.\n",
    "2. Постройте гистограмму, отображающую распределение заказов по сумме.\n",
    "3. Добавьте фильтр дашборда по дате совершения покупки.\n",
    "\n",
    "##### Выбран набор 2.\n",
    "\n",
    "#### Дашборд [Показатели интернет-магазина общий](https://public.tableau.com/app/profile/.67426837/viz/_16785279070080/Dashboard2?publish=yes)\n",
    "\n",
    "PS: Мне он показался скучным,  я сделал свой вариант: \n",
    "[Показателии нтернет-магазина с учетом категорий и кластеров](https://public.tableau.com/app/profile/.67426837/viz/_16783517102310/Dashboard1)"
   ]
  },
  {
   "cell_type": "markdown",
   "metadata": {},
   "source": []
  }
 ],
 "metadata": {
  "kernelspec": {
   "display_name": "Python 3 (ipykernel)",
   "language": "python",
   "name": "python3"
  },
  "language_info": {
   "codemirror_mode": {
    "name": "ipython",
    "version": 3
   },
   "file_extension": ".py",
   "mimetype": "text/x-python",
   "name": "python",
   "nbconvert_exporter": "python",
   "pygments_lexer": "ipython3",
   "version": "3.10.10"
  },
  "toc": {
   "base_numbering": 1,
   "nav_menu": {},
   "number_sections": true,
   "sideBar": true,
   "skip_h1_title": true,
   "title_cell": "Table of Contents",
   "title_sidebar": "Contents",
   "toc_cell": false,
   "toc_position": {},
   "toc_section_display": true,
   "toc_window_display": false
  }
 },
 "nbformat": 4,
 "nbformat_minor": 2
}
